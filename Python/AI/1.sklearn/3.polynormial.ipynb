{
 "cells": [
  {
   "cell_type": "code",
   "execution_count": 17,
   "metadata": {},
   "outputs": [
    {
     "data": {
      "text/html": [
       "<div>\n",
       "<style scoped>\n",
       "    .dataframe tbody tr th:only-of-type {\n",
       "        vertical-align: middle;\n",
       "    }\n",
       "\n",
       "    .dataframe tbody tr th {\n",
       "        vertical-align: top;\n",
       "    }\n",
       "\n",
       "    .dataframe thead th {\n",
       "        text-align: right;\n",
       "    }\n",
       "</style>\n",
       "<table border=\"1\" class=\"dataframe\">\n",
       "  <thead>\n",
       "    <tr style=\"text-align: right;\">\n",
       "      <th></th>\n",
       "      <th>일자</th>\n",
       "      <th>신장</th>\n",
       "      <th>몸무게</th>\n",
       "    </tr>\n",
       "  </thead>\n",
       "  <tbody>\n",
       "    <tr>\n",
       "      <th>0</th>\n",
       "      <td>20140106</td>\n",
       "      <td>185.500</td>\n",
       "      <td>73.200</td>\n",
       "    </tr>\n",
       "    <tr>\n",
       "      <th>1</th>\n",
       "      <td>2013</td>\n",
       "      <td>167.200</td>\n",
       "      <td>65.100</td>\n",
       "    </tr>\n",
       "    <tr>\n",
       "      <th>2</th>\n",
       "      <td>20140106</td>\n",
       "      <td>179.900</td>\n",
       "      <td>93.200</td>\n",
       "    </tr>\n",
       "    <tr>\n",
       "      <th>3</th>\n",
       "      <td>2013</td>\n",
       "      <td>171.400</td>\n",
       "      <td>71.600</td>\n",
       "    </tr>\n",
       "    <tr>\n",
       "      <th>4</th>\n",
       "      <td>20140106</td>\n",
       "      <td>176.900</td>\n",
       "      <td>67.100</td>\n",
       "    </tr>\n",
       "    <tr>\n",
       "      <th>...</th>\n",
       "      <td>...</td>\n",
       "      <td>...</td>\n",
       "      <td>...</td>\n",
       "    </tr>\n",
       "    <tr>\n",
       "      <th>167978</th>\n",
       "      <td>20170131</td>\n",
       "      <td>173.2 cm</td>\n",
       "      <td>73.7 kg</td>\n",
       "    </tr>\n",
       "    <tr>\n",
       "      <th>167979</th>\n",
       "      <td>20170131</td>\n",
       "      <td>166.3 cm</td>\n",
       "      <td>70.7 kg</td>\n",
       "    </tr>\n",
       "    <tr>\n",
       "      <th>167980</th>\n",
       "      <td>20170131</td>\n",
       "      <td>175.2 cm</td>\n",
       "      <td>78.7 kg</td>\n",
       "    </tr>\n",
       "    <tr>\n",
       "      <th>167981</th>\n",
       "      <td>20170131</td>\n",
       "      <td>173.6 cm</td>\n",
       "      <td>57.4 kg</td>\n",
       "    </tr>\n",
       "    <tr>\n",
       "      <th>167982</th>\n",
       "      <td>20170131</td>\n",
       "      <td>175.8 cm</td>\n",
       "      <td>51.7 kg</td>\n",
       "    </tr>\n",
       "  </tbody>\n",
       "</table>\n",
       "<p>167983 rows × 3 columns</p>\n",
       "</div>"
      ],
      "text/plain": [
       "              일자        신장      몸무게\n",
       "0       20140106   185.500   73.200\n",
       "1           2013   167.200   65.100\n",
       "2       20140106   179.900   93.200\n",
       "3           2013   171.400   71.600\n",
       "4       20140106   176.900   67.100\n",
       "...          ...       ...      ...\n",
       "167978  20170131  173.2 cm  73.7 kg\n",
       "167979  20170131  166.3 cm  70.7 kg\n",
       "167980  20170131  175.2 cm  78.7 kg\n",
       "167981  20170131  173.6 cm  57.4 kg\n",
       "167982  20170131  175.8 cm  51.7 kg\n",
       "\n",
       "[167983 rows x 3 columns]"
      ]
     },
     "execution_count": 17,
     "metadata": {},
     "output_type": "execute_result"
    }
   ],
   "source": [
    "import pandas as pd\n",
    "\n",
    "# 1. 데이터 준비\n",
    "\n",
    "names = ['순번', '일자', '가슴둘레', '소매길이', '신장', '샅높이','허리둘레', '머리둘레', '발길이', '몸무게']\n",
    "df = pd.read_csv('./data/army_data.csv', encoding='cp949', names=names, header=0, low_memory=False)\n",
    "df = df[['일자', '신장', '몸무게']]\n",
    "df"
   ]
  },
  {
   "cell_type": "code",
   "execution_count": 18,
   "metadata": {},
   "outputs": [
    {
     "data": {
      "text/html": [
       "<div>\n",
       "<style scoped>\n",
       "    .dataframe tbody tr th:only-of-type {\n",
       "        vertical-align: middle;\n",
       "    }\n",
       "\n",
       "    .dataframe tbody tr th {\n",
       "        vertical-align: top;\n",
       "    }\n",
       "\n",
       "    .dataframe thead th {\n",
       "        text-align: right;\n",
       "    }\n",
       "</style>\n",
       "<table border=\"1\" class=\"dataframe\">\n",
       "  <thead>\n",
       "    <tr style=\"text-align: right;\">\n",
       "      <th></th>\n",
       "      <th>일자</th>\n",
       "      <th>신장</th>\n",
       "      <th>몸무게</th>\n",
       "    </tr>\n",
       "  </thead>\n",
       "  <tbody>\n",
       "    <tr>\n",
       "      <th>0</th>\n",
       "      <td>20140106</td>\n",
       "      <td>185.500</td>\n",
       "      <td>73.200</td>\n",
       "    </tr>\n",
       "    <tr>\n",
       "      <th>1</th>\n",
       "      <td>2013</td>\n",
       "      <td>167.200</td>\n",
       "      <td>65.100</td>\n",
       "    </tr>\n",
       "    <tr>\n",
       "      <th>2</th>\n",
       "      <td>20140106</td>\n",
       "      <td>179.900</td>\n",
       "      <td>93.200</td>\n",
       "    </tr>\n",
       "    <tr>\n",
       "      <th>3</th>\n",
       "      <td>2013</td>\n",
       "      <td>171.400</td>\n",
       "      <td>71.600</td>\n",
       "    </tr>\n",
       "    <tr>\n",
       "      <th>4</th>\n",
       "      <td>20140106</td>\n",
       "      <td>176.900</td>\n",
       "      <td>67.100</td>\n",
       "    </tr>\n",
       "    <tr>\n",
       "      <th>...</th>\n",
       "      <td>...</td>\n",
       "      <td>...</td>\n",
       "      <td>...</td>\n",
       "    </tr>\n",
       "    <tr>\n",
       "      <th>167978</th>\n",
       "      <td>20170131</td>\n",
       "      <td>173.2 cm</td>\n",
       "      <td>73.7 kg</td>\n",
       "    </tr>\n",
       "    <tr>\n",
       "      <th>167979</th>\n",
       "      <td>20170131</td>\n",
       "      <td>166.3 cm</td>\n",
       "      <td>70.7 kg</td>\n",
       "    </tr>\n",
       "    <tr>\n",
       "      <th>167980</th>\n",
       "      <td>20170131</td>\n",
       "      <td>175.2 cm</td>\n",
       "      <td>78.7 kg</td>\n",
       "    </tr>\n",
       "    <tr>\n",
       "      <th>167981</th>\n",
       "      <td>20170131</td>\n",
       "      <td>173.6 cm</td>\n",
       "      <td>57.4 kg</td>\n",
       "    </tr>\n",
       "    <tr>\n",
       "      <th>167982</th>\n",
       "      <td>20170131</td>\n",
       "      <td>175.8 cm</td>\n",
       "      <td>51.7 kg</td>\n",
       "    </tr>\n",
       "  </tbody>\n",
       "</table>\n",
       "<p>167983 rows × 3 columns</p>\n",
       "</div>"
      ],
      "text/plain": [
       "              일자        신장      몸무게\n",
       "0       20140106   185.500   73.200\n",
       "1           2013   167.200   65.100\n",
       "2       20140106   179.900   93.200\n",
       "3           2013   171.400   71.600\n",
       "4       20140106   176.900   67.100\n",
       "...          ...       ...      ...\n",
       "167978  20170131  173.2 cm  73.7 kg\n",
       "167979  20170131  166.3 cm  70.7 kg\n",
       "167980  20170131  175.2 cm  78.7 kg\n",
       "167981  20170131  173.6 cm  57.4 kg\n",
       "167982  20170131  175.8 cm  51.7 kg\n",
       "\n",
       "[167983 rows x 3 columns]"
      ]
     },
     "execution_count": 18,
     "metadata": {},
     "output_type": "execute_result"
    }
   ],
   "source": [
    "# 결측치 제거\n",
    "df.dropna(inplace=True)\n",
    "df"
   ]
  },
  {
   "cell_type": "code",
   "execution_count": 19,
   "metadata": {},
   "outputs": [],
   "source": [
    "# 일자 뒤에 4자리 자르기\n",
    "df['일자'] = list(map(lambda x: int(str(x)[:4]) if len(str(x)) > 4 else x, df['일자']))"
   ]
  },
  {
   "cell_type": "code",
   "execution_count": 20,
   "metadata": {},
   "outputs": [],
   "source": [
    "# 신장을 float으로 바꾸기 (cm도 바꾸기)\n",
    "df['신장'] = list(map(lambda x: float(str(x).split(' ')[0]), df['신장']))"
   ]
  },
  {
   "cell_type": "code",
   "execution_count": 21,
   "metadata": {},
   "outputs": [],
   "source": [
    "# 몸무게를 float으로 바꾸기 (kg 제거)\n",
    "df['몸무게'] = list(map(lambda x: str(x).split(' ')[0], df['몸무게']))\n",
    "# 빈값 존재\n",
    "df['몸무게'] = list(map(lambda x: float(x) if x else None, df['몸무게']))\n",
    "df.dropna(inplace = True)"
   ]
  },
  {
   "cell_type": "code",
   "execution_count": 22,
   "metadata": {},
   "outputs": [],
   "source": [
    "# 연도별로 나눠서 해보기\n",
    "df['date_new'] = df['일자'].map({2013 : 0, 2014 : 1, 2015 : 2, 2016 : 3, 2017: 4})\n",
    "# df['date_new'] = list(map(lambda x: 0 if x == 2013 else 1 if x == 2014 else 2 if x == 2015 else 3 if x == 2016 else 4, df['date']))"
   ]
  },
  {
   "cell_type": "code",
   "execution_count": 23,
   "metadata": {},
   "outputs": [],
   "source": [
    "X = df[['몸무게', 'date_new']]  # reshape 할 필요 x\n",
    "y = df['신장']"
   ]
  },
  {
   "cell_type": "code",
   "execution_count": 26,
   "metadata": {},
   "outputs": [],
   "source": [
    "from sklearn.preprocessing import PolynomialFeatures\n",
    "\n",
    "# PolynormialFeatures(다항회귀) : 특성이 두 개, 특성을 곱해서 다차원으로 바꾸자.\n",
    "# [1, a, b, a^2, ab, b^2]\n",
    "\n",
    "poly = PolynomialFeatures()\n",
    "X = poly.fit(X).transform(X)"
   ]
  },
  {
   "cell_type": "code",
   "execution_count": 27,
   "metadata": {},
   "outputs": [
    {
     "data": {
      "text/plain": [
       "array([174.91721837])"
      ]
     },
     "execution_count": 27,
     "metadata": {},
     "output_type": "execute_result"
    }
   ],
   "source": [
    "from sklearn.model_selection import train_test_split\n",
    "from sklearn.linear_model import LinearRegression\n",
    "import numpy as np\n",
    "\n",
    "train_X, test_X, train_y, test_y = train_test_split(X, y, test_size=0.3, random_state=1)\n",
    "linear = LinearRegression()\n",
    "linear.fit(train_X, train_y)\n",
    "predict = linear.predict(test_X)\n",
    "linear.predict(poly.fit(np.array([[70, 0]])).transform(np.array([[70,0]])))"
   ]
  },
  {
   "cell_type": "code",
   "execution_count": 28,
   "metadata": {},
   "outputs": [
    {
     "data": {
      "image/png": "[encoded data removed]",
      "text/plain": [
       "<Figure size 432x288 with 1 Axes>"
      ]
     },
     "metadata": {
      "needs_background": "light"
     },
     "output_type": "display_data"
    }
   ],
   "source": [
    "import matplotlib.pyplot as plt\n",
    "\n",
    "plt.plot(test_X, test_y, 'b.')\n",
    "plt.plot(test_X, predict, 'r.')\n",
    "plt.xlim(20, 150)\n",
    "plt.ylim(150, 220)\n",
    "plt.grid()"
   ]
  },
  {
   "cell_type": "code",
   "execution_count": null,
   "metadata": {},
   "outputs": [],
   "source": []
  }
 ],
 "metadata": {
  "interpreter": {
   "hash": "47c00f2dabcd328656fe610b1d5d1f6fa6720cd6b1369c77e57292059c9fb10d"
  },
  "kernelspec": {
   "display_name": "Python 3.9.7 ('ai')",
   "language": "python",
   "name": "python3"
  },
  "language_info": {
   "codemirror_mode": {
    "name": "ipython",
    "version": 3
   },
   "file_extension": ".py",
   "mimetype": "text/x-python",
   "name": "python",
   "nbconvert_exporter": "python",
   "pygments_lexer": "ipython3",
   "version": "3.9.7"
  },
  "orig_nbformat": 4
 },
 "nbformat": 4,
 "nbformat_minor": 2
}
