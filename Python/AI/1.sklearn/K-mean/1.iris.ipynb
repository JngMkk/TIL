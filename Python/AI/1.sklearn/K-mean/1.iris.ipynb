{
 "cells": [
  {
   "cell_type": "code",
   "execution_count": 1,
   "metadata": {},
   "outputs": [],
   "source": [
    "# K-mean (군집)\n",
    "\n",
    "# k개의 중심(centroid)을 랜덤으로 지정\n",
    "# 각 데이터들을 가장 가까운 그룹(cluster)에 할당\n",
    "# 위의 단계를 반복하여 변경되는 데이터가 없을 때 까지 반복\n",
    "\n",
    "# 각 데이터의 그룹과 중심의 거리 차이의 분산을 최소화\n",
    "\n",
    "\n",
    "# loss function\n",
    "\n",
    "# MSE\n",
    "# Mean Squared Error\n",
    "# h와 y의 차이를 제곱해서 비교\n",
    "\n",
    "# MAE\n",
    "# Mean Absolute Error\n",
    "# h와 y의 차이를 절대값으로 비교\n",
    "\n",
    "# Cross-Entropy\n",
    "# q(실제 분포)를 알지 못하는 상황에서 p(예측 분포)를 통해 q를 예측\n",
    "\n",
    "\n",
    "# optimizer\n",
    "\n",
    "# Gradient Descent : 경사 하강법 GD Momentum\n",
    "\n",
    "# Momentum : 관성 SGD NAG\n",
    "\n",
    "# Adam : Momentum + RMSProp Adagrad Nadam AdaDelta Adam RMSProp"
   ]
  },
  {
   "cell_type": "code",
   "execution_count": 2,
   "metadata": {},
   "outputs": [],
   "source": [
    "from sklearn.datasets import load_iris\n",
    "X = load_iris().data\n",
    "y = load_iris().target"
   ]
  },
  {
   "cell_type": "code",
   "execution_count": 3,
   "metadata": {},
   "outputs": [],
   "source": [
    "from sklearn.model_selection import train_test_split\n",
    "\n",
    "tr_X, ts_X, tr_y, ts_y = train_test_split(X,y,test_size=0.3,random_state=1)"
   ]
  },
  {
   "cell_type": "code",
   "execution_count": 4,
   "metadata": {},
   "outputs": [],
   "source": [
    "from sklearn.cluster import KMeans\n",
    "\n",
    "# 분류하고자 하는 개수 ?\n",
    "KM = KMeans(n_clusters = 3)"
   ]
  },
  {
   "cell_type": "code",
   "execution_count": 5,
   "metadata": {},
   "outputs": [
    {
     "data": {
      "text/plain": [
       "KMeans(n_clusters=3)"
      ]
     },
     "execution_count": 5,
     "metadata": {},
     "output_type": "execute_result"
    }
   ],
   "source": [
    "KM.fit(tr_X)"
   ]
  },
  {
   "cell_type": "code",
   "execution_count": 7,
   "metadata": {},
   "outputs": [
    {
     "name": "stdout",
     "output_type": "stream",
     "text": [
      "[1 0 0 1 2 0 2 1 1 2 0 1 2 0 0 1 0 0 1 1 0 0 2 1 2 0 1 1 0 0 0 2 0 2 0 1 0\n",
      " 1 0 2 2 1 0 2 0]\n"
     ]
    }
   ],
   "source": [
    "pred = KM.predict(ts_X)\n",
    "print(pred)"
   ]
  },
  {
   "cell_type": "code",
   "execution_count": 8,
   "metadata": {},
   "outputs": [
    {
     "data": {
      "text/plain": [
       "<matplotlib.collections.PathCollection at 0x7fb0f8781c40>"
      ]
     },
     "execution_count": 8,
     "metadata": {},
     "output_type": "execute_result"
    },
    {
     "data": {
      "image/png": "[encoded data removed]",
      "text/plain": [
       "<Figure size 432x288 with 1 Axes>"
      ]
     },
     "metadata": {
      "needs_background": "light"
     },
     "output_type": "display_data"
    }
   ],
   "source": [
    "# 어떻게 군집된건지 살펴보자\n",
    "import pandas as pd\n",
    "import matplotlib.pyplot as plt\n",
    "\n",
    "df = pd.DataFrame(ts_X, columns = ['sepal_length', 'sepal_width', 'petal_length', 'petal_width'])\n",
    "df['category'] = pd.DataFrame(pred)\n",
    "\n",
    "centers = pd.DataFrame(KM.cluster_centers_, columns = ['sepal_length', 'sepal_width', 'petal_length', 'petal_width'])\n",
    "center_X = centers['sepal_length']\n",
    "center_y = centers['sepal_width']\n",
    "plt.scatter(df['sepal_length'], df['sepal_width'], c=df['category'])\n",
    "plt.scatter(center_X, center_y, c='r', marker='*')"
   ]
  }
 ],
 "metadata": {
  "interpreter": {
   "hash": "47c00f2dabcd328656fe610b1d5d1f6fa6720cd6b1369c77e57292059c9fb10d"
  },
  "kernelspec": {
   "display_name": "Python 3.9.7 ('ai')",
   "language": "python",
   "name": "python3"
  },
  "language_info": {
   "codemirror_mode": {
    "name": "ipython",
    "version": 3
   },
   "file_extension": ".py",
   "mimetype": "text/x-python",
   "name": "python",
   "nbconvert_exporter": "python",
   "pygments_lexer": "ipython3",
   "version": "3.9.7"
  },
  "orig_nbformat": 4
 },
 "nbformat": 4,
 "nbformat_minor": 2
}
