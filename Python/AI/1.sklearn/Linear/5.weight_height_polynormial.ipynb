{
 "cells": [
  {
   "cell_type": "code",
   "execution_count": 1,
   "metadata": {},
   "outputs": [],
   "source": [
    "from sklearn.model_selection import train_test_split\n",
    "from sklearn.linear_model import LinearRegression\n",
    "from sklearn.preprocessing import PolynomialFeatures\n",
    "import pandas as pd\n",
    "import numpy as np"
   ]
  },
  {
   "cell_type": "code",
   "execution_count": 2,
   "metadata": {},
   "outputs": [
    {
     "data": {
      "text/plain": [
       "9686"
      ]
     },
     "execution_count": 2,
     "metadata": {},
     "output_type": "execute_result"
    }
   ],
   "source": [
    "# 1. 데이터 준비\n",
    "\n",
    "df = pd.read_csv('./data/student_data.csv', encoding='euc-kr')\n",
    "# 학교명, 학년, 성별, 키, 몸무게\n",
    "df = df[['학교명', '학년', '성별', '키', '몸무게']]\n",
    "len(df)"
   ]
  },
  {
   "cell_type": "code",
   "execution_count": 3,
   "metadata": {},
   "outputs": [
    {
     "data": {
      "text/html": [
       "<div>\n",
       "<style scoped>\n",
       "    .dataframe tbody tr th:only-of-type {\n",
       "        vertical-align: middle;\n",
       "    }\n",
       "\n",
       "    .dataframe tbody tr th {\n",
       "        vertical-align: top;\n",
       "    }\n",
       "\n",
       "    .dataframe thead th {\n",
       "        text-align: right;\n",
       "    }\n",
       "</style>\n",
       "<table border=\"1\" class=\"dataframe\">\n",
       "  <thead>\n",
       "    <tr style=\"text-align: right;\">\n",
       "      <th></th>\n",
       "      <th>학교명</th>\n",
       "      <th>학년</th>\n",
       "      <th>성별</th>\n",
       "      <th>키</th>\n",
       "      <th>몸무게</th>\n",
       "    </tr>\n",
       "  </thead>\n",
       "  <tbody>\n",
       "    <tr>\n",
       "      <th>0</th>\n",
       "      <td>서울대도초등학교</td>\n",
       "      <td>1</td>\n",
       "      <td>남</td>\n",
       "      <td>125.8</td>\n",
       "      <td>27.3</td>\n",
       "    </tr>\n",
       "    <tr>\n",
       "      <th>1</th>\n",
       "      <td>서울대도초등학교</td>\n",
       "      <td>1</td>\n",
       "      <td>남</td>\n",
       "      <td>124.3</td>\n",
       "      <td>25.4</td>\n",
       "    </tr>\n",
       "    <tr>\n",
       "      <th>2</th>\n",
       "      <td>서울대도초등학교</td>\n",
       "      <td>1</td>\n",
       "      <td>남</td>\n",
       "      <td>119.2</td>\n",
       "      <td>23.5</td>\n",
       "    </tr>\n",
       "    <tr>\n",
       "      <th>3</th>\n",
       "      <td>서울대도초등학교</td>\n",
       "      <td>1</td>\n",
       "      <td>남</td>\n",
       "      <td>115.0</td>\n",
       "      <td>20.0</td>\n",
       "    </tr>\n",
       "    <tr>\n",
       "      <th>4</th>\n",
       "      <td>서울대도초등학교</td>\n",
       "      <td>1</td>\n",
       "      <td>남</td>\n",
       "      <td>120.0</td>\n",
       "      <td>33.5</td>\n",
       "    </tr>\n",
       "    <tr>\n",
       "      <th>...</th>\n",
       "      <td>...</td>\n",
       "      <td>...</td>\n",
       "      <td>...</td>\n",
       "      <td>...</td>\n",
       "      <td>...</td>\n",
       "    </tr>\n",
       "    <tr>\n",
       "      <th>9681</th>\n",
       "      <td>세종과학고등학교</td>\n",
       "      <td>3</td>\n",
       "      <td>남</td>\n",
       "      <td>176.1</td>\n",
       "      <td>50.4</td>\n",
       "    </tr>\n",
       "    <tr>\n",
       "      <th>9682</th>\n",
       "      <td>세종과학고등학교</td>\n",
       "      <td>3</td>\n",
       "      <td>남</td>\n",
       "      <td>174.1</td>\n",
       "      <td>88.8</td>\n",
       "    </tr>\n",
       "    <tr>\n",
       "      <th>9683</th>\n",
       "      <td>세종과학고등학교</td>\n",
       "      <td>3</td>\n",
       "      <td>남</td>\n",
       "      <td>169.5</td>\n",
       "      <td>63.2</td>\n",
       "    </tr>\n",
       "    <tr>\n",
       "      <th>9684</th>\n",
       "      <td>세종과학고등학교</td>\n",
       "      <td>3</td>\n",
       "      <td>여</td>\n",
       "      <td>159.2</td>\n",
       "      <td>52.9</td>\n",
       "    </tr>\n",
       "    <tr>\n",
       "      <th>9685</th>\n",
       "      <td>세종과학고등학교</td>\n",
       "      <td>3</td>\n",
       "      <td>여</td>\n",
       "      <td>162.0</td>\n",
       "      <td>67.7</td>\n",
       "    </tr>\n",
       "  </tbody>\n",
       "</table>\n",
       "<p>9682 rows × 5 columns</p>\n",
       "</div>"
      ],
      "text/plain": [
       "           학교명  학년 성별      키   몸무게\n",
       "0     서울대도초등학교   1  남  125.8  27.3\n",
       "1     서울대도초등학교   1  남  124.3  25.4\n",
       "2     서울대도초등학교   1  남  119.2  23.5\n",
       "3     서울대도초등학교   1  남  115.0  20.0\n",
       "4     서울대도초등학교   1  남  120.0  33.5\n",
       "...        ...  .. ..    ...   ...\n",
       "9681  세종과학고등학교   3  남  176.1  50.4\n",
       "9682  세종과학고등학교   3  남  174.1  88.8\n",
       "9683  세종과학고등학교   3  남  169.5  63.2\n",
       "9684  세종과학고등학교   3  여  159.2  52.9\n",
       "9685  세종과학고등학교   3  여  162.0  67.7\n",
       "\n",
       "[9682 rows x 5 columns]"
      ]
     },
     "execution_count": 3,
     "metadata": {},
     "output_type": "execute_result"
    }
   ],
   "source": [
    "df.dropna(inplace=True)\n",
    "len(df)\n",
    "df"
   ]
  },
  {
   "cell_type": "code",
   "execution_count": 4,
   "metadata": {},
   "outputs": [
    {
     "data": {
      "text/html": [
       "<div>\n",
       "<style scoped>\n",
       "    .dataframe tbody tr th:only-of-type {\n",
       "        vertical-align: middle;\n",
       "    }\n",
       "\n",
       "    .dataframe tbody tr th {\n",
       "        vertical-align: top;\n",
       "    }\n",
       "\n",
       "    .dataframe thead th {\n",
       "        text-align: right;\n",
       "    }\n",
       "</style>\n",
       "<table border=\"1\" class=\"dataframe\">\n",
       "  <thead>\n",
       "    <tr style=\"text-align: right;\">\n",
       "      <th></th>\n",
       "      <th>학교명</th>\n",
       "      <th>학년</th>\n",
       "      <th>성별</th>\n",
       "      <th>키</th>\n",
       "      <th>몸무게</th>\n",
       "      <th>grade</th>\n",
       "    </tr>\n",
       "  </thead>\n",
       "  <tbody>\n",
       "    <tr>\n",
       "      <th>0</th>\n",
       "      <td>서울대도초등학교</td>\n",
       "      <td>1</td>\n",
       "      <td>남</td>\n",
       "      <td>125.8</td>\n",
       "      <td>27.3</td>\n",
       "      <td>1</td>\n",
       "    </tr>\n",
       "    <tr>\n",
       "      <th>1</th>\n",
       "      <td>서울대도초등학교</td>\n",
       "      <td>1</td>\n",
       "      <td>남</td>\n",
       "      <td>124.3</td>\n",
       "      <td>25.4</td>\n",
       "      <td>1</td>\n",
       "    </tr>\n",
       "    <tr>\n",
       "      <th>2</th>\n",
       "      <td>서울대도초등학교</td>\n",
       "      <td>1</td>\n",
       "      <td>남</td>\n",
       "      <td>119.2</td>\n",
       "      <td>23.5</td>\n",
       "      <td>1</td>\n",
       "    </tr>\n",
       "    <tr>\n",
       "      <th>3</th>\n",
       "      <td>서울대도초등학교</td>\n",
       "      <td>1</td>\n",
       "      <td>남</td>\n",
       "      <td>115.0</td>\n",
       "      <td>20.0</td>\n",
       "      <td>1</td>\n",
       "    </tr>\n",
       "    <tr>\n",
       "      <th>4</th>\n",
       "      <td>서울대도초등학교</td>\n",
       "      <td>1</td>\n",
       "      <td>남</td>\n",
       "      <td>120.0</td>\n",
       "      <td>33.5</td>\n",
       "      <td>1</td>\n",
       "    </tr>\n",
       "    <tr>\n",
       "      <th>...</th>\n",
       "      <td>...</td>\n",
       "      <td>...</td>\n",
       "      <td>...</td>\n",
       "      <td>...</td>\n",
       "      <td>...</td>\n",
       "      <td>...</td>\n",
       "    </tr>\n",
       "    <tr>\n",
       "      <th>9681</th>\n",
       "      <td>세종과학고등학교</td>\n",
       "      <td>3</td>\n",
       "      <td>남</td>\n",
       "      <td>176.1</td>\n",
       "      <td>50.4</td>\n",
       "      <td>12</td>\n",
       "    </tr>\n",
       "    <tr>\n",
       "      <th>9682</th>\n",
       "      <td>세종과학고등학교</td>\n",
       "      <td>3</td>\n",
       "      <td>남</td>\n",
       "      <td>174.1</td>\n",
       "      <td>88.8</td>\n",
       "      <td>12</td>\n",
       "    </tr>\n",
       "    <tr>\n",
       "      <th>9683</th>\n",
       "      <td>세종과학고등학교</td>\n",
       "      <td>3</td>\n",
       "      <td>남</td>\n",
       "      <td>169.5</td>\n",
       "      <td>63.2</td>\n",
       "      <td>12</td>\n",
       "    </tr>\n",
       "    <tr>\n",
       "      <th>9684</th>\n",
       "      <td>세종과학고등학교</td>\n",
       "      <td>3</td>\n",
       "      <td>여</td>\n",
       "      <td>159.2</td>\n",
       "      <td>52.9</td>\n",
       "      <td>12</td>\n",
       "    </tr>\n",
       "    <tr>\n",
       "      <th>9685</th>\n",
       "      <td>세종과학고등학교</td>\n",
       "      <td>3</td>\n",
       "      <td>여</td>\n",
       "      <td>162.0</td>\n",
       "      <td>67.7</td>\n",
       "      <td>12</td>\n",
       "    </tr>\n",
       "  </tbody>\n",
       "</table>\n",
       "<p>9682 rows × 6 columns</p>\n",
       "</div>"
      ],
      "text/plain": [
       "           학교명  학년 성별      키   몸무게  grade\n",
       "0     서울대도초등학교   1  남  125.8  27.3      1\n",
       "1     서울대도초등학교   1  남  124.3  25.4      1\n",
       "2     서울대도초등학교   1  남  119.2  23.5      1\n",
       "3     서울대도초등학교   1  남  115.0  20.0      1\n",
       "4     서울대도초등학교   1  남  120.0  33.5      1\n",
       "...        ...  .. ..    ...   ...    ...\n",
       "9681  세종과학고등학교   3  남  176.1  50.4     12\n",
       "9682  세종과학고등학교   3  남  174.1  88.8     12\n",
       "9683  세종과학고등학교   3  남  169.5  63.2     12\n",
       "9684  세종과학고등학교   3  여  159.2  52.9     12\n",
       "9685  세종과학고등학교   3  여  162.0  67.7     12\n",
       "\n",
       "[9682 rows x 6 columns]"
      ]
     },
     "execution_count": 4,
     "metadata": {},
     "output_type": "execute_result"
    }
   ],
   "source": [
    "df['grade'] = list(map(lambda x: 0 if x[-4:] == '초등학교' else 6 if x[-3:] == '중학교' else 9, df['학교명'])) + df['학년']\n",
    "# df['grade'] = [0 + j if '초등학교' in i else 6 + j if '중학교' in i else 9 + j for i, j in zip(df['학교명'], df['학년'])]\n",
    "df"
   ]
  },
  {
   "cell_type": "code",
   "execution_count": 5,
   "metadata": {},
   "outputs": [],
   "source": [
    "df.drop(['학교명', '학년'], axis=1, inplace=True)"
   ]
  },
  {
   "cell_type": "code",
   "execution_count": 6,
   "metadata": {},
   "outputs": [
    {
     "data": {
      "text/html": [
       "<div>\n",
       "<style scoped>\n",
       "    .dataframe tbody tr th:only-of-type {\n",
       "        vertical-align: middle;\n",
       "    }\n",
       "\n",
       "    .dataframe tbody tr th {\n",
       "        vertical-align: top;\n",
       "    }\n",
       "\n",
       "    .dataframe thead th {\n",
       "        text-align: right;\n",
       "    }\n",
       "</style>\n",
       "<table border=\"1\" class=\"dataframe\">\n",
       "  <thead>\n",
       "    <tr style=\"text-align: right;\">\n",
       "      <th></th>\n",
       "      <th>gender</th>\n",
       "      <th>height</th>\n",
       "      <th>weight</th>\n",
       "      <th>grade</th>\n",
       "    </tr>\n",
       "  </thead>\n",
       "  <tbody>\n",
       "    <tr>\n",
       "      <th>0</th>\n",
       "      <td>남</td>\n",
       "      <td>125.8</td>\n",
       "      <td>27.3</td>\n",
       "      <td>1</td>\n",
       "    </tr>\n",
       "    <tr>\n",
       "      <th>1</th>\n",
       "      <td>남</td>\n",
       "      <td>124.3</td>\n",
       "      <td>25.4</td>\n",
       "      <td>1</td>\n",
       "    </tr>\n",
       "    <tr>\n",
       "      <th>2</th>\n",
       "      <td>남</td>\n",
       "      <td>119.2</td>\n",
       "      <td>23.5</td>\n",
       "      <td>1</td>\n",
       "    </tr>\n",
       "    <tr>\n",
       "      <th>3</th>\n",
       "      <td>남</td>\n",
       "      <td>115.0</td>\n",
       "      <td>20.0</td>\n",
       "      <td>1</td>\n",
       "    </tr>\n",
       "    <tr>\n",
       "      <th>4</th>\n",
       "      <td>남</td>\n",
       "      <td>120.0</td>\n",
       "      <td>33.5</td>\n",
       "      <td>1</td>\n",
       "    </tr>\n",
       "    <tr>\n",
       "      <th>...</th>\n",
       "      <td>...</td>\n",
       "      <td>...</td>\n",
       "      <td>...</td>\n",
       "      <td>...</td>\n",
       "    </tr>\n",
       "    <tr>\n",
       "      <th>9681</th>\n",
       "      <td>남</td>\n",
       "      <td>176.1</td>\n",
       "      <td>50.4</td>\n",
       "      <td>12</td>\n",
       "    </tr>\n",
       "    <tr>\n",
       "      <th>9682</th>\n",
       "      <td>남</td>\n",
       "      <td>174.1</td>\n",
       "      <td>88.8</td>\n",
       "      <td>12</td>\n",
       "    </tr>\n",
       "    <tr>\n",
       "      <th>9683</th>\n",
       "      <td>남</td>\n",
       "      <td>169.5</td>\n",
       "      <td>63.2</td>\n",
       "      <td>12</td>\n",
       "    </tr>\n",
       "    <tr>\n",
       "      <th>9684</th>\n",
       "      <td>여</td>\n",
       "      <td>159.2</td>\n",
       "      <td>52.9</td>\n",
       "      <td>12</td>\n",
       "    </tr>\n",
       "    <tr>\n",
       "      <th>9685</th>\n",
       "      <td>여</td>\n",
       "      <td>162.0</td>\n",
       "      <td>67.7</td>\n",
       "      <td>12</td>\n",
       "    </tr>\n",
       "  </tbody>\n",
       "</table>\n",
       "<p>9682 rows × 4 columns</p>\n",
       "</div>"
      ],
      "text/plain": [
       "     gender  height  weight  grade\n",
       "0         남   125.8    27.3      1\n",
       "1         남   124.3    25.4      1\n",
       "2         남   119.2    23.5      1\n",
       "3         남   115.0    20.0      1\n",
       "4         남   120.0    33.5      1\n",
       "...     ...     ...     ...    ...\n",
       "9681      남   176.1    50.4     12\n",
       "9682      남   174.1    88.8     12\n",
       "9683      남   169.5    63.2     12\n",
       "9684      여   159.2    52.9     12\n",
       "9685      여   162.0    67.7     12\n",
       "\n",
       "[9682 rows x 4 columns]"
      ]
     },
     "execution_count": 6,
     "metadata": {},
     "output_type": "execute_result"
    }
   ],
   "source": [
    "df.columns = ['gender', 'height', 'weight', 'grade']\n",
    "df"
   ]
  },
  {
   "cell_type": "code",
   "execution_count": 7,
   "metadata": {},
   "outputs": [],
   "source": [
    "df['gender'] = df['gender'].map({'남' : 0, '여' : 1})"
   ]
  },
  {
   "cell_type": "code",
   "execution_count": 8,
   "metadata": {},
   "outputs": [],
   "source": [
    "X = df[['weight', 'gender']]\n",
    "y = df['height']"
   ]
  },
  {
   "cell_type": "code",
   "execution_count": 9,
   "metadata": {},
   "outputs": [],
   "source": [
    "poly = PolynomialFeatures()\n",
    "X = poly.fit(X).transform(X)"
   ]
  },
  {
   "cell_type": "code",
   "execution_count": 10,
   "metadata": {},
   "outputs": [],
   "source": [
    "# 2. 분할\n",
    "train_X, test_X, train_y, test_y = train_test_split(X, y, test_size = 0.2, random_state=1)"
   ]
  },
  {
   "cell_type": "code",
   "execution_count": 11,
   "metadata": {},
   "outputs": [],
   "source": [
    "# 3. 준비 (모델)\n",
    "linear = LinearRegression()"
   ]
  },
  {
   "cell_type": "code",
   "execution_count": 12,
   "metadata": {},
   "outputs": [
    {
     "data": {
      "text/plain": [
       "LinearRegression()"
      ]
     },
     "execution_count": 12,
     "metadata": {},
     "output_type": "execute_result"
    }
   ],
   "source": [
    "# 4. 학습\n",
    "linear.fit(train_X, train_y)"
   ]
  },
  {
   "cell_type": "code",
   "execution_count": 13,
   "metadata": {},
   "outputs": [
    {
     "data": {
      "text/plain": [
       "(array([[1.00000e+00, 4.26000e+01, 1.00000e+00, 1.81476e+03, 4.26000e+01,\n",
       "         1.00000e+00],\n",
       "        [1.00000e+00, 8.18000e+01, 0.00000e+00, 6.69124e+03, 0.00000e+00,\n",
       "         0.00000e+00],\n",
       "        [1.00000e+00, 5.70000e+01, 0.00000e+00, 3.24900e+03, 0.00000e+00,\n",
       "         0.00000e+00],\n",
       "        ...,\n",
       "        [1.00000e+00, 2.80000e+01, 1.00000e+00, 7.84000e+02, 2.80000e+01,\n",
       "         1.00000e+00],\n",
       "        [1.00000e+00, 7.75000e+01, 0.00000e+00, 6.00625e+03, 0.00000e+00,\n",
       "         0.00000e+00],\n",
       "        [1.00000e+00, 6.41000e+01, 0.00000e+00, 4.10881e+03, 0.00000e+00,\n",
       "         0.00000e+00]]),\n",
       " array([150.31634359, 176.72663991, 166.2280928 , ..., 132.34949354,\n",
       "        176.23595916, 171.12929909]))"
      ]
     },
     "execution_count": 13,
     "metadata": {},
     "output_type": "execute_result"
    }
   ],
   "source": [
    "# 5. 예측 / 평가\n",
    "\n",
    "predict = linear.predict(test_X)\n",
    "test_X, predict"
   ]
  },
  {
   "cell_type": "code",
   "execution_count": 19,
   "metadata": {},
   "outputs": [
    {
     "data": {
      "text/plain": [
       "0.8227041759790438"
      ]
     },
     "execution_count": 19,
     "metadata": {},
     "output_type": "execute_result"
    }
   ],
   "source": [
    "acc = linear.score(test_X, test_y)\n",
    "acc"
   ]
  },
  {
   "cell_type": "code",
   "execution_count": 14,
   "metadata": {},
   "outputs": [
    {
     "data": {
      "image/png": "[encoded data removed]",
      "text/plain": [
       "<Figure size 432x288 with 1 Axes>"
      ]
     },
     "metadata": {
      "needs_background": "light"
     },
     "output_type": "display_data"
    }
   ],
   "source": [
    "import matplotlib.pyplot as plt\n",
    "\n",
    "plt.plot(test_X, test_y, 'b.')\n",
    "plt.plot(test_X, predict, 'r.')\n",
    "plt.xlim(10, 130)\n",
    "plt.ylim(80, 220)\n",
    "plt.grid()"
   ]
  }
 ],
 "metadata": {
  "interpreter": {
   "hash": "47c00f2dabcd328656fe610b1d5d1f6fa6720cd6b1369c77e57292059c9fb10d"
  },
  "kernelspec": {
   "display_name": "Python 3.9.7 ('ai')",
   "language": "python",
   "name": "python3"
  },
  "language_info": {
   "codemirror_mode": {
    "name": "ipython",
    "version": 3
   },
   "file_extension": ".py",
   "mimetype": "text/x-python",
   "name": "python",
   "nbconvert_exporter": "python",
   "pygments_lexer": "ipython3",
   "version": "3.9.7"
  },
  "orig_nbformat": 4
 },
 "nbformat": 4,
 "nbformat_minor": 2
}
