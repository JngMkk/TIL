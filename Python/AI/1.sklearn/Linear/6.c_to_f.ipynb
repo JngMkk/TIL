{
 "cells": [
  {
   "cell_type": "code",
   "execution_count": 3,
   "metadata": {},
   "outputs": [],
   "source": [
    "import numpy as np\n",
    "\n",
    "\n",
    "def CtoF(Ctemp):\n",
    "    Ftemp = 9 / 5 * Ctemp + 32\n",
    "    return Ftemp\n",
    "\n",
    "data_C = np.array(range(0, 100))\n",
    "data_F = CtoF(data_C)\n",
    "\n",
    "inp = int(input('섭씨 온도를 입력해 주세요 : '))"
   ]
  },
  {
   "cell_type": "code",
   "execution_count": 4,
   "metadata": {},
   "outputs": [
    {
     "name": "stdout",
     "output_type": "stream",
     "text": [
      "섭씨 온도 : 32 화씨 온도 : 89.6\n"
     ]
    }
   ],
   "source": [
    "print('섭씨 온도 :', inp, '화씨 온도 :', CtoF(inp))"
   ]
  }
 ],
 "metadata": {
  "interpreter": {
   "hash": "47c00f2dabcd328656fe610b1d5d1f6fa6720cd6b1369c77e57292059c9fb10d"
  },
  "kernelspec": {
   "display_name": "Python 3.9.7 ('ai')",
   "language": "python",
   "name": "python3"
  },
  "language_info": {
   "codemirror_mode": {
    "name": "ipython",
    "version": 3
   },
   "file_extension": ".py",
   "mimetype": "text/x-python",
   "name": "python",
   "nbconvert_exporter": "python",
   "pygments_lexer": "ipython3",
   "version": "3.9.7"
  },
  "orig_nbformat": 4
 },
 "nbformat": 4,
 "nbformat_minor": 2
}
