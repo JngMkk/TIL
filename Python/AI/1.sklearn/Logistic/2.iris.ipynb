{
 "cells": [
  {
   "cell_type": "code",
   "execution_count": 18,
   "metadata": {},
   "outputs": [],
   "source": [
    "from sklearn.datasets import load_iris\n",
    "import pandas as pd\n",
    "import numpy as np\n",
    "import matplotlib.pyplot as plt"
   ]
  },
  {
   "cell_type": "code",
   "execution_count": 12,
   "metadata": {},
   "outputs": [],
   "source": [
    "# 1. 데이터 준비\n",
    "\n",
    "iris = load_iris()"
   ]
  },
  {
   "cell_type": "code",
   "execution_count": 13,
   "metadata": {},
   "outputs": [
    {
     "name": "stdout",
     "output_type": "stream",
     "text": [
      "['sepal length (cm)', 'sepal width (cm)', 'petal length (cm)', 'petal width (cm)']\n"
     ]
    }
   ],
   "source": [
    "print(iris.feature_names)"
   ]
  },
  {
   "cell_type": "code",
   "execution_count": 14,
   "metadata": {},
   "outputs": [
    {
     "name": "stdout",
     "output_type": "stream",
     "text": [
      "['setosa' 'versicolor' 'virginica']\n"
     ]
    },
    {
     "data": {
      "text/plain": [
       "array([0, 0, 0, 0, 0, 0, 0, 0, 0, 0, 0, 0, 0, 0, 0, 0, 0, 0, 0, 0, 0, 0,\n",
       "       0, 0, 0, 0, 0, 0, 0, 0, 0, 0, 0, 0, 0, 0, 0, 0, 0, 0, 0, 0, 0, 0,\n",
       "       0, 0, 0, 0, 0, 0, 1, 1, 1, 1, 1, 1, 1, 1, 1, 1, 1, 1, 1, 1, 1, 1,\n",
       "       1, 1, 1, 1, 1, 1, 1, 1, 1, 1, 1, 1, 1, 1, 1, 1, 1, 1, 1, 1, 1, 1,\n",
       "       1, 1, 1, 1, 1, 1, 1, 1, 1, 1, 1, 1, 2, 2, 2, 2, 2, 2, 2, 2, 2, 2,\n",
       "       2, 2, 2, 2, 2, 2, 2, 2, 2, 2, 2, 2, 2, 2, 2, 2, 2, 2, 2, 2, 2, 2,\n",
       "       2, 2, 2, 2, 2, 2, 2, 2, 2, 2, 2, 2, 2, 2, 2, 2, 2, 2])"
      ]
     },
     "execution_count": 14,
     "metadata": {},
     "output_type": "execute_result"
    }
   ],
   "source": [
    "# 품종\n",
    "print(iris.target_names)\n",
    "iris.target"
   ]
  },
  {
   "cell_type": "code",
   "execution_count": 27,
   "metadata": {},
   "outputs": [],
   "source": [
    "X = iris.data\n",
    "y = iris.target"
   ]
  },
  {
   "cell_type": "code",
   "execution_count": 16,
   "metadata": {},
   "outputs": [],
   "source": [
    "df = pd.DataFrame(X, columns = ['sepal_length', 'sepal_width', 'petal_length', 'petal_width'])\n",
    "df['category'] = pd.DataFrame(iris.target_names[y].reshape(-1))"
   ]
  },
  {
   "cell_type": "code",
   "execution_count": 21,
   "metadata": {},
   "outputs": [
    {
     "data": {
      "text/plain": [
       "Text(0, 0.5, 'sepal width')"
      ]
     },
     "execution_count": 21,
     "metadata": {},
     "output_type": "execute_result"
    },
    {
     "data": {
      "image/png": "[encoded data removed]",
      "text/plain": [
       "<Figure size 432x288 with 1 Axes>"
      ]
     },
     "metadata": {
      "needs_background": "light"
     },
     "output_type": "display_data"
    }
   ],
   "source": [
    "groups = df.groupby('category')\n",
    "fig, ax = plt.subplots()\n",
    "for name, group in groups:\n",
    "    ax.scatter(group.sepal_length, group.sepal_width, marker='.', label=name)\n",
    "ax.legend()\n",
    "plt.xlabel('sepal length')\n",
    "plt.ylabel('sepal width')"
   ]
  },
  {
   "cell_type": "code",
   "execution_count": 28,
   "metadata": {},
   "outputs": [],
   "source": [
    "# 2. 데이터 분할\n",
    "\n",
    "from sklearn.model_selection import train_test_split\n",
    "\n",
    "train_X, test_X, train_y, test_y = train_test_split(X,y, test_size=0.3, random_state=1)"
   ]
  },
  {
   "cell_type": "code",
   "execution_count": 29,
   "metadata": {},
   "outputs": [],
   "source": [
    "# 3. 모델 준비\n",
    "\n",
    "from sklearn.linear_model import LogisticRegression\n",
    "\n",
    "logistic = LogisticRegression()"
   ]
  },
  {
   "cell_type": "code",
   "execution_count": 30,
   "metadata": {},
   "outputs": [
    {
     "data": {
      "text/plain": [
       "LogisticRegression()"
      ]
     },
     "execution_count": 30,
     "metadata": {},
     "output_type": "execute_result"
    }
   ],
   "source": [
    "# 4. 학습\n",
    "\n",
    "logistic.fit(train_X, train_y)"
   ]
  },
  {
   "cell_type": "code",
   "execution_count": 31,
   "metadata": {},
   "outputs": [
    {
     "name": "stdout",
     "output_type": "stream",
     "text": [
      "[5.8 4.  1.2 0.2] 예측 : setosa // 실제 : setosa\n",
      "[5.1 2.5 3.  1.1] 예측 : versicolor // 실제 : versicolor\n",
      "[6.6 3.  4.4 1.4] 예측 : versicolor // 실제 : versicolor\n",
      "[5.4 3.9 1.3 0.4] 예측 : setosa // 실제 : setosa\n",
      "[7.9 3.8 6.4 2. ] 예측 : virginica // 실제 : virginica\n",
      "[6.3 3.3 4.7 1.6] 예측 : versicolor // 실제 : versicolor\n",
      "[6.9 3.1 5.1 2.3] 예측 : virginica // 실제 : virginica\n",
      "[5.1 3.8 1.9 0.4] 예측 : setosa // 실제 : setosa\n",
      "[4.7 3.2 1.6 0.2] 예측 : setosa // 실제 : setosa\n",
      "[6.9 3.2 5.7 2.3] 예측 : virginica // 실제 : virginica\n",
      "[5.6 2.7 4.2 1.3] 예측 : versicolor // 실제 : versicolor\n",
      "[5.4 3.9 1.7 0.4] 예측 : setosa // 실제 : setosa\n",
      "[7.1 3.  5.9 2.1] 예측 : virginica // 실제 : virginica\n",
      "[6.4 3.2 4.5 1.5] 예측 : versicolor // 실제 : versicolor\n",
      "[6.  2.9 4.5 1.5] 예측 : versicolor // 실제 : versicolor\n",
      "[4.4 3.2 1.3 0.2] 예측 : setosa // 실제 : setosa\n",
      "[5.8 2.6 4.  1.2] 예측 : versicolor // 실제 : versicolor\n",
      "[5.6 3.  4.5 1.5] 예측 : versicolor // 실제 : versicolor\n",
      "[5.4 3.4 1.5 0.4] 예측 : setosa // 실제 : setosa\n",
      "[5.  3.2 1.2 0.2] 예측 : setosa // 실제 : setosa\n",
      "[5.5 2.6 4.4 1.2] 예측 : versicolor // 실제 : versicolor\n",
      "[5.4 3.  4.5 1.5] 예측 : versicolor // 실제 : versicolor\n",
      "[6.7 3.  5.  1.7] 예측 : virginica // 실제 : versicolor\n",
      "[5.  3.5 1.3 0.3] 예측 : setosa // 실제 : setosa\n",
      "[7.2 3.2 6.  1.8] 예측 : virginica // 실제 : virginica\n",
      "[5.7 2.8 4.1 1.3] 예측 : versicolor // 실제 : versicolor\n",
      "[5.5 4.2 1.4 0.2] 예측 : setosa // 실제 : setosa\n",
      "[5.1 3.8 1.5 0.3] 예측 : setosa // 실제 : setosa\n",
      "[6.1 2.8 4.7 1.2] 예측 : versicolor // 실제 : versicolor\n",
      "[6.3 2.5 5.  1.9] 예측 : virginica // 실제 : virginica\n",
      "[6.1 3.  4.6 1.4] 예측 : versicolor // 실제 : versicolor\n",
      "[7.7 3.  6.1 2.3] 예측 : virginica // 실제 : virginica\n",
      "[5.6 2.5 3.9 1.1] 예측 : versicolor // 실제 : versicolor\n",
      "[6.4 2.8 5.6 2.1] 예측 : virginica // 실제 : virginica\n",
      "[5.8 2.8 5.1 2.4] 예측 : virginica // 실제 : virginica\n",
      "[5.3 3.7 1.5 0.2] 예측 : setosa // 실제 : setosa\n",
      "[5.5 2.3 4.  1.3] 예측 : versicolor // 실제 : versicolor\n",
      "[5.2 3.4 1.4 0.2] 예측 : setosa // 실제 : setosa\n",
      "[6.5 2.8 4.6 1.5] 예측 : versicolor // 실제 : versicolor\n",
      "[6.7 2.5 5.8 1.8] 예측 : virginica // 실제 : virginica\n",
      "[6.8 3.  5.5 2.1] 예측 : virginica // 실제 : virginica\n",
      "[5.1 3.5 1.4 0.3] 예측 : setosa // 실제 : setosa\n",
      "[6.  2.2 5.  1.5] 예측 : virginica // 실제 : virginica\n",
      "[6.3 2.9 5.6 1.8] 예측 : virginica // 실제 : virginica\n",
      "[6.6 2.9 4.6 1.3] 예측 : versicolor // 실제 : versicolor\n"
     ]
    },
    {
     "data": {
      "text/plain": [
       "0.9777777777777777"
      ]
     },
     "execution_count": 31,
     "metadata": {},
     "output_type": "execute_result"
    }
   ],
   "source": [
    "# 5. 예측 / 평가\n",
    "\n",
    "pred = logistic.predict(test_X)\n",
    "for i in range(len(test_X)):\n",
    "    print(f'{test_X[i]} 예측 : {iris.target_names[pred[i]]} // 실제 : {iris.target_names[test_y[i]]}')\n",
    "\n",
    "logistic.score(test_X, test_y)"
   ]
  }
 ],
 "metadata": {
  "interpreter": {
   "hash": "47c00f2dabcd328656fe610b1d5d1f6fa6720cd6b1369c77e57292059c9fb10d"
  },
  "kernelspec": {
   "display_name": "Python 3.9.7 ('ai')",
   "language": "python",
   "name": "python3"
  },
  "language_info": {
   "codemirror_mode": {
    "name": "ipython",
    "version": 3
   },
   "file_extension": ".py",
   "mimetype": "text/x-python",
   "name": "python",
   "nbconvert_exporter": "python",
   "pygments_lexer": "ipython3",
   "version": "3.9.7"
  },
  "orig_nbformat": 4
 },
 "nbformat": 4,
 "nbformat_minor": 2
}
