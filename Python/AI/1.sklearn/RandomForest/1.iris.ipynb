{
 "cells": [
  {
   "cell_type": "code",
   "execution_count": 1,
   "metadata": {},
   "outputs": [],
   "source": [
    "# Random Forest\n",
    "# 여러 개의 Decision Tree를 연결 (앙상블)\n",
    "# Bagging(Bootstrap AGGregatING)\n",
    "# 임의의 부분집합(forest) -> 각 decision tree의 결과를 더해서 분류\n",
    "# Ensemble : 여러 개의 모델을 결합하여 결과 도출\n",
    "# Voting 각각 다른 모델들의 결과를 다수결로 선택\n",
    "# Bagging 같은 모델을 여러 개 병렬로 실행하여 선형 결합\n",
    "# Boosting 가벼운 모델을 순차적으로 학습하여 결과 도출"
   ]
  },
  {
   "cell_type": "code",
   "execution_count": 2,
   "metadata": {},
   "outputs": [],
   "source": [
    "from sklearn.datasets import load_iris\n",
    "X = load_iris().data\n",
    "y = load_iris().target"
   ]
  },
  {
   "cell_type": "code",
   "execution_count": 3,
   "metadata": {},
   "outputs": [],
   "source": [
    "from sklearn.model_selection import train_test_split\n",
    "\n",
    "tr_X, ts_X, tr_y, ts_y = train_test_split(X,y,test_size=0.3,random_state=1)"
   ]
  },
  {
   "cell_type": "code",
   "execution_count": 4,
   "metadata": {},
   "outputs": [],
   "source": [
    "from sklearn.ensemble import RandomForestClassifier\n",
    "\n",
    "RF = RandomForestClassifier()"
   ]
  },
  {
   "cell_type": "code",
   "execution_count": 5,
   "metadata": {},
   "outputs": [
    {
     "data": {
      "text/plain": [
       "RandomForestClassifier()"
      ]
     },
     "execution_count": 5,
     "metadata": {},
     "output_type": "execute_result"
    }
   ],
   "source": [
    "RF.fit(tr_X, tr_y)"
   ]
  },
  {
   "cell_type": "code",
   "execution_count": 6,
   "metadata": {},
   "outputs": [
    {
     "name": "stdout",
     "output_type": "stream",
     "text": [
      "[0 1 1 0 2 1 2 0 0 2 1 0 2 1 1 0 1 1 0 0 1 1 2 0 2 1 0 0 1 2 1 2 1 2 2 0 1\n",
      " 0 1 2 2 0 1 2 1]\n"
     ]
    },
    {
     "data": {
      "text/plain": [
       "0.9555555555555556"
      ]
     },
     "execution_count": 6,
     "metadata": {},
     "output_type": "execute_result"
    }
   ],
   "source": [
    "pred = RF.predict(ts_X)\n",
    "print(pred)\n",
    "RF.score(ts_X, ts_y)"
   ]
  }
 ],
 "metadata": {
  "interpreter": {
   "hash": "47c00f2dabcd328656fe610b1d5d1f6fa6720cd6b1369c77e57292059c9fb10d"
  },
  "kernelspec": {
   "display_name": "Python 3.9.7 ('ai')",
   "language": "python",
   "name": "python3"
  },
  "language_info": {
   "codemirror_mode": {
    "name": "ipython",
    "version": 3
   },
   "file_extension": ".py",
   "mimetype": "text/x-python",
   "name": "python",
   "nbconvert_exporter": "python",
   "pygments_lexer": "ipython3",
   "version": "3.9.7"
  },
  "orig_nbformat": 4
 },
 "nbformat": 4,
 "nbformat_minor": 2
}
