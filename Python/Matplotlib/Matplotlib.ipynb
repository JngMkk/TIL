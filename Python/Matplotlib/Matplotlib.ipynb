{
 "cells": [
  {
   "cell_type": "markdown",
   "metadata": {},
   "source": [
    "# matplotlib"
   ]
  },
  {
   "cell_type": "markdown",
   "metadata": {
    "collapsed": true
   },
   "source": [
    "- 시각화 패키지\n",
    "- 파이썬 표준 시각화 도구로 불림\n",
    "- 2D 평면 그래프에 관한 다양한 포맷과 기능 지원\n",
    "- 데이터 분석 결과를 시각화 하는데 필요한 다양한 기능 제공\n",
    "- https://matplotlib.org/"
   ]
  },
  {
   "cell_type": "markdown",
   "metadata": {
    "collapsed": true
   },
   "source": [
    "### 패키지 사용법\n",
    "\n",
    "- matplotlib 주 패키지 사용시 \n",
    "    - import matplotlib as mpl\n",
    "    \n",
    "\n",
    "- pyplot 서브 패키지 사용시 : 주로 사용\n",
    "    - import matplotlib.pyplot as plt\n",
    "\n",
    "\n",
    "- 매직 명령어\n",
    "    - %matplotlib inline \n",
    "    - 주피터 노트북 사용시 노트북 내부에 그림을 표시하도록 지정하는 명령어\n",
    "    "
   ]
  },
  {
   "cell_type": "markdown",
   "metadata": {
    "collapsed": true
   },
   "source": [
    "### 지원 되는 플롯 유형\n",
    "\n",
    "- 라인플롯(line plot) : plot()\n",
    "- 바 차트(bar chart) : bar()\n",
    "- 스캐터플롯(scatter plot) : scatter() \n",
    "- 히스토그램(histogram) : hist()\n",
    "- 박스플롯(box plot) : boxplot()\n",
    "- 파이 차트(pie chart) : pie()\n",
    "- 기타 다양한 유형의 차트/플롯을 지원 : 관련 홈페이지 참고"
   ]
  },
  {
   "cell_type": "code",
   "execution_count": 1,
   "metadata": {},
   "outputs": [],
   "source": [
    "import numpy as np\n",
    "import pandas as pd"
   ]
  },
  {
   "cell_type": "code",
   "execution_count": 2,
   "metadata": {},
   "outputs": [],
   "source": [
    "from IPython.core.interactiveshell import InteractiveShell\n",
    "InteractiveShell.ast_node_interactivity=\"all\""
   ]
  },
  {
   "cell_type": "markdown",
   "metadata": {},
   "source": [
    "**그래프 패키지 모듈 등록**"
   ]
  },
  {
   "cell_type": "code",
   "execution_count": 3,
   "metadata": {},
   "outputs": [],
   "source": [
    "import matplotlib.pyplot as plt \n",
    "%matplotlib inline "
   ]
  },
  {
   "cell_type": "code",
   "execution_count": 4,
   "metadata": {},
   "outputs": [],
   "source": [
    "# 한글 문제\n",
    "# matplotlit의 기본 폰트에서 한글 지원되지 않기 때문에\n",
    "# matplotlib의 폰트 변경 필요\n",
    "\n",
    "import platform\n",
    "\n",
    "from matplotlib import font_manager, rc\n",
    "plt.rcParams['axes.unicode_minus'] = False\n",
    "\n",
    "if platform.system() == 'Darwin':  # 맥OS \n",
    "    rc('font', family='AppleGothic')\n",
    "elif platform.system() == 'Windows':  # 윈도우\n",
    "    path = \"c:/Windows/Fonts/malgun.ttf\"\n",
    "    font_name = font_manager.FontProperties(fname=path).get_name()\n",
    "    rc('font', family=font_name)\n",
    "else:\n",
    "    print('Unknown system...  sorry~~~')"
   ]
  },
  {
   "cell_type": "markdown",
   "metadata": {},
   "source": [
    "### 그래프 용어 정리"
   ]
  },
  {
   "cell_type": "markdown",
   "metadata": {
    "collapsed": true
   },
   "source": [
    "### 1. plt.plot() : 선그래프(line plot)"
   ]
  },
  {
   "cell_type": "markdown",
   "metadata": {
    "collapsed": true
   },
   "source": [
    "### plot 관련 함수 및 속성    \n",
    "- figure(x,y) : 그래프 크기 설정 : 단위 인치\n",
    "- title() : 제목 출력\n",
    "- xlim : x 축 범위\n",
    "- ylim : y 축 범위\n",
    "- xticks():yticks() : 축과 값을 잇는 실선    \n",
    "- legend() : 범례\n",
    "- xlabel() : x축라벨(값)\n",
    "- ylabel() : y축라벨(값)\n",
    "- grid() : 그래프 배경으로 grid 사용 결정 함수"
   ]
  },
  {
   "cell_type": "markdown",
   "metadata": {
    "collapsed": true
   },
   "source": [
    "#### line plot 에서 자주 사용되는 선 모양관련  속성(약자로도 표기 가능)\n",
    "   *  color:c(선색깔)\n",
    "   *  linewidth : lw(선 굵기)\n",
    "   *  linestyle: ls(선스타일)\n",
    "   *  marker:마커 종류\n",
    "   *  markersize : ms(마커크기)\n",
    "   *  markeredgecolor:mec(마커선색깔)\n",
    "   *  markeredgewidth:mew(마커선굵기)\n",
    "   *  markerfacecolor:mfc(마커내부색깔)    "
   ]
  },
  {
   "cell_type": "markdown",
   "metadata": {},
   "source": [
    "#### plt.plot( ) 형식 \n",
    "\n",
    "matplotlib.pyplot.plot(*args, scalex=True, scaley=True, data=None, **kwargs)\n",
    "\n",
    ": *args : x, y 축값을 리스트 형식으로 입력, y축값만 쓰는 경우 x축값은 자동 생성"
   ]
  },
  {
   "cell_type": "markdown",
   "metadata": {},
   "source": [
    "- 기본 plot() 그리기"
   ]
  },
  {
   "cell_type": "code",
   "execution_count": 6,
   "metadata": {
    "scrolled": true
   },
   "outputs": [
    {
     "data": {
      "text/plain": [
       "[<matplotlib.lines.Line2D at 0x1f69d8e4e50>]"
      ]
     },
     "execution_count": 6,
     "metadata": {},
     "output_type": "execute_result"
    },
    {
     "data": {
      "image/png": "[encoded data removed]",
      "text/plain": [
       "<Figure size 432x288 with 1 Axes>"
      ]
     },
     "metadata": {
      "needs_background": "light"
     },
     "output_type": "display_data"
    }
   ],
   "source": [
    "# 기본 plot() 그리기\n",
    "plt.plot([1,4,9,16])\n",
    "plt.show()"
   ]
  },
  {
   "cell_type": "markdown",
   "metadata": {},
   "source": [
    "- 선의 색 지정하기 : plt.plot(*args, color='색상명')"
   ]
  },
  {
   "cell_type": "code",
   "execution_count": 8,
   "metadata": {
    "scrolled": true
   },
   "outputs": [
    {
     "data": {
      "text/plain": [
       "[<matplotlib.lines.Line2D at 0x1f69d9aee50>]"
      ]
     },
     "execution_count": 8,
     "metadata": {},
     "output_type": "execute_result"
    },
    {
     "data": {
      "image/png": "[encoded data removed]",
      "text/plain": [
       "<Figure size 432x288 with 1 Axes>"
      ]
     },
     "metadata": {
      "needs_background": "light"
     },
     "output_type": "display_data"
    }
   ],
   "source": [
    "# 그래프 크기 설정 및 선 색상설정\n",
    "# 색상은 단어로 지정 : color='green'\n",
    "# 데이터\n",
    "x=[0,1,2,3,5,6]\n",
    "y=[1,4,5,8,9,3]\n",
    "plt.plot(x, y, color='green')\n",
    "plt.show()"
   ]
  },
  {
   "cell_type": "markdown",
   "metadata": {},
   "source": [
    "**선스타일(line style)**"
   ]
  },
  {
   "cell_type": "markdown",
   "metadata": {},
   "source": [
    "- marker = "
   ]
  },
  {
   "cell_type": "markdown",
   "metadata": {},
   "source": [
    "- 선스타일 기호 지정"
   ]
  },
  {
   "cell_type": "code",
   "execution_count": 14,
   "metadata": {},
   "outputs": [
    {
     "data": {
      "text/plain": [
       "[<matplotlib.lines.Line2D at 0x1f69de4e190>]"
      ]
     },
     "execution_count": 14,
     "metadata": {},
     "output_type": "execute_result"
    },
    {
     "data": {
      "image/png": "[encoded data removed]",
      "text/plain": [
       "<Figure size 432x288 with 1 Axes>"
      ]
     },
     "metadata": {
      "needs_background": "light"
     },
     "output_type": "display_data"
    },
    {
     "data": {
      "text/plain": [
       "[<matplotlib.lines.Line2D at 0x1f69dea3dc0>]"
      ]
     },
     "execution_count": 14,
     "metadata": {},
     "output_type": "execute_result"
    },
    {
     "data": {
      "image/png": "[encoded data removed]",
      "text/plain": [
       "<Figure size 432x288 with 1 Axes>"
      ]
     },
     "metadata": {
      "needs_background": "light"
     },
     "output_type": "display_data"
    }
   ],
   "source": [
    "# 선 스타일 설정\n",
    "# 색상은 단어로 지정 : color='green'\n",
    "plt.plot(x, y, color='green', linestyle='-.')\n",
    "plt.show()\n",
    "plt.plot(x, y, color = 'blue', linestyle='dashdot')\n",
    "plt.show()\n"
   ]
  },
  {
   "cell_type": "code",
   "execution_count": 19,
   "metadata": {},
   "outputs": [
    {
     "data": {
      "text/plain": [
       "[<matplotlib.lines.Line2D at 0x1f69f025a60>]"
      ]
     },
     "execution_count": 19,
     "metadata": {},
     "output_type": "execute_result"
    },
    {
     "data": {
      "image/png": "[encoded data removed]",
      "text/plain": [
       "<Figure size 432x288 with 1 Axes>"
      ]
     },
     "metadata": {
      "needs_background": "light"
     },
     "output_type": "display_data"
    },
    {
     "data": {
      "text/plain": [
       "[<matplotlib.lines.Line2D at 0x1f69f0a7730>]"
      ]
     },
     "execution_count": 19,
     "metadata": {},
     "output_type": "execute_result"
    },
    {
     "data": {
      "image/png": "[encoded data removed]",
      "text/plain": [
       "<Figure size 432x288 with 1 Axes>"
      ]
     },
     "metadata": {
      "needs_background": "light"
     },
     "output_type": "display_data"
    }
   ],
   "source": [
    "# 색상, 선스타일 설정\n",
    "# 색상은 단어로 지정 : color='green'\n",
    "plt.plot(x, y, color='green', linestyle='dotted')\n",
    "plt.show()\n",
    "plt.plot(x, y, color = 'blue', linestyle=':')\n",
    "plt.show()"
   ]
  },
  {
   "cell_type": "code",
   "execution_count": 20,
   "metadata": {},
   "outputs": [
    {
     "data": {
      "text/plain": [
       "[<matplotlib.lines.Line2D at 0x1f69f10e070>]"
      ]
     },
     "execution_count": 20,
     "metadata": {},
     "output_type": "execute_result"
    },
    {
     "data": {
      "image/png": "[encoded data removed]",
      "text/plain": [
       "<Figure size 432x288 with 1 Axes>"
      ]
     },
     "metadata": {
      "needs_background": "light"
     },
     "output_type": "display_data"
    }
   ],
   "source": [
    "# 색상, 선스타일, 마커 지정\n",
    "plt.plot(x, y, color='green', linestyle='-.', marker='o')"
   ]
  },
  {
   "cell_type": "code",
   "execution_count": 22,
   "metadata": {},
   "outputs": [
    {
     "data": {
      "text/plain": [
       "[<matplotlib.lines.Line2D at 0x1f69f1be550>]"
      ]
     },
     "execution_count": 22,
     "metadata": {},
     "output_type": "execute_result"
    },
    {
     "data": {
      "image/png": "[encoded data removed]",
      "text/plain": [
       "<Figure size 432x288 with 1 Axes>"
      ]
     },
     "metadata": {
      "needs_background": "light"
     },
     "output_type": "display_data"
    }
   ],
   "source": [
    "# 색상, 선스타일, 마커색상, 마커크기 지정\n",
    "\n",
    "# markerfacecolor: 마커 색상\n",
    "# markersize: 마커 크기\n",
    "plt.plot(x,y,color='green',linestyle='-.',marker='o',markerfacecolor='blue',markersize=10)"
   ]
  },
  {
   "cell_type": "code",
   "execution_count": 23,
   "metadata": {},
   "outputs": [
    {
     "data": {
      "text/plain": [
       "[<matplotlib.lines.Line2D at 0x1f69f228310>]"
      ]
     },
     "execution_count": 23,
     "metadata": {},
     "output_type": "execute_result"
    },
    {
     "data": {
      "image/png": "[encoded data removed]",
      "text/plain": [
       "<Figure size 432x288 with 1 Axes>"
      ]
     },
     "metadata": {
      "needs_background": "light"
     },
     "output_type": "display_data"
    }
   ],
   "source": [
    "# 선의 스타일들을 약자로 표시 \n",
    "plt.plot(x,y,c='green',ls='-.',marker='o',mfc='blue',ms=10)"
   ]
  },
  {
   "cell_type": "code",
   "execution_count": 26,
   "metadata": {},
   "outputs": [
    {
     "data": {
      "text/plain": [
       "<Figure size 720x432 with 0 Axes>"
      ]
     },
     "execution_count": 26,
     "metadata": {},
     "output_type": "execute_result"
    },
    {
     "data": {
      "text/plain": [
       "[<matplotlib.lines.Line2D at 0x1f69f340be0>]"
      ]
     },
     "execution_count": 26,
     "metadata": {},
     "output_type": "execute_result"
    },
    {
     "data": {
      "text/plain": [
       "Text(0.5, 1.0, 'fu')"
      ]
     },
     "execution_count": 26,
     "metadata": {},
     "output_type": "execute_result"
    },
    {
     "data": {
      "image/png": "[encoded data removed]",
      "text/plain": [
       "<Figure size 720x432 with 1 Axes>"
      ]
     },
     "metadata": {
      "needs_background": "light"
     },
     "output_type": "display_data"
    }
   ],
   "source": [
    "# 선의 스타일들을 약자로 표시\n",
    "plt.figure(figsize=(10,6))\n",
    "plt.plot(x,y,c='green',ls='-.',marker='o',mfc='blue',ms=10,mec='red')\n",
    "plt.title('fu')\n"
   ]
  },
  {
   "cell_type": "markdown",
   "metadata": {},
   "source": [
    "#### 여러 개의 선그래프를 한 플롯내에 그리기\n",
    "- 여러 데이터를 하나의 그래프에 여러 선 으로 표현\n",
    "- plot()을 선그래프 수만큼 지정하거나, 하나의 plot() 함수 내에 지정하여 호출"
   ]
  },
  {
   "cell_type": "code",
   "execution_count": 25,
   "metadata": {},
   "outputs": [
    {
     "data": {
      "text/plain": [
       "array([0. , 0.2, 0.4, 0.6, 0.8, 1. , 1.2, 1.4, 1.6, 1.8, 2. , 2.2, 2.4,\n",
       "       2.6, 2.8, 3. , 3.2, 3.4, 3.6, 3.8, 4. , 4.2, 4.4, 4.6, 4.8])"
      ]
     },
     "execution_count": 25,
     "metadata": {},
     "output_type": "execute_result"
    },
    {
     "data": {
      "text/plain": [
       "<Figure size 720x432 with 0 Axes>"
      ]
     },
     "execution_count": 25,
     "metadata": {},
     "output_type": "execute_result"
    },
    {
     "data": {
      "text/plain": [
       "Text(0.5, 1.0, '라인 플롯에서 여러개의 선 그리기')"
      ]
     },
     "execution_count": 25,
     "metadata": {},
     "output_type": "execute_result"
    },
    {
     "data": {
      "text/plain": [
       "[<matplotlib.lines.Line2D at 0x1f69f2ec5e0>]"
      ]
     },
     "execution_count": 25,
     "metadata": {},
     "output_type": "execute_result"
    },
    {
     "data": {
      "text/plain": [
       "[<matplotlib.lines.Line2D at 0x1f69f2ecac0>]"
      ]
     },
     "execution_count": 25,
     "metadata": {},
     "output_type": "execute_result"
    },
    {
     "data": {
      "text/plain": [
       "[<matplotlib.lines.Line2D at 0x1f69f2eccd0>]"
      ]
     },
     "execution_count": 25,
     "metadata": {},
     "output_type": "execute_result"
    },
    {
     "data": {
      "image/png": "[encoded data removed]",
      "text/plain": [
       "<Figure size 720x432 with 1 Axes>"
      ]
     },
     "metadata": {
      "needs_background": "light"
     },
     "output_type": "display_data"
    }
   ],
   "source": [
    "t=np.arange(0.,5.,0.2)\n",
    "t\n",
    "\n",
    "# 여러 개 선그래프 그리기\n",
    "plt.figure(figsize=(10,6))\n",
    "plt.title('라인 플롯에서 여러개의 선 그리기')\n",
    "\n",
    "plt.plot(t,t,'r--') # r(red),--(dashed line style)\n",
    "plt.plot(t,0.5*t**2,'bs:')# b(blue),s(square marker,),:(dot line style)\n",
    "plt.plot(t,0.2*t**3,'g^-')# g(green),^(triangle_up marker),-(solid line style)\n",
    "\n",
    "plt.show()"
   ]
  },
  {
   "cell_type": "markdown",
   "metadata": {},
   "source": [
    "- 위 그래프 코드를 plot() 하나로 한번에 표현하기"
   ]
  },
  {
   "cell_type": "code",
   "execution_count": 27,
   "metadata": {
    "scrolled": true
   },
   "outputs": [
    {
     "data": {
      "text/plain": [
       "[<matplotlib.lines.Line2D at 0x1f69f177b20>,\n",
       " <matplotlib.lines.Line2D at 0x1f69f177fd0>,\n",
       " <matplotlib.lines.Line2D at 0x1f69f1775e0>]"
      ]
     },
     "execution_count": 27,
     "metadata": {},
     "output_type": "execute_result"
    },
    {
     "data": {
      "image/png": "[encoded data removed]",
      "text/plain": [
       "<Figure size 432x288 with 1 Axes>"
      ]
     },
     "metadata": {
      "needs_background": "light"
     },
     "output_type": "display_data"
    }
   ],
   "source": [
    "plt.plot(t,t,'r--',t,0.5*t**2,'bs:',t,0.2*t**3,'g^-')"
   ]
  },
  {
   "cell_type": "code",
   "execution_count": 17,
   "metadata": {},
   "outputs": [
    {
     "data": {
      "text/plain": [
       "array([0. , 0.2, 0.4, 0.6, 0.8, 1. , 1.2, 1.4, 1.6, 1.8, 2. , 2.2, 2.4,\n",
       "       2.6, 2.8, 3. , 3.2, 3.4, 3.6, 3.8, 4. , 4.2, 4.4, 4.6, 4.8])"
      ]
     },
     "execution_count": 17,
     "metadata": {},
     "output_type": "execute_result"
    },
    {
     "data": {
      "text/plain": [
       "<Figure size 720x432 with 0 Axes>"
      ]
     },
     "execution_count": 17,
     "metadata": {},
     "output_type": "execute_result"
    },
    {
     "data": {
      "text/plain": [
       "Text(0.5, 1.0, '라인 플롯에서 여러개의 선 그리기:plot 한번 사용')"
      ]
     },
     "execution_count": 17,
     "metadata": {},
     "output_type": "execute_result"
    },
    {
     "data": {
      "text/plain": [
       "[<matplotlib.lines.Line2D at 0x1829d622d90>,\n",
       " <matplotlib.lines.Line2D at 0x1829d622c40>,\n",
       " <matplotlib.lines.Line2D at 0x1829d622dc0>]"
      ]
     },
     "execution_count": 17,
     "metadata": {},
     "output_type": "execute_result"
    },
    {
     "data": {
      "image/png": "[encoded data removed]",
      "text/plain": [
       "<Figure size 720x432 with 1 Axes>"
      ]
     },
     "metadata": {
      "needs_background": "light"
     },
     "output_type": "display_data"
    }
   ],
   "source": [
    "# 여러 개의 선 그리기 : plot() 한 번 사용\n",
    "\n"
   ]
  },
  {
   "cell_type": "markdown",
   "metadata": {},
   "source": [
    "#### 축의 눈금 설정 : plt.xticks(), plt.yticks()\n",
    "- tick은 축상의 위치 표시 지점\n",
    "- 축에 간격을 구분하기 위해 표시하는 눈금\n",
    "\n",
    "\n",
    "- xticks([x축값1,x축값2,...]) #튜플,리스트등 이용해서 축 값(위치 나열)\n",
    "- yticks([y축값1,y축값2,...]) #튜플,리스트등 이용해서 축 값(위치 나열)\n",
    "- tick_params()\n",
    "- tick label(눈금 레이블) : tick에 써진 숫자 혹은 글자"
   ]
  },
  {
   "cell_type": "code",
   "execution_count": 28,
   "metadata": {},
   "outputs": [
    {
     "data": {
      "text/plain": [
       "[<matplotlib.lines.Line2D at 0x1f69f1332b0>]"
      ]
     },
     "execution_count": 28,
     "metadata": {},
     "output_type": "execute_result"
    },
    {
     "data": {
      "text/plain": [
       "([<matplotlib.axis.XTick at 0x1f69f36cc70>,\n",
       "  <matplotlib.axis.XTick at 0x1f69f36cc10>,\n",
       "  <matplotlib.axis.XTick at 0x1f69f1d8d60>,\n",
       "  <matplotlib.axis.XTick at 0x1f69d97b790>,\n",
       "  <matplotlib.axis.XTick at 0x1f69d97b5e0>,\n",
       "  <matplotlib.axis.XTick at 0x1f69f07edf0>],\n",
       " [Text(0, 0, ''),\n",
       "  Text(0, 0, ''),\n",
       "  Text(0, 0, ''),\n",
       "  Text(0, 0, ''),\n",
       "  Text(0, 0, ''),\n",
       "  Text(0, 0, '')])"
      ]
     },
     "execution_count": 28,
     "metadata": {},
     "output_type": "execute_result"
    },
    {
     "data": {
      "text/plain": [
       "([<matplotlib.axis.YTick at 0x1f69f35edc0>,\n",
       "  <matplotlib.axis.YTick at 0x1f69f329be0>,\n",
       "  <matplotlib.axis.YTick at 0x1f69f2b82e0>,\n",
       "  <matplotlib.axis.YTick at 0x1f69d9eb910>,\n",
       "  <matplotlib.axis.YTick at 0x1f69d9eb550>,\n",
       "  <matplotlib.axis.YTick at 0x1f69d85f8e0>],\n",
       " [Text(0, 0, ''),\n",
       "  Text(0, 0, ''),\n",
       "  Text(0, 0, ''),\n",
       "  Text(0, 0, ''),\n",
       "  Text(0, 0, ''),\n",
       "  Text(0, 0, '')])"
      ]
     },
     "execution_count": 28,
     "metadata": {},
     "output_type": "execute_result"
    },
    {
     "data": {
      "image/png": "[encoded data removed]",
      "text/plain": [
       "<Figure size 432x288 with 1 Axes>"
      ]
     },
     "metadata": {
      "needs_background": "light"
     },
     "output_type": "display_data"
    }
   ],
   "source": [
    "x=[10,20,30,40,50,60]\n",
    "y=[11,15,40,40,20,10]\n",
    "plt.plot(x,y, color='green',linestyle='dashed',marker='o')\n",
    "plt.xticks(x)\n",
    "plt.yticks(y)\n",
    "plt.show()"
   ]
  },
  {
   "cell_type": "markdown",
   "metadata": {},
   "source": [
    "#### 축의 눈금 레이블 지정"
   ]
  },
  {
   "cell_type": "code",
   "execution_count": 31,
   "metadata": {},
   "outputs": [
    {
     "data": {
      "text/plain": [
       "[<matplotlib.lines.Line2D at 0x1f69de6c250>]"
      ]
     },
     "execution_count": 31,
     "metadata": {},
     "output_type": "execute_result"
    },
    {
     "data": {
      "text/plain": [
       "([<matplotlib.axis.XTick at 0x1f69ef7b850>,\n",
       "  <matplotlib.axis.XTick at 0x1f69ef7b8e0>,\n",
       "  <matplotlib.axis.XTick at 0x1f69de7d8b0>,\n",
       "  <matplotlib.axis.XTick at 0x1f69efa6a90>,\n",
       "  <matplotlib.axis.XTick at 0x1f69efa6400>,\n",
       "  <matplotlib.axis.XTick at 0x1f69ef57ee0>],\n",
       " [Text(10, 0, '10대'),\n",
       "  Text(20, 0, '20대'),\n",
       "  Text(30, 0, '30대'),\n",
       "  Text(40, 0, '40대'),\n",
       "  Text(50, 0, '50대'),\n",
       "  Text(60, 0, '60대')])"
      ]
     },
     "execution_count": 31,
     "metadata": {},
     "output_type": "execute_result"
    },
    {
     "data": {
      "text/plain": [
       "([<matplotlib.axis.YTick at 0x1f69efa0280>,\n",
       "  <matplotlib.axis.YTick at 0x1f69ef7ba30>,\n",
       "  <matplotlib.axis.YTick at 0x1f69de4e1c0>,\n",
       "  <matplotlib.axis.YTick at 0x1f69dedfe50>,\n",
       "  <matplotlib.axis.YTick at 0x1f69eef0760>,\n",
       "  <matplotlib.axis.YTick at 0x1f69eef0d30>],\n",
       " [Text(0, 0, ''),\n",
       "  Text(0, 0, ''),\n",
       "  Text(0, 0, ''),\n",
       "  Text(0, 0, ''),\n",
       "  Text(0, 0, ''),\n",
       "  Text(0, 0, '')])"
      ]
     },
     "execution_count": 31,
     "metadata": {},
     "output_type": "execute_result"
    },
    {
     "data": {
      "image/png": "[encoded data removed]",
      "text/plain": [
       "<Figure size 432x288 with 1 Axes>"
      ]
     },
     "metadata": {
      "needs_background": "light"
     },
     "output_type": "display_data"
    }
   ],
   "source": [
    "# 눈금 레이블 지정\n",
    "x=[10,20,30,40,50,60]\n",
    "y=[11,15,40,40,20,10]\n",
    "plt.plot(x,y, color='green',linestyle='dashed',marker='o')\n",
    "\n",
    "# 축 눈금 레이블 지정\n",
    "plt.xticks(x, [str(i) + '대' for i in x])\n",
    "plt.yticks(y)\n",
    "plt.show()"
   ]
  },
  {
   "cell_type": "code",
   "execution_count": 34,
   "metadata": {},
   "outputs": [
    {
     "data": {
      "text/plain": [
       "[<matplotlib.lines.Line2D at 0x1f69f4ca760>]"
      ]
     },
     "execution_count": 34,
     "metadata": {},
     "output_type": "execute_result"
    },
    {
     "data": {
      "text/plain": [
       "Text(1.0, 1.0, '그래프 제목')"
      ]
     },
     "execution_count": 34,
     "metadata": {},
     "output_type": "execute_result"
    },
    {
     "data": {
      "text/plain": [
       "([<matplotlib.axis.XTick at 0x1f69f4a6430>,\n",
       "  <matplotlib.axis.XTick at 0x1f69f4a6400>,\n",
       "  <matplotlib.axis.XTick at 0x1f69f4314c0>,\n",
       "  <matplotlib.axis.XTick at 0x1f69f4cafa0>,\n",
       "  <matplotlib.axis.XTick at 0x1f69f4d2550>,\n",
       "  <matplotlib.axis.XTick at 0x1f69f4d2a60>],\n",
       " [Text(10, 0, '10대'),\n",
       "  Text(20, 0, '20대'),\n",
       "  Text(30, 0, '30대'),\n",
       "  Text(40, 0, '40대'),\n",
       "  Text(50, 0, '50대'),\n",
       "  Text(60, 0, '60대')])"
      ]
     },
     "execution_count": 34,
     "metadata": {},
     "output_type": "execute_result"
    },
    {
     "data": {
      "text/plain": [
       "([<matplotlib.axis.YTick at 0x1f69f4a6cd0>,\n",
       "  <matplotlib.axis.YTick at 0x1f69f4a68b0>,\n",
       "  <matplotlib.axis.YTick at 0x1f69f4ad730>,\n",
       "  <matplotlib.axis.YTick at 0x1f69f4de490>,\n",
       "  <matplotlib.axis.YTick at 0x1f69f4de310>,\n",
       "  <matplotlib.axis.YTick at 0x1f69f4dee80>],\n",
       " [Text(0, 0, ''),\n",
       "  Text(0, 0, ''),\n",
       "  Text(0, 0, ''),\n",
       "  Text(0, 0, ''),\n",
       "  Text(0, 0, ''),\n",
       "  Text(0, 0, '')])"
      ]
     },
     "execution_count": 34,
     "metadata": {},
     "output_type": "execute_result"
    },
    {
     "data": {
      "text/plain": [
       "Text(0.5, 0, 'x축')"
      ]
     },
     "execution_count": 34,
     "metadata": {},
     "output_type": "execute_result"
    },
    {
     "data": {
      "text/plain": [
       "Text(0, 0.5, 'y축')"
      ]
     },
     "execution_count": 34,
     "metadata": {},
     "output_type": "execute_result"
    },
    {
     "data": {
      "image/png": "[encoded data removed]",
      "text/plain": [
       "<Figure size 432x288 with 1 Axes>"
      ]
     },
     "metadata": {
      "needs_background": "light"
     },
     "output_type": "display_data"
    }
   ],
   "source": [
    "x=[10,20,30,40,50,60]\n",
    "y=[11,15,40,40,20,10]\n",
    "plt.plot(x,y, color='green',linestyle='dashed',marker='o')\n",
    "plt.title('그래프 제목', loc='right', pad=30, fontsize=20)\n",
    "plt.xticks(x, [str(i) + '대' for i in x])\n",
    "plt.yticks([i for i in range(0, 51, 10)])\n",
    "plt.xlabel('x축')\n",
    "plt.ylabel('y축')\n",
    "plt.show()"
   ]
  },
  {
   "cell_type": "markdown",
   "metadata": {},
   "source": [
    "#### 그래프 제목 및 축 레이블 설정\n",
    "- 그래프 제목 설정: plot.title(data,loc=, pad=, fontsize=)\n",
    "     - loc= 'right'|'left'| 'center'| 'right'로 설정할 수 있으며 디폴트는 'center'\n",
    "     - pad=point 은 타이틀과 그래프와의 간격 (오프셋)을 포인트(숫자) 단위로 설정\n",
    "     - fontsize=제목폰트크기\n",
    "        \n",
    "- 축 레이블 설정\n",
    "    - plot.xlabel()\n",
    "    - plot.ylabel()"
   ]
  },
  {
   "cell_type": "code",
   "execution_count": 29,
   "metadata": {},
   "outputs": [
    {
     "data": {
      "text/plain": [
       "Text(1.0, 1.0, '그래프제목')"
      ]
     },
     "execution_count": 29,
     "metadata": {},
     "output_type": "execute_result"
    },
    {
     "data": {
      "text/plain": [
       "[<matplotlib.lines.Line2D at 0x1829d9dd7c0>]"
      ]
     },
     "execution_count": 29,
     "metadata": {},
     "output_type": "execute_result"
    },
    {
     "data": {
      "text/plain": [
       "([<matplotlib.axis.XTick at 0x1829d9ba460>,\n",
       "  <matplotlib.axis.XTick at 0x1829d9ba430>,\n",
       "  <matplotlib.axis.XTick at 0x1829d8b75e0>,\n",
       "  <matplotlib.axis.XTick at 0x1829d9ddf40>,\n",
       "  <matplotlib.axis.XTick at 0x1829d9ee490>,\n",
       "  <matplotlib.axis.XTick at 0x1829d9ee9a0>],\n",
       " [Text(10, 0, '10대'),\n",
       "  Text(20, 0, '20대'),\n",
       "  Text(30, 0, '30대'),\n",
       "  Text(40, 0, '40대'),\n",
       "  Text(50, 0, '50대'),\n",
       "  Text(60, 0, '60대')])"
      ]
     },
     "execution_count": 29,
     "metadata": {},
     "output_type": "execute_result"
    },
    {
     "data": {
      "text/plain": [
       "([<matplotlib.axis.YTick at 0x1829d9baa00>,\n",
       "  <matplotlib.axis.YTick at 0x1829d9ba8e0>,\n",
       "  <matplotlib.axis.YTick at 0x1829d9b7700>,\n",
       "  <matplotlib.axis.YTick at 0x1829d9f45e0>,\n",
       "  <matplotlib.axis.YTick at 0x1829d9f4a90>,\n",
       "  <matplotlib.axis.YTick at 0x1829d9ee6d0>],\n",
       " [Text(0, 11, '11'),\n",
       "  Text(0, 15, '15'),\n",
       "  Text(0, 40, '40'),\n",
       "  Text(0, 40, '40'),\n",
       "  Text(0, 20, '20'),\n",
       "  Text(0, 10, '10')])"
      ]
     },
     "execution_count": 29,
     "metadata": {},
     "output_type": "execute_result"
    },
    {
     "data": {
      "text/plain": [
       "Text(0.5, 0, 'x축제목')"
      ]
     },
     "execution_count": 29,
     "metadata": {},
     "output_type": "execute_result"
    },
    {
     "data": {
      "text/plain": [
       "Text(0, 0.5, 'y축제목')"
      ]
     },
     "execution_count": 29,
     "metadata": {},
     "output_type": "execute_result"
    },
    {
     "data": {
      "image/png": "[encoded data removed]",
      "text/plain": [
       "<Figure size 432x288 with 1 Axes>"
      ]
     },
     "metadata": {
      "needs_background": "light"
     },
     "output_type": "display_data"
    }
   ],
   "source": [
    "# 그래프 제목, x축, y축 라벨 표시\n"
   ]
  },
  {
   "cell_type": "markdown",
   "metadata": {},
   "source": [
    "#### 그래프 Title 폰트 관련 지정\n",
    "\n",
    "- 딕셔너리형식으로 fontsize 및 fontwegith 등 지정 가능"
   ]
  },
  {
   "cell_type": "code",
   "execution_count": 35,
   "metadata": {},
   "outputs": [
    {
     "data": {
      "text/plain": [
       "Text(1.0, 1.0, '그래프제목')"
      ]
     },
     "execution_count": 35,
     "metadata": {},
     "output_type": "execute_result"
    },
    {
     "data": {
      "text/plain": [
       "Text(0.0, 1.0, '그래프제목')"
      ]
     },
     "execution_count": 35,
     "metadata": {},
     "output_type": "execute_result"
    },
    {
     "data": {
      "image/png": "[encoded data removed]",
      "text/plain": [
       "<Figure size 432x288 with 1 Axes>"
      ]
     },
     "metadata": {
      "needs_background": "light"
     },
     "output_type": "display_data"
    }
   ],
   "source": [
    "plt.title('그래프제목', loc='right', pad=20)\n",
    "\n",
    "title_font = {\n",
    "    'fontsize': 16,\n",
    "    'fontweight': 'bold'\n",
    "}\n",
    "\n",
    "plt.title('그래프제목', fontdict=title_font, loc='left', pad=20)\n",
    "\n",
    "plt.show()"
   ]
  },
  {
   "cell_type": "markdown",
   "metadata": {},
   "source": [
    "#### plot.grid(True) : 그리드 표시"
   ]
  },
  {
   "cell_type": "code",
   "execution_count": 36,
   "metadata": {},
   "outputs": [
    {
     "data": {
      "text/plain": [
       "Text(0.5, 1.0, '그래프제목')"
      ]
     },
     "execution_count": 36,
     "metadata": {},
     "output_type": "execute_result"
    },
    {
     "data": {
      "text/plain": [
       "[<matplotlib.lines.Line2D at 0x1f69f56c4f0>]"
      ]
     },
     "execution_count": 36,
     "metadata": {},
     "output_type": "execute_result"
    },
    {
     "data": {
      "text/plain": [
       "([<matplotlib.axis.XTick at 0x1f69efa6280>,\n",
       "  <matplotlib.axis.XTick at 0x1f69f54b070>,\n",
       "  <matplotlib.axis.XTick at 0x1f69f53fbb0>,\n",
       "  <matplotlib.axis.XTick at 0x1f69f56cb80>,\n",
       "  <matplotlib.axis.XTick at 0x1f69f5790d0>,\n",
       "  <matplotlib.axis.XTick at 0x1f69f5795e0>],\n",
       " [Text(10, 0, '10대'),\n",
       "  Text(20, 0, '20대'),\n",
       "  Text(30, 0, '30대'),\n",
       "  Text(40, 0, '40대'),\n",
       "  Text(50, 0, '50대'),\n",
       "  Text(60, 0, '60대')])"
      ]
     },
     "execution_count": 36,
     "metadata": {},
     "output_type": "execute_result"
    },
    {
     "data": {
      "text/plain": [
       "([<matplotlib.axis.YTick at 0x1f69f54b7c0>,\n",
       "  <matplotlib.axis.YTick at 0x1f69f54b0a0>,\n",
       "  <matplotlib.axis.YTick at 0x1f69f5433a0>,\n",
       "  <matplotlib.axis.YTick at 0x1f69f57f130>,\n",
       "  <matplotlib.axis.YTick at 0x1f69f57f7c0>,\n",
       "  <matplotlib.axis.YTick at 0x1f69f5791f0>],\n",
       " [Text(0, 0, ''),\n",
       "  Text(0, 0, ''),\n",
       "  Text(0, 0, ''),\n",
       "  Text(0, 0, ''),\n",
       "  Text(0, 0, ''),\n",
       "  Text(0, 0, '')])"
      ]
     },
     "execution_count": 36,
     "metadata": {},
     "output_type": "execute_result"
    },
    {
     "data": {
      "text/plain": [
       "Text(0.5, 0, 'x축제목')"
      ]
     },
     "execution_count": 36,
     "metadata": {},
     "output_type": "execute_result"
    },
    {
     "data": {
      "text/plain": [
       "Text(0, 0.5, 'y축제목')"
      ]
     },
     "execution_count": 36,
     "metadata": {},
     "output_type": "execute_result"
    },
    {
     "data": {
      "image/png": "[encoded data removed]",
      "text/plain": [
       "<Figure size 432x288 with 1 Axes>"
      ]
     },
     "metadata": {
      "needs_background": "light"
     },
     "output_type": "display_data"
    }
   ],
   "source": [
    "plt.title('그래프제목')\n",
    "plt.plot(x,y, color='green',linestyle='dashed',marker='o')\n",
    "plt.xticks(x,('10대','20대','30대','40대','50대','60대'))\n",
    "plt.yticks([0,10,20,30,40,50])\n",
    "plt.xlabel('x축제목')\n",
    "plt.ylabel('y축제목')\n",
    "\n",
    "# 그리드 표시\n",
    "plt.grid()\n",
    "plt.show()"
   ]
  },
  {
   "cell_type": "markdown",
   "metadata": {},
   "source": [
    "#### plt.subplot() : 여러 플롯 표시\n",
    "\n",
    ": 하나의 윈도우(figure)안에 여러 개의 플롯을 배열 형태로 표시\n",
    "\n",
    "- 그리드 형태의 Axes 객체들 생성\n",
    "\n",
    "- 형식 : subplot(인수1,인수2,인수3)\n",
    "    - 인수1 과 인수2는 전체 그리드 행렬 모양 지시\n",
    "    - 인수3 : 그래프 위치 번호\n",
    "\n",
    "\n",
    "    - subplot(2,2,1) 가 원칙이나 줄여서 221로 쓸 수 있음\n",
    "    - subplot(221) 2행 2열의 그리드에서 첫번째 위치\n",
    "    - subplot(224) 2행 2열의 그리드에서 마지막 위치\n",
    "    \n",
    "    \n",
    "- tight_layout(pad=) : 플롯간 간격을 설정\n",
    "    - pad = 간격값(실수)"
   ]
  },
  {
   "cell_type": "code",
   "execution_count": 41,
   "metadata": {},
   "outputs": [
    {
     "data": {
      "text/plain": [
       "<AxesSubplot:>"
      ]
     },
     "execution_count": 41,
     "metadata": {},
     "output_type": "execute_result"
    },
    {
     "data": {
      "text/plain": [
       "[<matplotlib.lines.Line2D at 0x1f6a0872940>]"
      ]
     },
     "execution_count": 41,
     "metadata": {},
     "output_type": "execute_result"
    },
    {
     "data": {
      "text/plain": [
       "Text(0.5, 1.0, 'sub1')"
      ]
     },
     "execution_count": 41,
     "metadata": {},
     "output_type": "execute_result"
    },
    {
     "data": {
      "text/plain": [
       "<AxesSubplot:>"
      ]
     },
     "execution_count": 41,
     "metadata": {},
     "output_type": "execute_result"
    },
    {
     "data": {
      "text/plain": [
       "[<matplotlib.lines.Line2D at 0x1f6a08b5130>]"
      ]
     },
     "execution_count": 41,
     "metadata": {},
     "output_type": "execute_result"
    },
    {
     "data": {
      "text/plain": [
       "Text(0.5, 1.0, 'sub2')"
      ]
     },
     "execution_count": 41,
     "metadata": {},
     "output_type": "execute_result"
    },
    {
     "data": {
      "text/plain": [
       "<AxesSubplot:>"
      ]
     },
     "execution_count": 41,
     "metadata": {},
     "output_type": "execute_result"
    },
    {
     "data": {
      "text/plain": [
       "[<matplotlib.lines.Line2D at 0x1f6a08e08e0>]"
      ]
     },
     "execution_count": 41,
     "metadata": {},
     "output_type": "execute_result"
    },
    {
     "data": {
      "text/plain": [
       "Text(0.5, 1.0, 'sub3')"
      ]
     },
     "execution_count": 41,
     "metadata": {},
     "output_type": "execute_result"
    },
    {
     "data": {
      "text/plain": [
       "<AxesSubplot:>"
      ]
     },
     "execution_count": 41,
     "metadata": {},
     "output_type": "execute_result"
    },
    {
     "data": {
      "text/plain": [
       "[<matplotlib.lines.Line2D at 0x1f6a091c100>]"
      ]
     },
     "execution_count": 41,
     "metadata": {},
     "output_type": "execute_result"
    },
    {
     "data": {
      "text/plain": [
       "Text(0.5, 1.0, 'sub4')"
      ]
     },
     "execution_count": 41,
     "metadata": {},
     "output_type": "execute_result"
    },
    {
     "name": "stderr",
     "output_type": "stream",
     "text": [
      "<ipython-input-41-2736f2e888e3>:15: MatplotlibDeprecationWarning: Passing the pad parameter of tight_layout() positionally is deprecated since Matplotlib 3.3; the parameter will become keyword-only two minor releases later.\n",
      "  plt.tight_layout(1.5)\n"
     ]
    },
    {
     "data": {
      "image/png": "[encoded data removed]",
      "text/plain": [
       "<Figure size 432x288 with 4 Axes>"
      ]
     },
     "metadata": {
      "needs_background": "light"
     },
     "output_type": "display_data"
    }
   ],
   "source": [
    "# 2 x 2 형태의 네 개의 플롯\n",
    "\n",
    "plt.subplot(2,2,1)\n",
    "plt.plot(np.random.rand(5))\n",
    "plt.title('sub1')\n",
    "plt.subplot(2,2,2)\n",
    "plt.plot(np.random.rand(5))\n",
    "plt.title('sub2')\n",
    "plt.subplot(2,2,3)\n",
    "plt.plot(np.random.rand(5))\n",
    "plt.title('sub3')\n",
    "plt.subplot(2,2,4)\n",
    "plt.plot(np.random.rand(5))\n",
    "plt.title('sub4')\n",
    "plt.tight_layout(1.5)\n",
    "plt.show()"
   ]
  },
  {
   "cell_type": "markdown",
   "metadata": {},
   "source": [
    "- plt.subplots(행,열)\n",
    "    - 여러 개의 Axes 객체를 동시에 생성해주는 함수\n",
    "    - 행렬 형태의 객체로 반환\n",
    "    - 두 개의 반환값이 있음\n",
    "        - 첫번 째 반환은 그래프 객체 전체 이름 : 거의 사용하지 않음\n",
    "        - 두번 째 반환값에 Axes 객체를 반환함\n",
    "        - 두번 째 반환값이 필요하므로 반환 값 모두를 반환받아 두번 째 값을 사용해야 함\n",
    "        \n",
    "        - ex. fig, axes = plt.subplots(2,2)"
   ]
  },
  {
   "cell_type": "code",
   "execution_count": 45,
   "metadata": {},
   "outputs": [
    {
     "data": {
      "text/plain": [
       "[<matplotlib.lines.Line2D at 0x1f6a0686400>]"
      ]
     },
     "execution_count": 45,
     "metadata": {},
     "output_type": "execute_result"
    },
    {
     "data": {
      "text/plain": [
       "Text(0.5, 1.0, 'sub1')"
      ]
     },
     "execution_count": 45,
     "metadata": {},
     "output_type": "execute_result"
    },
    {
     "data": {
      "text/plain": [
       "[<matplotlib.lines.Line2D at 0x1f6a0686850>]"
      ]
     },
     "execution_count": 45,
     "metadata": {},
     "output_type": "execute_result"
    },
    {
     "data": {
      "text/plain": [
       "Text(0.5, 1.0, 'sub2')"
      ]
     },
     "execution_count": 45,
     "metadata": {},
     "output_type": "execute_result"
    },
    {
     "data": {
      "text/plain": [
       "[<matplotlib.lines.Line2D at 0x1f6a066b7f0>]"
      ]
     },
     "execution_count": 45,
     "metadata": {},
     "output_type": "execute_result"
    },
    {
     "data": {
      "text/plain": [
       "Text(0.5, 1.0, 'sub3')"
      ]
     },
     "execution_count": 45,
     "metadata": {},
     "output_type": "execute_result"
    },
    {
     "data": {
      "text/plain": [
       "[<matplotlib.lines.Line2D at 0x1f6a066bfa0>]"
      ]
     },
     "execution_count": 45,
     "metadata": {},
     "output_type": "execute_result"
    },
    {
     "data": {
      "text/plain": [
       "Text(0.5, 1.0, 'sub4')"
      ]
     },
     "execution_count": 45,
     "metadata": {},
     "output_type": "execute_result"
    },
    {
     "data": {
      "image/png": "[encoded data removed]",
      "text/plain": [
       "<Figure size 432x288 with 4 Axes>"
      ]
     },
     "metadata": {
      "needs_background": "light"
     },
     "output_type": "display_data"
    }
   ],
   "source": [
    "# subplots() : 여러개의 Axes 객체 동시 생성해주는 함수\n",
    "fig, axes = plt.subplots(2,2)\n",
    "\n",
    "\n",
    "axes[0,0].plot(np.random.rand(5))\n",
    "axes[0,0].set_title('sub1')\n",
    "axes[0,1].plot(np.random.rand(5))\n",
    "axes[0,1].set_title('sub2')\n",
    "axes[1,0].plot(np.random.rand(5))\n",
    "axes[1,0].set_title('sub3')\n",
    "axes[1,1].plot(np.random.rand(5))\n",
    "axes[1,1].set_title('sub4')\n",
    "plt.tight_layout(pad=3)\n",
    "plt.show()"
   ]
  },
  {
   "cell_type": "markdown",
   "metadata": {
    "collapsed": true
   },
   "source": [
    "#### plot 함수 응용 예제\n",
    "- numpy 모듈의 sin()함수를 이용하여 sin 곡선 그래프 그리기"
   ]
  },
  {
   "cell_type": "code",
   "execution_count": 47,
   "metadata": {},
   "outputs": [
    {
     "data": {
      "text/plain": [
       "array([ 0. ,  0.1,  0.2,  0.3,  0.4,  0.5,  0.6,  0.7,  0.8,  0.9,  1. ,\n",
       "        1.1,  1.2,  1.3,  1.4,  1.5,  1.6,  1.7,  1.8,  1.9,  2. ,  2.1,\n",
       "        2.2,  2.3,  2.4,  2.5,  2.6,  2.7,  2.8,  2.9,  3. ,  3.1,  3.2,\n",
       "        3.3,  3.4,  3.5,  3.6,  3.7,  3.8,  3.9,  4. ,  4.1,  4.2,  4.3,\n",
       "        4.4,  4.5,  4.6,  4.7,  4.8,  4.9,  5. ,  5.1,  5.2,  5.3,  5.4,\n",
       "        5.5,  5.6,  5.7,  5.8,  5.9,  6. ,  6.1,  6.2,  6.3,  6.4,  6.5,\n",
       "        6.6,  6.7,  6.8,  6.9,  7. ,  7.1,  7.2,  7.3,  7.4,  7.5,  7.6,\n",
       "        7.7,  7.8,  7.9,  8. ,  8.1,  8.2,  8.3,  8.4,  8.5,  8.6,  8.7,\n",
       "        8.8,  8.9,  9. ,  9.1,  9.2,  9.3,  9.4,  9.5,  9.6,  9.7,  9.8,\n",
       "        9.9, 10. , 10.1, 10.2, 10.3, 10.4, 10.5, 10.6, 10.7, 10.8, 10.9,\n",
       "       11. , 11.1, 11.2, 11.3, 11.4, 11.5, 11.6, 11.7, 11.8, 11.9])"
      ]
     },
     "execution_count": 47,
     "metadata": {},
     "output_type": "execute_result"
    }
   ],
   "source": [
    "# data 생성\n",
    "x = np.arange(0,12,0.1)\n",
    "x"
   ]
  },
  {
   "cell_type": "code",
   "execution_count": 48,
   "metadata": {},
   "outputs": [
    {
     "data": {
      "text/plain": [
       "array([ 0.        ,  0.09983342,  0.19866933,  0.29552021,  0.38941834,\n",
       "        0.47942554,  0.56464247,  0.64421769,  0.71735609,  0.78332691,\n",
       "        0.84147098,  0.89120736,  0.93203909,  0.96355819,  0.98544973,\n",
       "        0.99749499,  0.9995736 ,  0.99166481,  0.97384763,  0.94630009,\n",
       "        0.90929743,  0.86320937,  0.8084964 ,  0.74570521,  0.67546318,\n",
       "        0.59847214,  0.51550137,  0.42737988,  0.33498815,  0.23924933,\n",
       "        0.14112001,  0.04158066, -0.05837414, -0.15774569, -0.2555411 ,\n",
       "       -0.35078323, -0.44252044, -0.52983614, -0.61185789, -0.68776616,\n",
       "       -0.7568025 , -0.81827711, -0.87157577, -0.91616594, -0.95160207,\n",
       "       -0.97753012, -0.993691  , -0.99992326, -0.99616461, -0.98245261,\n",
       "       -0.95892427, -0.92581468, -0.88345466, -0.83226744, -0.77276449,\n",
       "       -0.70554033, -0.63126664, -0.55068554, -0.46460218, -0.37387666,\n",
       "       -0.2794155 , -0.1821625 , -0.0830894 ,  0.0168139 ,  0.1165492 ,\n",
       "        0.21511999,  0.31154136,  0.40484992,  0.49411335,  0.57843976,\n",
       "        0.6569866 ,  0.72896904,  0.79366786,  0.85043662,  0.8987081 ,\n",
       "        0.93799998,  0.96791967,  0.98816823,  0.99854335,  0.99894134,\n",
       "        0.98935825,  0.96988981,  0.94073056,  0.90217183,  0.85459891,\n",
       "        0.79848711,  0.7343971 ,  0.66296923,  0.58491719,  0.50102086,\n",
       "        0.41211849,  0.31909836,  0.22288991,  0.12445442,  0.02477543,\n",
       "       -0.07515112, -0.17432678, -0.27176063, -0.36647913, -0.45753589,\n",
       "       -0.54402111, -0.62507065, -0.69987469, -0.76768581, -0.82782647,\n",
       "       -0.87969576, -0.92277542, -0.95663502, -0.98093623, -0.99543625,\n",
       "       -0.99999021, -0.99455259, -0.97917773, -0.95401925, -0.91932853,\n",
       "       -0.87545217, -0.82282859, -0.76198358, -0.69352508, -0.61813711])"
      ]
     },
     "execution_count": 48,
     "metadata": {},
     "output_type": "execute_result"
    }
   ],
   "source": [
    "# sin 값 생성\n",
    "y = np.sin(x)\n",
    "y"
   ]
  },
  {
   "cell_type": "code",
   "execution_count": 49,
   "metadata": {
    "scrolled": true
   },
   "outputs": [
    {
     "data": {
      "text/plain": [
       "[<matplotlib.lines.Line2D at 0x1f6a0ddef40>]"
      ]
     },
     "execution_count": 49,
     "metadata": {},
     "output_type": "execute_result"
    },
    {
     "data": {
      "image/png": "[encoded data removed]",
      "text/plain": [
       "<Figure size 432x288 with 1 Axes>"
      ]
     },
     "metadata": {
      "needs_background": "light"
     },
     "output_type": "display_data"
    }
   ],
   "source": [
    "# sin 곡선 그리기\n",
    "plt.plot(x, y)"
   ]
  },
  {
   "cell_type": "markdown",
   "metadata": {},
   "source": [
    "**문제.** 위 그래프에 x, y 축 제목, 그래프 제목, 격자무늬를 표시하시오.\n",
    "- x축 : time\n",
    "- y축 : Amplitude\n",
    "- 그래프 제목 : Example of sinewave"
   ]
  },
  {
   "cell_type": "code",
   "execution_count": 50,
   "metadata": {
    "scrolled": true
   },
   "outputs": [
    {
     "data": {
      "text/plain": [
       "[<matplotlib.lines.Line2D at 0x1f6a0e57070>]"
      ]
     },
     "execution_count": 50,
     "metadata": {},
     "output_type": "execute_result"
    },
    {
     "data": {
      "text/plain": [
       "Text(0.5, 0, 'time')"
      ]
     },
     "execution_count": 50,
     "metadata": {},
     "output_type": "execute_result"
    },
    {
     "data": {
      "text/plain": [
       "Text(0, 0.5, 'Amplitude')"
      ]
     },
     "execution_count": 50,
     "metadata": {},
     "output_type": "execute_result"
    },
    {
     "data": {
      "text/plain": [
       "Text(0.5, 1.0, 'Exmaple of sinewave')"
      ]
     },
     "execution_count": 50,
     "metadata": {},
     "output_type": "execute_result"
    },
    {
     "data": {
      "image/png": "[encoded data removed]",
      "text/plain": [
       "<Figure size 432x288 with 1 Axes>"
      ]
     },
     "metadata": {
      "needs_background": "light"
     },
     "output_type": "display_data"
    }
   ],
   "source": [
    "plt.plot(x, y)\n",
    "plt.grid()\n",
    "plt.xlabel('time')\n",
    "plt.ylabel('Amplitude')\n",
    "plt.title('Exmaple of sinewave')"
   ]
  },
  {
   "cell_type": "markdown",
   "metadata": {},
   "source": [
    "**문제.** 위쪽 그래프에 cos 곡선을 추가하는 코드를 작성하시오.\n",
    "- np.sin() : sin 값을 계산후 반환\n",
    "- np.cos() : cos 값을 계산 후 반환\n",
    "- cos 곡선의 색상은 빨간색으로 설정 할 것"
   ]
  },
  {
   "cell_type": "code",
   "execution_count": 52,
   "metadata": {},
   "outputs": [
    {
     "data": {
      "text/plain": [
       "[<matplotlib.lines.Line2D at 0x1f6a0ecf730>]"
      ]
     },
     "execution_count": 52,
     "metadata": {},
     "output_type": "execute_result"
    },
    {
     "data": {
      "text/plain": [
       "[<matplotlib.lines.Line2D at 0x1f6a0ecfb50>]"
      ]
     },
     "execution_count": 52,
     "metadata": {},
     "output_type": "execute_result"
    },
    {
     "data": {
      "text/plain": [
       "Text(0.5, 0, 'time')"
      ]
     },
     "execution_count": 52,
     "metadata": {},
     "output_type": "execute_result"
    },
    {
     "data": {
      "text/plain": [
       "Text(0, 0.5, 'Amplitude')"
      ]
     },
     "execution_count": 52,
     "metadata": {},
     "output_type": "execute_result"
    },
    {
     "data": {
      "text/plain": [
       "Text(0.5, 1.0, 'Exmaple of sinewave')"
      ]
     },
     "execution_count": 52,
     "metadata": {},
     "output_type": "execute_result"
    },
    {
     "data": {
      "image/png": "[encoded data removed]",
      "text/plain": [
       "<Figure size 432x288 with 1 Axes>"
      ]
     },
     "metadata": {
      "needs_background": "light"
     },
     "output_type": "display_data"
    }
   ],
   "source": [
    "plt.plot(x, np.cos(x), c='r')\n",
    "plt.plot(x, np.sin(x))\n",
    "plt.grid()\n",
    "plt.xlabel('time')\n",
    "plt.ylabel('Amplitude')\n",
    "plt.title('Exmaple of sinewave')"
   ]
  },
  {
   "cell_type": "markdown",
   "metadata": {},
   "source": [
    "#### 범례(legend)표시\n",
    "- plot에 label 속성이 추가되어 있어야 함\n",
    "    - plt.plot(x,y,label='a')\n",
    "- plt.legend(loc=, ncol= ) #범례표시, \n",
    "- loc = 1/2/3/4/5/6/7/8/9/10 # 범례표시 위치값\n",
    "- loc = (x,y)\n",
    "- ncol= 열갯수"
   ]
  },
  {
   "cell_type": "code",
   "execution_count": 61,
   "metadata": {
    "scrolled": true
   },
   "outputs": [
    {
     "data": {
      "text/plain": [
       "[<matplotlib.lines.Line2D at 0x1f6a2234d00>]"
      ]
     },
     "execution_count": 61,
     "metadata": {},
     "output_type": "execute_result"
    },
    {
     "data": {
      "text/plain": [
       "Text(0.5, 0, 'X-Axis')"
      ]
     },
     "execution_count": 61,
     "metadata": {},
     "output_type": "execute_result"
    },
    {
     "data": {
      "text/plain": [
       "Text(0, 0.5, 'Y-Axis')"
      ]
     },
     "execution_count": 61,
     "metadata": {},
     "output_type": "execute_result"
    },
    {
     "data": {
      "text/plain": [
       "<matplotlib.legend.Legend at 0x1f6a21e3520>"
      ]
     },
     "execution_count": 61,
     "metadata": {},
     "output_type": "execute_result"
    },
    {
     "data": {
      "image/png": "[encoded data removed]",
      "text/plain": [
       "<Figure size 432x288 with 1 Axes>"
      ]
     },
     "metadata": {
      "needs_background": "light"
     },
     "output_type": "display_data"
    }
   ],
   "source": [
    "# 범례 표시 예\n",
    "plt.plot([1, 2, 3, 4], [2, 3, 5, 10], label='Price ($)')\n",
    "plt.xlabel('X-Axis')\n",
    "plt.ylabel('Y-Axis')\n",
    "# plt.legend(loc=(0.0, 0.0))\n",
    "# plt.legend(loc=(0.5, 0.5))\n",
    "plt.legend(loc=(1.0, 1.0))\n",
    "# plt.legend(loc=10)\n",
    "# plt.legend(loc ='center left')\n",
    "# plt.legend(loc='upper right')\n",
    "# plt.legend()\n",
    "\n",
    "plt.show()"
   ]
  },
  {
   "cell_type": "markdown",
   "metadata": {},
   "source": [
    "**두 개의 선그래프에 대한 범례 표시**"
   ]
  },
  {
   "cell_type": "code",
   "execution_count": 63,
   "metadata": {
    "scrolled": true
   },
   "outputs": [
    {
     "data": {
      "text/plain": [
       "[<matplotlib.lines.Line2D at 0x1f6a23142b0>]"
      ]
     },
     "execution_count": 63,
     "metadata": {},
     "output_type": "execute_result"
    },
    {
     "data": {
      "text/plain": [
       "[<matplotlib.lines.Line2D at 0x1f6a2314700>]"
      ]
     },
     "execution_count": 63,
     "metadata": {},
     "output_type": "execute_result"
    },
    {
     "data": {
      "text/plain": [
       "Text(0.5, 0, 'X-Axis')"
      ]
     },
     "execution_count": 63,
     "metadata": {},
     "output_type": "execute_result"
    },
    {
     "data": {
      "text/plain": [
       "Text(0, 0.5, 'Y-Axis')"
      ]
     },
     "execution_count": 63,
     "metadata": {},
     "output_type": "execute_result"
    },
    {
     "data": {
      "text/plain": [
       "<matplotlib.legend.Legend at 0x1f6a2273d90>"
      ]
     },
     "execution_count": 63,
     "metadata": {},
     "output_type": "execute_result"
    },
    {
     "data": {
      "image/png": "[encoded data removed]",
      "text/plain": [
       "<Figure size 432x288 with 1 Axes>"
      ]
     },
     "metadata": {
      "needs_background": "light"
     },
     "output_type": "display_data"
    }
   ],
   "source": [
    "plt.plot([1, 2, 3, 4], [2, 3, 5, 10], label='Price ($)')\n",
    "plt.plot([1, 2, 3, 4], [3, 5, 9, 7], label='Demand (#)')\n",
    "\n",
    "plt.xlabel('X-Axis')\n",
    "plt.ylabel('Y-Axis')\n",
    "# plt.legend(loc='best') #열 1개\n",
    "plt.legend(loc='best', ncol=2) # 열 2개\n",
    "\n",
    "plt.show()\n"
   ]
  },
  {
   "cell_type": "markdown",
   "metadata": {},
   "source": [
    "### 2. 막대그래프 : bar(), barh(), df.plot()"
   ]
  },
  {
   "cell_type": "markdown",
   "metadata": {},
   "source": [
    "### 2-1. 세로 막대 그래프 그리기: bar()\n",
    "- bar(x,y,color=[],alpha=)\n",
    "    - color = [] : 색상값 설정\n",
    "    - alpha = 투명도 설정"
   ]
  },
  {
   "cell_type": "code",
   "execution_count": 64,
   "metadata": {},
   "outputs": [],
   "source": [
    "# 데이터 생성\n",
    "y=[2,3,1,4]\n",
    "x=np.arange(len(y))\n",
    "\n",
    "z=[2,3]\n",
    "s=[0,1]\n",
    "\n",
    "e=[1,4]\n",
    "h=[2,3]\n",
    "\n",
    "xlabel=['가','나','다','라']"
   ]
  },
  {
   "cell_type": "code",
   "execution_count": 68,
   "metadata": {},
   "outputs": [
    {
     "data": {
      "text/plain": [
       "Text(0.5, 1.0, 'Bar Chart')"
      ]
     },
     "execution_count": 68,
     "metadata": {},
     "output_type": "execute_result"
    },
    {
     "data": {
      "text/plain": [
       "<BarContainer object of 4 artists>"
      ]
     },
     "execution_count": 68,
     "metadata": {},
     "output_type": "execute_result"
    },
    {
     "data": {
      "text/plain": [
       "([<matplotlib.axis.XTick at 0x1f6a21a1070>,\n",
       "  <matplotlib.axis.XTick at 0x1f6a2329f70>,\n",
       "  <matplotlib.axis.XTick at 0x1f6a10aae20>,\n",
       "  <matplotlib.axis.XTick at 0x1f6a2469700>],\n",
       " [Text(0, 0, '가'), Text(1, 0, '나'), Text(2, 0, '다'), Text(3, 0, '라')])"
      ]
     },
     "execution_count": 68,
     "metadata": {},
     "output_type": "execute_result"
    },
    {
     "data": {
      "text/plain": [
       "([<matplotlib.axis.YTick at 0x1f6a23a6730>,\n",
       "  <matplotlib.axis.YTick at 0x1f6a234f9a0>,\n",
       "  <matplotlib.axis.YTick at 0x1f6a10fb280>,\n",
       "  <matplotlib.axis.YTick at 0x1f6a23d0070>],\n",
       " [Text(0, 0, ''), Text(0, 0, ''), Text(0, 0, ''), Text(0, 0, '')])"
      ]
     },
     "execution_count": 68,
     "metadata": {},
     "output_type": "execute_result"
    },
    {
     "data": {
      "text/plain": [
       "Text(-0.1, 1, 'test')"
      ]
     },
     "execution_count": 68,
     "metadata": {},
     "output_type": "execute_result"
    },
    {
     "data": {
      "text/plain": [
       "Text(0.5, 0, '가나다라')"
      ]
     },
     "execution_count": 68,
     "metadata": {},
     "output_type": "execute_result"
    },
    {
     "data": {
      "text/plain": [
       "Text(0, 0.5, '빈도수')"
      ]
     },
     "execution_count": 68,
     "metadata": {},
     "output_type": "execute_result"
    },
    {
     "data": {
      "text/plain": [
       "[<matplotlib.lines.Line2D at 0x1f6a23d07c0>]"
      ]
     },
     "execution_count": 68,
     "metadata": {},
     "output_type": "execute_result"
    },
    {
     "data": {
      "text/plain": [
       "[<matplotlib.lines.Line2D at 0x1f6a23d0d60>]"
      ]
     },
     "execution_count": 68,
     "metadata": {},
     "output_type": "execute_result"
    },
    {
     "data": {
      "image/png": "[encoded data removed]",
      "text/plain": [
       "<Figure size 432x288 with 1 Axes>"
      ]
     },
     "metadata": {
      "needs_background": "light"
     },
     "output_type": "display_data"
    }
   ],
   "source": [
    "# 막대그래프 그리기\n",
    "plt.title('Bar Chart')\n",
    "plt.bar(x,y)\n",
    "plt.xticks(x,xlabel)\n",
    "plt.yticks(sorted(y))\n",
    "plt.text(-0.1, 1, r'test')\n",
    "plt.xlabel('가나다라')\n",
    "plt.ylabel('빈도수')\n",
    "plt.plot(s, z, c='g',ls='dashed',marker='o')\n",
    "plt.plot(h, e, c='g',ls='dashed',marker='o')"
   ]
  },
  {
   "cell_type": "markdown",
   "metadata": {},
   "source": [
    "### 2-2. 가로 막대 그래프 그리기 : barh()\n",
    "- barh(x,y,color=[], alpha=)"
   ]
  },
  {
   "cell_type": "code",
   "execution_count": 69,
   "metadata": {
    "scrolled": true
   },
   "outputs": [
    {
     "data": {
      "text/plain": [
       "Text(0.5, 1.0, 'Barh Chart')"
      ]
     },
     "execution_count": 69,
     "metadata": {},
     "output_type": "execute_result"
    },
    {
     "data": {
      "text/plain": [
       "<BarContainer object of 4 artists>"
      ]
     },
     "execution_count": 69,
     "metadata": {},
     "output_type": "execute_result"
    },
    {
     "data": {
      "text/plain": [
       "([<matplotlib.axis.YTick at 0x1f6a24944f0>,\n",
       "  <matplotlib.axis.YTick at 0x1f6a24940d0>,\n",
       "  <matplotlib.axis.YTick at 0x1f6a248cf40>,\n",
       "  <matplotlib.axis.YTick at 0x1f6a24c71f0>],\n",
       " [Text(0, 0, '몽룡'), Text(0, 1, '춘향'), Text(0, 2, '방자'), Text(0, 3, '향단')])"
      ]
     },
     "execution_count": 69,
     "metadata": {},
     "output_type": "execute_result"
    },
    {
     "data": {
      "text/plain": [
       "Text(0.5, 0, 'xlabel')"
      ]
     },
     "execution_count": 69,
     "metadata": {},
     "output_type": "execute_result"
    },
    {
     "data": {
      "text/plain": [
       "Text(0, 0.5, 'ylabel')"
      ]
     },
     "execution_count": 69,
     "metadata": {},
     "output_type": "execute_result"
    },
    {
     "data": {
      "image/png": "[encoded data removed]",
      "text/plain": [
       "<Figure size 432x288 with 1 Axes>"
      ]
     },
     "metadata": {
      "needs_background": "light"
     },
     "output_type": "display_data"
    }
   ],
   "source": [
    "# 데이터 생성\n",
    "np.random.seed(0)\n",
    "people=['몽룡','춘향','방자','향단']\n",
    "y=np.arange(len(people))\n",
    "performance = 3+ 10 * np.random.rand(len(people))\n",
    "\n",
    "# 가로 막대그래프 그리기\n",
    "plt.title(\"Barh Chart\")\n",
    "plt.barh(y, performance, alpha=0.4)\n",
    "plt.yticks(y,people)\n",
    "plt.xlabel('xlabel')\n",
    "plt.ylabel('ylabel')\n",
    "plt.grid(True)"
   ]
  },
  {
   "cell_type": "markdown",
   "metadata": {},
   "source": [
    "### 2-3. 데이터프레임으로 막대그래프 그리기\n",
    "- **데이터프레임.plot**(kind=그래프종류, grid=T/F, figsize=그래프크기)\n",
    "- **plt.bar**(데이터프레임.변수1, 데이터프레임.변수2)"
   ]
  },
  {
   "cell_type": "markdown",
   "metadata": {},
   "source": [
    "**데이터프레임.plot()으로 막대그래프 그리기**\n",
    "\n",
    "- plt.xticks()의 rotation 인수에 따라 가로형 또는 세로형 막대그래프 생성\n",
    "    - plt.xticks(ticks=None, labels=None, **kwargs)\n",
    "    - plt.xticks(ticks=None, labels=None) : vertical 기본\n",
    "    - plt.xticks(ticks=None, labels=None, rotation='vertical') : 가로형막대\n",
    "    - plt.xticks(ticks=None, labels=None, rotation='horizontal') : 세로형막대"
   ]
  },
  {
   "cell_type": "code",
   "execution_count": 71,
   "metadata": {},
   "outputs": [
    {
     "data": {
      "text/html": [
       "<div>\n",
       "<style scoped>\n",
       "    .dataframe tbody tr th:only-of-type {\n",
       "        vertical-align: middle;\n",
       "    }\n",
       "\n",
       "    .dataframe tbody tr th {\n",
       "        vertical-align: top;\n",
       "    }\n",
       "\n",
       "    .dataframe thead th {\n",
       "        text-align: right;\n",
       "    }\n",
       "</style>\n",
       "<table border=\"1\" class=\"dataframe\">\n",
       "  <thead>\n",
       "    <tr style=\"text-align: right;\">\n",
       "      <th></th>\n",
       "      <th>나이</th>\n",
       "      <th>이름</th>\n",
       "    </tr>\n",
       "  </thead>\n",
       "  <tbody>\n",
       "    <tr>\n",
       "      <th>0</th>\n",
       "      <td>15</td>\n",
       "      <td>둘리</td>\n",
       "    </tr>\n",
       "    <tr>\n",
       "      <th>1</th>\n",
       "      <td>20</td>\n",
       "      <td>도우너</td>\n",
       "    </tr>\n",
       "    <tr>\n",
       "      <th>2</th>\n",
       "      <td>17</td>\n",
       "      <td>또치</td>\n",
       "    </tr>\n",
       "    <tr>\n",
       "      <th>3</th>\n",
       "      <td>50</td>\n",
       "      <td>길동</td>\n",
       "    </tr>\n",
       "    <tr>\n",
       "      <th>4</th>\n",
       "      <td>2</td>\n",
       "      <td>희동</td>\n",
       "    </tr>\n",
       "    <tr>\n",
       "      <th>5</th>\n",
       "      <td>30</td>\n",
       "      <td>마이클</td>\n",
       "    </tr>\n",
       "    <tr>\n",
       "      <th>6</th>\n",
       "      <td>23</td>\n",
       "      <td>영희</td>\n",
       "    </tr>\n",
       "  </tbody>\n",
       "</table>\n",
       "</div>"
      ],
      "text/plain": [
       "   나이   이름\n",
       "0  15   둘리\n",
       "1  20  도우너\n",
       "2  17   또치\n",
       "3  50   길동\n",
       "4   2   희동\n",
       "5  30  마이클\n",
       "6  23   영희"
      ]
     },
     "execution_count": 71,
     "metadata": {},
     "output_type": "execute_result"
    },
    {
     "data": {
      "text/plain": [
       "<AxesSubplot:>"
      ]
     },
     "execution_count": 71,
     "metadata": {},
     "output_type": "execute_result"
    },
    {
     "data": {
      "text/plain": [
       "([<matplotlib.axis.XTick at 0x1f6a282aaf0>,\n",
       "  <matplotlib.axis.XTick at 0x1f6a282aac0>,\n",
       "  <matplotlib.axis.XTick at 0x1f6a2845eb0>,\n",
       "  <matplotlib.axis.XTick at 0x1f6a260fe50>,\n",
       "  <matplotlib.axis.XTick at 0x1f6a261a3a0>,\n",
       "  <matplotlib.axis.XTick at 0x1f6a261a8b0>,\n",
       "  <matplotlib.axis.XTick at 0x1f6a261adc0>],\n",
       " [Text(0, 0, '둘리'),\n",
       "  Text(1, 0, '도우너'),\n",
       "  Text(2, 0, '또치'),\n",
       "  Text(3, 0, '길동'),\n",
       "  Text(4, 0, '희동'),\n",
       "  Text(5, 0, '마이클'),\n",
       "  Text(6, 0, '영희')])"
      ]
     },
     "execution_count": 71,
     "metadata": {},
     "output_type": "execute_result"
    },
    {
     "data": {
      "image/png": "[encoded data removed]",
      "text/plain": [
       "<Figure size 720x720 with 1 Axes>"
      ]
     },
     "metadata": {
      "needs_background": "light"
     },
     "output_type": "display_data"
    }
   ],
   "source": [
    "# 데이터프레임.plot()으로 막대그래프 그리기\n",
    "\n",
    "# 데이터 생성 : df1\n",
    "df1 = pd.DataFrame({\n",
    "    '나이':[15,20,17,50,2,30,23],\n",
    "    '이름':['둘리','도우너','또치','길동','희동','마이클','영희']\n",
    "},columns=['나이','이름'])\n",
    "df1\n",
    "\n",
    "# xticks 시 위치 표시에 사용할 변수 지정\n",
    "x=[i for i in range(7)]\n",
    "# 막대그래프 그리기\n",
    "df1.plot(kind='bar', grid=True,figsize=(10,10))\n",
    "plt.xticks(x,df1.이름,rotation='horizontal')\n",
    "plt.show()"
   ]
  },
  {
   "cell_type": "markdown",
   "metadata": {},
   "source": [
    "**데이터프레임.plot()를 이용하여 묶음 막대그래프 그리기**\n",
    "- 그래프를 그리기 위한 데이터를 지정하지 않는 경우\n",
    "- 데이터프레임에 있는 모든 수치데이터를 이용하여 묶음 막대그래프를 그림"
   ]
  },
  {
   "cell_type": "code",
   "execution_count": 73,
   "metadata": {
    "scrolled": true
   },
   "outputs": [
    {
     "data": {
      "text/plain": [
       "<AxesSubplot:>"
      ]
     },
     "execution_count": 73,
     "metadata": {},
     "output_type": "execute_result"
    },
    {
     "data": {
      "text/plain": [
       "([<matplotlib.axis.XTick at 0x1f6a2be5a90>,\n",
       "  <matplotlib.axis.XTick at 0x1f6a2be5a60>,\n",
       "  <matplotlib.axis.XTick at 0x1f6a29b0f10>,\n",
       "  <matplotlib.axis.XTick at 0x1f6a29e6640>,\n",
       "  <matplotlib.axis.XTick at 0x1f6a29e6a90>,\n",
       "  <matplotlib.axis.XTick at 0x1f6a29e6eb0>,\n",
       "  <matplotlib.axis.XTick at 0x1f6a29ee400>],\n",
       " [Text(0, 0, '둘리'),\n",
       "  Text(1, 0, '도우너'),\n",
       "  Text(2, 0, '또치'),\n",
       "  Text(3, 0, '길동'),\n",
       "  Text(4, 0, '희동'),\n",
       "  Text(5, 0, '마이클'),\n",
       "  Text(6, 0, '영희')])"
      ]
     },
     "execution_count": 73,
     "metadata": {},
     "output_type": "execute_result"
    },
    {
     "data": {
      "image/png": "[encoded data removed]",
      "text/plain": [
       "<Figure size 720x720 with 1 Axes>"
      ]
     },
     "metadata": {
      "needs_background": "light"
     },
     "output_type": "display_data"
    }
   ],
   "source": [
    "# 묶음 막대그래프 그리기 : 데이터프레임.plot()이용\n",
    "\n",
    "# 데이터 생성 :df1\n",
    "df1 = pd.DataFrame({\n",
    "    '나이':[15,20,17,50,2,30,23],\n",
    "    '키' : [165,150,151,175,80,175,185],\n",
    "    '이름':['둘리','도우너','또치','길동','희동','마이클','영희']\n",
    "},columns=['나이','키','이름'])\n",
    "\n",
    "# xticks 시 위치 표시에 사용할 변수\n",
    "x=[0,1,2,3,4,5,6] \n",
    "\n",
    "# df.plot()으로 막대그래프 그리기\n",
    "df1.plot(kind='bar',grid=True,figsize=(10,10))\n",
    "plt.xticks(x,df1.이름,rotation='horizontal')\n",
    "plt.show()\n"
   ]
  },
  {
   "cell_type": "markdown",
   "metadata": {},
   "source": [
    "**plt.bar(데이터프레임)를 이용하여 막대그래프 그리기**"
   ]
  },
  {
   "cell_type": "code",
   "execution_count": 74,
   "metadata": {
    "scrolled": true
   },
   "outputs": [
    {
     "data": {
      "text/plain": [
       "<BarContainer object of 7 artists>"
      ]
     },
     "execution_count": 74,
     "metadata": {},
     "output_type": "execute_result"
    },
    {
     "data": {
      "image/png": "[encoded data removed]",
      "text/plain": [
       "<Figure size 432x288 with 1 Axes>"
      ]
     },
     "metadata": {
      "needs_background": "light"
     },
     "output_type": "display_data"
    }
   ],
   "source": [
    "# 데이터프레임으로 막대그래프 그리기2 : plt.bar(데이터프레임)\n",
    "# 데이터 생성 :df1\n",
    "df1 = pd.DataFrame({\n",
    "    '나이':[15,20,17,50,2,30,23],\n",
    "    '키' : [165,150,151,175,80,175,185],\n",
    "    '이름':['둘리','도우너','또치','길동','희동','마이클','영희']\n",
    "},columns=['나이','키','이름'])\n",
    "\n",
    "# plt.bar()로 막대그래프 그리기\n",
    "plt.bar(df1.이름,df1.나이)\n",
    "plt.show()"
   ]
  },
  {
   "cell_type": "markdown",
   "metadata": {},
   "source": [
    "**데이터프레임의 일부 필드를 데이터프레임으로 추출하여 그래프 작성**"
   ]
  },
  {
   "cell_type": "code",
   "execution_count": 75,
   "metadata": {},
   "outputs": [
    {
     "data": {
      "text/plain": [
       "<AxesSubplot:>"
      ]
     },
     "execution_count": 75,
     "metadata": {},
     "output_type": "execute_result"
    },
    {
     "data": {
      "text/plain": [
       "([<matplotlib.axis.XTick at 0x1f6a2dc75b0>,\n",
       "  <matplotlib.axis.XTick at 0x1f6a2dc7580>,\n",
       "  <matplotlib.axis.XTick at 0x1f6a2de3c40>,\n",
       "  <matplotlib.axis.XTick at 0x1f6a2dff9d0>,\n",
       "  <matplotlib.axis.XTick at 0x1f6a2dffee0>,\n",
       "  <matplotlib.axis.XTick at 0x1f6a2e09430>,\n",
       "  <matplotlib.axis.XTick at 0x1f6a2e09940>],\n",
       " [Text(0, 0, '둘리'),\n",
       "  Text(1, 0, '도우너'),\n",
       "  Text(2, 0, '또치'),\n",
       "  Text(3, 0, '길동'),\n",
       "  Text(4, 0, '희동'),\n",
       "  Text(5, 0, '마이클'),\n",
       "  Text(6, 0, '영희')])"
      ]
     },
     "execution_count": 75,
     "metadata": {},
     "output_type": "execute_result"
    },
    {
     "data": {
      "image/png": "[encoded data removed]",
      "text/plain": [
       "<Figure size 720x720 with 1 Axes>"
      ]
     },
     "metadata": {
      "needs_background": "light"
     },
     "output_type": "display_data"
    }
   ],
   "source": [
    "# 데이터 생성 : df1\n",
    "df1 = pd.DataFrame({\n",
    "    '나이':[15,20,17,50,2,30,23],\n",
    "    '키' : [165,150,151,175,80,175,185],\n",
    "    '이름':['둘리','도우너','또치','길동','희동','마이클','영희']\n",
    "},columns=['나이','키','이름'])\n",
    "\n",
    "# xticks 시 위치 표시에 사용할 변수\n",
    "x=[0,1,2,3,4,5,6] \n",
    "\n",
    "# 막대그래프 그리기\n",
    "df1[['키']].plot(kind='bar',grid=True,figsize=(10,10))\n",
    "plt.xticks(x,df1.이름,rotation='horizontal')\n",
    "plt.show()"
   ]
  },
  {
   "cell_type": "markdown",
   "metadata": {},
   "source": [
    "**정렬된 데이터를 이용하여 막대그래프 그리기**"
   ]
  },
  {
   "cell_type": "code",
   "execution_count": 77,
   "metadata": {},
   "outputs": [
    {
     "data": {
      "text/html": [
       "<div>\n",
       "<style scoped>\n",
       "    .dataframe tbody tr th:only-of-type {\n",
       "        vertical-align: middle;\n",
       "    }\n",
       "\n",
       "    .dataframe tbody tr th {\n",
       "        vertical-align: top;\n",
       "    }\n",
       "\n",
       "    .dataframe thead th {\n",
       "        text-align: right;\n",
       "    }\n",
       "</style>\n",
       "<table border=\"1\" class=\"dataframe\">\n",
       "  <thead>\n",
       "    <tr style=\"text-align: right;\">\n",
       "      <th></th>\n",
       "      <th>나이</th>\n",
       "      <th>이름</th>\n",
       "    </tr>\n",
       "  </thead>\n",
       "  <tbody>\n",
       "    <tr>\n",
       "      <th>4</th>\n",
       "      <td>2</td>\n",
       "      <td>희동</td>\n",
       "    </tr>\n",
       "    <tr>\n",
       "      <th>0</th>\n",
       "      <td>15</td>\n",
       "      <td>둘리</td>\n",
       "    </tr>\n",
       "    <tr>\n",
       "      <th>2</th>\n",
       "      <td>17</td>\n",
       "      <td>또치</td>\n",
       "    </tr>\n",
       "    <tr>\n",
       "      <th>1</th>\n",
       "      <td>20</td>\n",
       "      <td>도우너</td>\n",
       "    </tr>\n",
       "    <tr>\n",
       "      <th>6</th>\n",
       "      <td>23</td>\n",
       "      <td>영희</td>\n",
       "    </tr>\n",
       "    <tr>\n",
       "      <th>5</th>\n",
       "      <td>30</td>\n",
       "      <td>마이클</td>\n",
       "    </tr>\n",
       "    <tr>\n",
       "      <th>3</th>\n",
       "      <td>50</td>\n",
       "      <td>길동</td>\n",
       "    </tr>\n",
       "  </tbody>\n",
       "</table>\n",
       "</div>"
      ],
      "text/plain": [
       "   나이   이름\n",
       "4   2   희동\n",
       "0  15   둘리\n",
       "2  17   또치\n",
       "1  20  도우너\n",
       "6  23   영희\n",
       "5  30  마이클\n",
       "3  50   길동"
      ]
     },
     "execution_count": 77,
     "metadata": {},
     "output_type": "execute_result"
    },
    {
     "data": {
      "text/plain": [
       "<AxesSubplot:>"
      ]
     },
     "execution_count": 77,
     "metadata": {},
     "output_type": "execute_result"
    },
    {
     "data": {
      "text/plain": [
       "([<matplotlib.axis.YTick at 0x1f6a2e3f5b0>,\n",
       "  <matplotlib.axis.YTick at 0x1f6a2e3f160>,\n",
       "  <matplotlib.axis.YTick at 0x1f6a2e69370>,\n",
       "  <matplotlib.axis.YTick at 0x1f6a2e80100>,\n",
       "  <matplotlib.axis.YTick at 0x1f6a2e80610>,\n",
       "  <matplotlib.axis.YTick at 0x1f6a2e80b20>,\n",
       "  <matplotlib.axis.YTick at 0x1f6a2e86070>],\n",
       " [Text(0, 0, '희동'),\n",
       "  Text(0, 1, '둘리'),\n",
       "  Text(0, 2, '또치'),\n",
       "  Text(0, 3, '도우너'),\n",
       "  Text(0, 4, '영희'),\n",
       "  Text(0, 5, '마이클'),\n",
       "  Text(0, 6, '길동')])"
      ]
     },
     "execution_count": 77,
     "metadata": {},
     "output_type": "execute_result"
    },
    {
     "data": {
      "image/png": "[encoded data removed]",
      "text/plain": [
       "<Figure size 360x360 with 1 Axes>"
      ]
     },
     "metadata": {
      "needs_background": "light"
     },
     "output_type": "display_data"
    }
   ],
   "source": [
    "# 정렬된 데이터를 이용하여 막대그래프 그리기\n",
    "\n",
    "# 데이터 생성 : df1 \n",
    "df1 = pd.DataFrame({\n",
    "    '나이':[15,20,17,50,2,30,23],\n",
    "    '이름':['둘리','도우너','또치','길동','희동','마이클','영희']\n",
    "},columns=['나이','이름'])\n",
    " \n",
    "# xticks 시 위치 표시에 사용할 변수\n",
    "a=[0,1,2,3,4,5,6] \n",
    "\n",
    "# 나이로 df1 정렬하여 새로운 df2 생성\n",
    "df2=df1.sort_values(by='나이')\n",
    "df2\n",
    "\n",
    "# 가로 막대그래프 그리기\n",
    "df1.sort_values(by='나이').plot(kind='barh',grid=True,figsize=(5,5))\n",
    "\n",
    "plt.yticks(a, df1.sort_values(by='나이').이름, rotation='horizontal')\n",
    "plt.show()"
   ]
  },
  {
   "cell_type": "markdown",
   "metadata": {},
   "source": [
    "### 3. 산점도(scatter plot) : scatter()"
   ]
  },
  {
   "cell_type": "markdown",
   "metadata": {},
   "source": [
    "- 두 수치형 변수간의 관계를 나타내기 위해 사용하는 그래프\n",
    "    - 상관관계 표현 : 선형성"
   ]
  },
  {
   "cell_type": "code",
   "execution_count": 78,
   "metadata": {},
   "outputs": [],
   "source": [
    "# 데이터 생성\n",
    "t = np.array([0,1,2,3,4,5,6,7,8,9])\n",
    "y = np.array([9,8,7,9,8,3,2,4,3,4])"
   ]
  },
  {
   "cell_type": "code",
   "execution_count": 79,
   "metadata": {
    "scrolled": true
   },
   "outputs": [
    {
     "data": {
      "text/plain": [
       "<matplotlib.collections.PathCollection at 0x1f6a2ecac70>"
      ]
     },
     "execution_count": 79,
     "metadata": {},
     "output_type": "execute_result"
    },
    {
     "data": {
      "image/png": "[encoded data removed]",
      "text/plain": [
       "<Figure size 432x288 with 1 Axes>"
      ]
     },
     "metadata": {
      "needs_background": "light"
     },
     "output_type": "display_data"
    }
   ],
   "source": [
    "# 산점도 그리기\n",
    "plt.scatter(t,y)"
   ]
  },
  {
   "cell_type": "markdown",
   "metadata": {},
   "source": [
    "- 산점도의 marker 변경"
   ]
  },
  {
   "cell_type": "code",
   "execution_count": 80,
   "metadata": {
    "scrolled": true
   },
   "outputs": [
    {
     "data": {
      "text/plain": [
       "<matplotlib.collections.PathCollection at 0x1f6a2f2ffd0>"
      ]
     },
     "execution_count": 80,
     "metadata": {},
     "output_type": "execute_result"
    },
    {
     "data": {
      "image/png": "[encoded data removed]",
      "text/plain": [
       "<Figure size 432x288 with 1 Axes>"
      ]
     },
     "metadata": {
      "needs_background": "light"
     },
     "output_type": "display_data"
    }
   ],
   "source": [
    "# 산점도에 marker 변경\n",
    "plt.scatter(t,y,marker='>')"
   ]
  },
  {
   "cell_type": "markdown",
   "metadata": {},
   "source": [
    "#### 버블차트\n",
    "- 점의 크기와 색상을 이용하여 서로 다른 데이터 값을 표시하는 그래프\n",
    "- scatter(c, s)를 이용하여 작성\n",
    "    - s 인수 : size\n",
    "    - c 인수 : color"
   ]
  },
  {
   "cell_type": "code",
   "execution_count": 81,
   "metadata": {},
   "outputs": [
    {
     "data": {
      "text/plain": [
       "Text(0.5, 1.0, 'Bubble Chart')"
      ]
     },
     "execution_count": 81,
     "metadata": {},
     "output_type": "execute_result"
    },
    {
     "data": {
      "text/plain": [
       "<matplotlib.collections.PathCollection at 0x1f6a2f8df40>"
      ]
     },
     "execution_count": 81,
     "metadata": {},
     "output_type": "execute_result"
    },
    {
     "data": {
      "image/png": "[encoded data removed]",
      "text/plain": [
       "<Figure size 432x288 with 1 Axes>"
      ]
     },
     "metadata": {
      "needs_background": "light"
     },
     "output_type": "display_data"
    }
   ],
   "source": [
    "# 데이터 생성\n",
    "N=30\n",
    "np.random.seed(0)\n",
    "x=np.random.rand(N)\n",
    "y1 =np.random.rand(N)\n",
    "y2 =np.random.rand(N)\n",
    "y3=np.pi *(15 * np.random.rand(N))**2\n",
    "\n",
    "# 버블차트 그리기\n",
    "plt.title(\"Bubble Chart\")\n",
    "plt.scatter(x,y1,c=y2,s=y3)\n",
    "plt.show()"
   ]
  },
  {
   "cell_type": "markdown",
   "metadata": {},
   "source": [
    "#### 산점도에 colorbar() 적용\n",
    "- 산점도를 그린 후 colorbar()를 생성하여 색상 정보를 막대로 표현"
   ]
  },
  {
   "cell_type": "code",
   "execution_count": 83,
   "metadata": {},
   "outputs": [
    {
     "data": {
      "text/plain": [
       "<Figure size 720x432 with 0 Axes>"
      ]
     },
     "execution_count": 83,
     "metadata": {},
     "output_type": "execute_result"
    },
    {
     "data": {
      "text/plain": [
       "<matplotlib.collections.PathCollection at 0x1f6a2ff0790>"
      ]
     },
     "execution_count": 83,
     "metadata": {},
     "output_type": "execute_result"
    },
    {
     "data": {
      "text/plain": [
       "<matplotlib.colorbar.Colorbar at 0x1f6a2fd35e0>"
      ]
     },
     "execution_count": 83,
     "metadata": {},
     "output_type": "execute_result"
    },
    {
     "data": {
      "image/png": "[encoded data removed]",
      "text/plain": [
       "<Figure size 720x432 with 2 Axes>"
      ]
     },
     "metadata": {
      "needs_background": "light"
     },
     "output_type": "display_data"
    }
   ],
   "source": [
    "# colorbar()을 이용해서 산점도 그리기\n",
    "colormap = t\n",
    "\n",
    "plt.figure(figsize=(10,6))\n",
    "plt.scatter(t,y, s=50, c=colormap, marker='>')\n",
    "plt.colorbar() # 색상 데이터를 bar 형태로 출력\n",
    "plt.show()"
   ]
  },
  {
   "cell_type": "markdown",
   "metadata": {},
   "source": [
    "### 4. 히스토그램 : hist()"
   ]
  },
  {
   "cell_type": "markdown",
   "metadata": {},
   "source": [
    "- 연속형 수치형 데이터의 분포 시각화\n",
    "- 참고. 막대그래프는 범주형 데이터의 빈도(비율) 분포 시각화"
   ]
  },
  {
   "cell_type": "code",
   "execution_count": 84,
   "metadata": {
    "collapsed": true
   },
   "outputs": [
    {
     "data": {
      "text/plain": [
       "<Figure size 720x432 with 0 Axes>"
      ]
     },
     "execution_count": 84,
     "metadata": {},
     "output_type": "execute_result"
    },
    {
     "data": {
      "text/plain": [
       "Text(0.5, 1.0, 'Histogram')"
      ]
     },
     "execution_count": 84,
     "metadata": {},
     "output_type": "execute_result"
    },
    {
     "data": {
      "text/plain": [
       "(array([  9.,  20.,  70., 146., 217., 239., 160.,  86.,  38.,  15.]),\n",
       " array([-3.04614305, -2.46559324, -1.88504342, -1.3044936 , -0.72394379,\n",
       "        -0.14339397,  0.43715585,  1.01770566,  1.59825548,  2.1788053 ,\n",
       "         2.75935511]),\n",
       " <BarContainer object of 10 artists>)"
      ]
     },
     "execution_count": 84,
     "metadata": {},
     "output_type": "execute_result"
    },
    {
     "data": {
      "image/png": "[encoded data removed]",
      "text/plain": [
       "<Figure size 720x432 with 1 Axes>"
      ]
     },
     "metadata": {
      "needs_background": "light"
     },
     "output_type": "display_data"
    }
   ],
   "source": [
    "# 데이터 생성\n",
    "np.random.seed(0)\n",
    "x = np.random.randn(1000) #난수 1000개 발생\n",
    "\n",
    "# 히스토그램 그리기\n",
    "plt.figure(figsize=(10,6))\n",
    "plt.title('Histogram')\n",
    "plt.hist(x)\n",
    "plt.show()"
   ]
  },
  {
   "cell_type": "markdown",
   "metadata": {},
   "source": [
    "### 5. 박스플롯 : boxplot()"
   ]
  },
  {
   "cell_type": "markdown",
   "metadata": {},
   "source": [
    "- 데이터의 분포를 파악해주는 플롯\n",
    "    - 최소값, 제1사분위수, 중위수, 제3사분위수, 최대값\n",
    "    \n",
    "- 이상치 데이터 탐색을 위해 사용"
   ]
  },
  {
   "cell_type": "code",
   "execution_count": 85,
   "metadata": {},
   "outputs": [
    {
     "data": {
      "text/plain": [
       "<Figure size 720x432 with 0 Axes>"
      ]
     },
     "execution_count": 85,
     "metadata": {},
     "output_type": "execute_result"
    },
    {
     "data": {
      "text/plain": [
       "{'whiskers': [<matplotlib.lines.Line2D at 0x1f6a3251460>,\n",
       "  <matplotlib.lines.Line2D at 0x1f6a32517c0>,\n",
       "  <matplotlib.lines.Line2D at 0x1f6a325ac10>,\n",
       "  <matplotlib.lines.Line2D at 0x1f6a325af40>,\n",
       "  <matplotlib.lines.Line2D at 0x1f6a32722e0>,\n",
       "  <matplotlib.lines.Line2D at 0x1f6a3272610>],\n",
       " 'caps': [<matplotlib.lines.Line2D at 0x1f6a3251b20>,\n",
       "  <matplotlib.lines.Line2D at 0x1f6a3251e80>,\n",
       "  <matplotlib.lines.Line2D at 0x1f6a32682b0>,\n",
       "  <matplotlib.lines.Line2D at 0x1f6a32685e0>,\n",
       "  <matplotlib.lines.Line2D at 0x1f6a3272940>,\n",
       "  <matplotlib.lines.Line2D at 0x1f6a3272c70>],\n",
       " 'boxes': [<matplotlib.lines.Line2D at 0x1f6a3251100>,\n",
       "  <matplotlib.lines.Line2D at 0x1f6a325a8e0>,\n",
       "  <matplotlib.lines.Line2D at 0x1f6a3268f70>],\n",
       " 'medians': [<matplotlib.lines.Line2D at 0x1f6a325a220>,\n",
       "  <matplotlib.lines.Line2D at 0x1f6a3268910>,\n",
       "  <matplotlib.lines.Line2D at 0x1f6a3272fa0>],\n",
       " 'fliers': [<matplotlib.lines.Line2D at 0x1f6a325a580>,\n",
       "  <matplotlib.lines.Line2D at 0x1f6a3268c40>,\n",
       "  <matplotlib.lines.Line2D at 0x1f6a3280310>],\n",
       " 'means': []}"
      ]
     },
     "execution_count": 85,
     "metadata": {},
     "output_type": "execute_result"
    },
    {
     "data": {
      "image/png": "[encoded data removed]",
      "text/plain": [
       "<Figure size 720x432 with 1 Axes>"
      ]
     },
     "metadata": {
      "needs_background": "light"
     },
     "output_type": "display_data"
    }
   ],
   "source": [
    "# 다차원 array 형태로 무작위 샘플을 생성\n",
    "# np.random.normal(정규분포평균,표준편차,(행열) or 개수)\n",
    "# 정규분포 확률 밀도에서 표본 추출해주는 함수\n",
    "\n",
    "# 데이터 3개 생성\n",
    "s1=np.random.normal(loc=0,scale=1,size=1000)\n",
    "s2=np.random.normal(loc=5,scale=0.5,size=1000)\n",
    "s3=np.random.normal(loc=10,scale=2,size=1000)\n",
    "# boxplot 그리기\n",
    "plt.figure(figsize=(10,6))\n",
    "plt.boxplot((s1,s2,s3))\n",
    "plt.grid()\n",
    "plt.show()"
   ]
  },
  {
   "cell_type": "markdown",
   "metadata": {},
   "source": [
    "### 6. 파이차트 : pie()"
   ]
  },
  {
   "cell_type": "markdown",
   "metadata": {},
   "source": [
    "- 범주형 데이터의 빈도(비율)을 비교하기 위해 사용하는 차트\n",
    "- 원의 형태를 유지할 수 있도록 다음 명령을 실행해야 함\n",
    "    - plt.axis('equal')\n",
    "    - 콘솔에서는 별 다른 변화 없으나 plot창에서는 필요함"
   ]
  },
  {
   "cell_type": "code",
   "execution_count": 88,
   "metadata": {},
   "outputs": [
    {
     "data": {
      "text/plain": [
       "<Figure size 720x432 with 0 Axes>"
      ]
     },
     "execution_count": 88,
     "metadata": {},
     "output_type": "execute_result"
    },
    {
     "data": {
      "text/plain": [
       "Text(0.5, 1.0, 'Pie Chart')"
      ]
     },
     "execution_count": 88,
     "metadata": {},
     "output_type": "execute_result"
    },
    {
     "data": {
      "text/plain": [
       "([<matplotlib.patches.Wedge at 0x1f6a337fcd0>,\n",
       "  <matplotlib.patches.Wedge at 0x1f6a43a1550>,\n",
       "  <matplotlib.patches.Wedge at 0x1f6a43a1d30>,\n",
       "  <matplotlib.patches.Wedge at 0x1f6a43ae580>],\n",
       " [Text(-0.4993895680663527, 0.9801071672559598, '개구리'),\n",
       "  Text(-1.0461621424642782, -0.3399187721714579, '돼지'),\n",
       "  Text(0.9801072140121813, -0.4993894763020948, '개'),\n",
       "  Text(0.33991864973549485, 1.0461621822461364, '통나무')],\n",
       " [Text(-0.2723943098543742, 0.5346039094123416, '15.0%'),\n",
       "  Text(-0.5706338958896062, -0.18541023936624976, '30.0%'),\n",
       "  Text(0.5346039349157352, -0.27239425980114257, '45.0%'),\n",
       "  Text(0.1854101725829972, 0.5706339175888016, '10.0%')])"
      ]
     },
     "execution_count": 88,
     "metadata": {},
     "output_type": "execute_result"
    },
    {
     "data": {
      "text/plain": [
       "(-1.1143898348979537,\n",
       " 1.1299557954617603,\n",
       " -1.1258468317413044,\n",
       " 1.101230806657754)"
      ]
     },
     "execution_count": 88,
     "metadata": {},
     "output_type": "execute_result"
    },
    {
     "data": {
      "image/png": "[encoded data removed]",
      "text/plain": [
       "<Figure size 720x432 with 1 Axes>"
      ]
     },
     "metadata": {},
     "output_type": "display_data"
    }
   ],
   "source": [
    "# 데이터 생성\n",
    "labels=['개구리','돼지','개','통나무']\n",
    "size=[15, 30, 45, 10]\n",
    "colors=['yellowgreen','gold','lightskyblue','lightcoral']\n",
    "# explode=(0,0.4,0,0.5)\n",
    "\n",
    "# plot 그리기\n",
    "plt.figure(figsize=(10,6))\n",
    "plt.title('Pie Chart')\n",
    "plt.pie(size, labels=labels, colors=colors,\n",
    "       autopct='%1.1f%%', shadow=True, startangle=90)\n",
    "plt.axis('equal') # 원의 형태 유지 설정\n",
    "plt.show()"
   ]
  },
  {
   "cell_type": "code",
   "execution_count": 89,
   "metadata": {},
   "outputs": [
    {
     "data": {
      "text/plain": [
       "<Figure size 720x432 with 0 Axes>"
      ]
     },
     "execution_count": 89,
     "metadata": {},
     "output_type": "execute_result"
    },
    {
     "data": {
      "text/plain": [
       "Text(0.5, 1.0, 'Pie Chart')"
      ]
     },
     "execution_count": 89,
     "metadata": {},
     "output_type": "execute_result"
    },
    {
     "data": {
      "text/plain": [
       "([<matplotlib.patches.Wedge at 0x1f6a43e5fd0>,\n",
       "  <matplotlib.patches.Wedge at 0x1f6a43f97f0>,\n",
       "  <matplotlib.patches.Wedge at 0x1f6a43f9fd0>,\n",
       "  <matplotlib.patches.Wedge at 0x1f6a4403820>],\n",
       " [Text(-0.4993895680663527, 0.9801071672559598, '개구리'),\n",
       "  Text(-1.4265847397240157, -0.4635255984156244, '돼지'),\n",
       "  Text(0.9801072140121813, -0.4993894763020948, '개'),\n",
       "  Text(0.4944271268879925, 1.521690446903471, '통나무')],\n",
       " [Text(-0.2723943098543742, 0.5346039094123416, '15.0%'),\n",
       "  Text(-0.9510564931493437, -0.30901706561041625, '30.0%'),\n",
       "  Text(0.5346039349157352, -0.27239425980114257, '45.0%'),\n",
       "  Text(0.33991864973549485, 1.0461621822461362, '10.0%')])"
      ]
     },
     "execution_count": 89,
     "metadata": {},
     "output_type": "execute_result"
    },
    {
     "data": {
      "text/plain": [
       "(-1.5138335620206782,\n",
       " 1.1489769253247473,\n",
       " -1.2021729595994102,\n",
       " 1.6030378519110622)"
      ]
     },
     "execution_count": 89,
     "metadata": {},
     "output_type": "execute_result"
    },
    {
     "data": {
      "image/png": "[encoded data removed]",
      "text/plain": [
       "<Figure size 720x432 with 1 Axes>"
      ]
     },
     "metadata": {},
     "output_type": "display_data"
    }
   ],
   "source": [
    "# 데이터 생성\n",
    "labels=['개구리','돼지','개','통나무']\n",
    "size=[15, 30, 45, 10]\n",
    "colors=['yellowgreen','gold','lightskyblue','lightcoral']\n",
    "explode=(0,0.4,0,0.5)\n",
    "\n",
    "# plot 그리기\n",
    "plt.figure(figsize=(10,6))\n",
    "plt.title('Pie Chart')\n",
    "plt.pie(size, explode=explode, labels=labels, colors=colors,\n",
    "       autopct='%1.1f%%', shadow=True, startangle=90)\n",
    "plt.axis('equal') # 원의 형태 유지 설정\n",
    "plt.show()\n"
   ]
  }
 ],
 "metadata": {
  "kernelspec": {
   "display_name": "Python 3 (ipykernel)",
   "language": "python",
   "name": "python3"
  },
  "language_info": {
   "codemirror_mode": {
    "name": "ipython",
    "version": 3
   },
   "file_extension": ".py",
   "mimetype": "text/x-python",
   "name": "python",
   "nbconvert_exporter": "python",
   "pygments_lexer": "ipython3",
   "version": "3.9.7"
  }
 },
 "nbformat": 4,
 "nbformat_minor": 4
}
