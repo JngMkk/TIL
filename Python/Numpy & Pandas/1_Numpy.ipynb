{
 "cells": [
  {
   "cell_type": "code",
   "execution_count": 2,
   "metadata": {},
   "outputs": [],
   "source": [
    "import numpy as np"
   ]
  },
  {
   "cell_type": "code",
   "execution_count": 3,
   "metadata": {},
   "outputs": [],
   "source": [
    "a = np.arange(5)"
   ]
  },
  {
   "cell_type": "code",
   "execution_count": 4,
   "metadata": {},
   "outputs": [
    {
     "data": {
      "text/plain": [
       "(10, 2.0)"
      ]
     },
     "execution_count": 4,
     "metadata": {},
     "output_type": "execute_result"
    }
   ],
   "source": [
    "# 합과 산술평균\n",
    "# sum(), mean()\n",
    "a.sum(), a.mean() "
   ]
  },
  {
   "cell_type": "code",
   "execution_count": 5,
   "metadata": {},
   "outputs": [
    {
     "data": {
      "text/plain": [
       "(1.4142135623730951, 2.0)"
      ]
     },
     "execution_count": 5,
     "metadata": {},
     "output_type": "execute_result"
    }
   ],
   "source": [
    "# 표준편차와 분산\n",
    "# std(), var()\n",
    "a.std(), a.var()"
   ]
  },
  {
   "cell_type": "code",
   "execution_count": 6,
   "metadata": {},
   "outputs": [
    {
     "data": {
      "text/plain": [
       "(4, 0)"
      ]
     },
     "execution_count": 6,
     "metadata": {},
     "output_type": "execute_result"
    }
   ],
   "source": [
    "# 최댓값, 최소값\n",
    "# max(), min()\n",
    "a.max(), a.min()"
   ]
  },
  {
   "cell_type": "code",
   "execution_count": 7,
   "metadata": {},
   "outputs": [],
   "source": [
    "a = np.arange(1, 5)"
   ]
  },
  {
   "cell_type": "code",
   "execution_count": 8,
   "metadata": {},
   "outputs": [
    {
     "data": {
      "text/plain": [
       "(array([ 1,  3,  6, 10], dtype=int32), array([ 1,  2,  6, 24], dtype=int32))"
      ]
     },
     "execution_count": 8,
     "metadata": {},
     "output_type": "execute_result"
    }
   ],
   "source": [
    "# 누적합, 누적곱 cumulative\n",
    "# cumsum(), cumprod()\n",
    "a.cumsum(), a.cumprod()"
   ]
  },
  {
   "cell_type": "markdown",
   "metadata": {},
   "source": [
    "##### 행렬 연산\n",
    "- 선형 대수를 위한 행렬 연산\n",
    "- 행렬 곱, 전치 행렬, 역행렬, 행렬식 등\n",
    "    - 행렬곱 : A.dot(B) or np.dot(A, B)\n",
    "    - 전치행렬 : A.transpose() or np.transpose(A)\n",
    "    - 역행렬 : np.linalg.inv(A)     linear algebra\n",
    "    - 행렬식 : np.linalg.det(A)"
   ]
  },
  {
   "cell_type": "code",
   "execution_count": 9,
   "metadata": {},
   "outputs": [
    {
     "data": {
      "text/plain": [
       "array([[1, 2],\n",
       "       [3, 4]])"
      ]
     },
     "execution_count": 9,
     "metadata": {},
     "output_type": "execute_result"
    }
   ],
   "source": [
    "a = np.arange(1, 5).reshape(2, 2)\n",
    "a"
   ]
  },
  {
   "cell_type": "code",
   "execution_count": 10,
   "metadata": {},
   "outputs": [
    {
     "data": {
      "text/plain": [
       "array([[3, 2],\n",
       "       [0, 1]])"
      ]
     },
     "execution_count": 10,
     "metadata": {},
     "output_type": "execute_result"
    }
   ],
   "source": [
    "b = np.array([3, 2, 0, 1]).reshape(2, 2)\n",
    "b"
   ]
  },
  {
   "cell_type": "code",
   "execution_count": 14,
   "metadata": {},
   "outputs": [
    {
     "data": {
      "text/plain": [
       "(array([[ 3,  4],\n",
       "        [ 9, 10]]),\n",
       " array([[ 3,  4],\n",
       "        [ 9, 10]]))"
      ]
     },
     "execution_count": 14,
     "metadata": {},
     "output_type": "execute_result"
    }
   ],
   "source": [
    "# 행렬의 곱\n",
    "np.dot(a, b), a.dot(b)"
   ]
  },
  {
   "cell_type": "code",
   "execution_count": 15,
   "metadata": {},
   "outputs": [
    {
     "data": {
      "text/plain": [
       "(array([[ 9, 14],\n",
       "        [ 3,  4]]),\n",
       " array([[ 9, 14],\n",
       "        [ 3,  4]]))"
      ]
     },
     "execution_count": 15,
     "metadata": {},
     "output_type": "execute_result"
    }
   ],
   "source": [
    "np.dot(b, a), b.dot(a)"
   ]
  },
  {
   "cell_type": "code",
   "execution_count": 19,
   "metadata": {},
   "outputs": [
    {
     "data": {
      "text/plain": [
       "(array([[3, 0],\n",
       "        [2, 1]]),\n",
       " array([[3, 0],\n",
       "        [2, 1]]),\n",
       " array([[3, 0],\n",
       "        [2, 1]]))"
      ]
     },
     "execution_count": 19,
     "metadata": {},
     "output_type": "execute_result"
    }
   ],
   "source": [
    "# 전치\n",
    "b.transpose(), np.transpose(b), b.T"
   ]
  },
  {
   "cell_type": "code",
   "execution_count": 22,
   "metadata": {},
   "outputs": [
    {
     "data": {
      "text/plain": [
       "(array([[-2. ,  1. ],\n",
       "        [ 1.5, -0.5]]),\n",
       " array([[ 0.33333333, -0.66666667],\n",
       "        [ 0.        ,  1.        ]]))"
      ]
     },
     "execution_count": 22,
     "metadata": {},
     "output_type": "execute_result"
    }
   ],
   "source": [
    "# 역행렬\n",
    "np.linalg.inv(a), np.linalg.inv(b)"
   ]
  },
  {
   "cell_type": "code",
   "execution_count": 23,
   "metadata": {},
   "outputs": [
    {
     "data": {
      "text/plain": [
       "(-2.0000000000000004, 3.0000000000000004)"
      ]
     },
     "execution_count": 23,
     "metadata": {},
     "output_type": "execute_result"
    }
   ],
   "source": [
    "# 행렬식\n",
    "np.linalg.det(a), np.linalg.det(b)"
   ]
  },
  {
   "cell_type": "code",
   "execution_count": 27,
   "metadata": {},
   "outputs": [],
   "source": [
    "a = np.arange(5,15)"
   ]
  },
  {
   "cell_type": "code",
   "execution_count": 28,
   "metadata": {},
   "outputs": [
    {
     "data": {
      "text/plain": [
       "array([6, 8, 9])"
      ]
     },
     "execution_count": 28,
     "metadata": {},
     "output_type": "execute_result"
    }
   ],
   "source": [
    "# 1, 3, 4, 위치\n",
    "a[[1, 3, 4]]"
   ]
  },
  {
   "cell_type": "code",
   "execution_count": 31,
   "metadata": {},
   "outputs": [
    {
     "data": {
      "text/plain": [
       "array([[ 1,  2,  3,  4],\n",
       "       [ 5,  6,  7,  8],\n",
       "       [ 9, 10, 11, 12]])"
      ]
     },
     "execution_count": 31,
     "metadata": {},
     "output_type": "execute_result"
    }
   ],
   "source": [
    "a = np.arange(1, 13).reshape(3, 4)\n",
    "a"
   ]
  },
  {
   "cell_type": "code",
   "execution_count": 34,
   "metadata": {},
   "outputs": [
    {
     "data": {
      "text/plain": [
       "12"
      ]
     },
     "execution_count": 34,
     "metadata": {},
     "output_type": "execute_result"
    }
   ],
   "source": [
    "# 3행 4열 정보\n",
    "a[2, 3]     # 인덱스는 0부터"
   ]
  },
  {
   "cell_type": "code",
   "execution_count": 35,
   "metadata": {},
   "outputs": [
    {
     "data": {
      "text/plain": [
       "array([[100,   2,   3,   4],\n",
       "       [  5,   6,   7,   8],\n",
       "       [  9,  10,  11,  12]])"
      ]
     },
     "execution_count": 35,
     "metadata": {},
     "output_type": "execute_result"
    }
   ],
   "source": [
    "# 값 바꾸기\n",
    "a[0, 0] = 100\n",
    "a"
   ]
  },
  {
   "cell_type": "code",
   "execution_count": 36,
   "metadata": {},
   "outputs": [
    {
     "data": {
      "text/plain": [
       "array([5, 6, 7, 8])"
      ]
     },
     "execution_count": 36,
     "metadata": {},
     "output_type": "execute_result"
    }
   ],
   "source": [
    "# 2행 선택하기\n",
    "a[1]"
   ]
  },
  {
   "cell_type": "code",
   "execution_count": 37,
   "metadata": {},
   "outputs": [
    {
     "data": {
      "text/plain": [
       "array([ 2,  6, 10])"
      ]
     },
     "execution_count": 37,
     "metadata": {},
     "output_type": "execute_result"
    }
   ],
   "source": [
    "# 2열 선택하기\n",
    "a[:,1]"
   ]
  },
  {
   "cell_type": "code",
   "execution_count": 44,
   "metadata": {},
   "outputs": [
    {
     "data": {
      "text/plain": [
       "array([[100,   2,   3,   4],\n",
       "       [  0,   0,   0,   0],\n",
       "       [ -3,  -3,  -3,  -3]])"
      ]
     },
     "execution_count": 44,
     "metadata": {},
     "output_type": "execute_result"
    }
   ],
   "source": [
    "# 행 전체 변경\n",
    "a[1] = [0, 0, 0, 0]         # OR np.array([0, 0, 0, 0])\n",
    "a[2] = -3\n",
    "a"
   ]
  },
  {
   "cell_type": "code",
   "execution_count": 48,
   "metadata": {},
   "outputs": [
    {
     "data": {
      "text/plain": [
       "array([[ True, False,  True,  True],\n",
       "       [False, False, False, False],\n",
       "       [False, False, False, False]])"
      ]
     },
     "execution_count": 48,
     "metadata": {},
     "output_type": "execute_result"
    }
   ],
   "source": [
    "# 2보다 큰 원소 선택\n",
    "a > 2"
   ]
  },
  {
   "cell_type": "code",
   "execution_count": 49,
   "metadata": {},
   "outputs": [
    {
     "data": {
      "text/plain": [
       "array([100,   3,   4])"
      ]
     },
     "execution_count": 49,
     "metadata": {},
     "output_type": "execute_result"
    }
   ],
   "source": [
    "# 비교연산 결과를 인덱스로 지정\n",
    "a[a > 2]"
   ]
  },
  {
   "cell_type": "code",
   "execution_count": 51,
   "metadata": {},
   "outputs": [
    {
     "data": {
      "text/plain": [
       "array([100,   2,   4,   0,   0,   0,   0])"
      ]
     },
     "execution_count": 51,
     "metadata": {},
     "output_type": "execute_result"
    }
   ],
   "source": [
    "# 짝수인 원소 선택\n",
    "a[a % 2 == 0]"
   ]
  },
  {
   "cell_type": "code",
   "execution_count": 52,
   "metadata": {},
   "outputs": [
    {
     "data": {
      "text/plain": [
       "array([3, 4])"
      ]
     },
     "execution_count": 52,
     "metadata": {},
     "output_type": "execute_result"
    }
   ],
   "source": [
    "a[[0, 0], [2, 3]]       # 1행 3열, 1행 4열 원소"
   ]
  },
  {
   "cell_type": "code",
   "execution_count": 55,
   "metadata": {},
   "outputs": [
    {
     "data": {
      "text/plain": [
       "array([ 1,  2,  3,  4,  5,  6,  7,  8,  9, 10])"
      ]
     },
     "execution_count": 55,
     "metadata": {},
     "output_type": "execute_result"
    }
   ],
   "source": [
    "a = np.arange(1, 11)\n",
    "a"
   ]
  },
  {
   "cell_type": "code",
   "execution_count": 56,
   "metadata": {},
   "outputs": [
    {
     "data": {
      "text/plain": [
       "array([4, 5, 6, 7, 8, 9])"
      ]
     },
     "execution_count": 56,
     "metadata": {},
     "output_type": "execute_result"
    }
   ],
   "source": [
    "a[3:9]"
   ]
  },
  {
   "cell_type": "code",
   "execution_count": 57,
   "metadata": {},
   "outputs": [
    {
     "data": {
      "text/plain": [
       "array([4, 6, 8])"
      ]
     },
     "execution_count": 57,
     "metadata": {},
     "output_type": "execute_result"
    }
   ],
   "source": [
    "# 배열명[start : end+1 : step]\n",
    "# start에서 ed 범위까지의 자료 중 step 간격의 인덱스 지정\n",
    "a[3:9:2]"
   ]
  },
  {
   "cell_type": "code",
   "execution_count": 58,
   "metadata": {},
   "outputs": [
    {
     "data": {
      "text/plain": [
       "array([ 4,  6,  8, 10])"
      ]
     },
     "execution_count": 58,
     "metadata": {},
     "output_type": "execute_result"
    }
   ],
   "source": [
    "a[3::2]"
   ]
  },
  {
   "cell_type": "code",
   "execution_count": 59,
   "metadata": {},
   "outputs": [
    {
     "data": {
      "text/plain": [
       "array([ 1,  4,  7, 10])"
      ]
     },
     "execution_count": 59,
     "metadata": {},
     "output_type": "execute_result"
    }
   ],
   "source": [
    "a[::3]"
   ]
  },
  {
   "cell_type": "code",
   "execution_count": 60,
   "metadata": {},
   "outputs": [
    {
     "data": {
      "text/plain": [
       "array([10,  9,  8,  7,  6,  5,  4,  3,  2,  1])"
      ]
     },
     "execution_count": 60,
     "metadata": {},
     "output_type": "execute_result"
    }
   ],
   "source": [
    "a[::-1]"
   ]
  },
  {
   "cell_type": "code",
   "execution_count": 64,
   "metadata": {},
   "outputs": [
    {
     "data": {
      "text/plain": [
       "array([[ 1,  2,  3,  4],\n",
       "       [ 5,  6,  7,  8],\n",
       "       [ 9, 10, 11, 12]])"
      ]
     },
     "execution_count": 64,
     "metadata": {},
     "output_type": "execute_result"
    }
   ],
   "source": [
    "a = np.arange(1, 13).reshape(3, 4)\n",
    "a"
   ]
  },
  {
   "cell_type": "code",
   "execution_count": 63,
   "metadata": {},
   "outputs": [
    {
     "data": {
      "text/plain": [
       "array([[ 6,  7],\n",
       "       [10, 11]])"
      ]
     },
     "execution_count": 63,
     "metadata": {},
     "output_type": "execute_result"
    }
   ],
   "source": [
    "a[1:3, 1:3]"
   ]
  },
  {
   "cell_type": "code",
   "execution_count": 67,
   "metadata": {},
   "outputs": [
    {
     "data": {
      "text/plain": [
       "(array([1, 2]), array([1, 2]))"
      ]
     },
     "execution_count": 67,
     "metadata": {},
     "output_type": "execute_result"
    }
   ],
   "source": [
    "a[0][:2], a[0,:2]"
   ]
  },
  {
   "cell_type": "markdown",
   "metadata": {},
   "source": [
    "##### Array boolean 인덱싱\n",
    "- 다차원의 인덱싱을 응용하여 boolean 인덱싱\n",
    "- boolean 인덱싱을 통해 만들어낸 array를 통해 원하는 행 또는 열의 값만 뽑아냄\n",
    "- 가리고 싶은 부분은 가리고, 원하는 요소만 꺼냄"
   ]
  },
  {
   "cell_type": "code",
   "execution_count": 68,
   "metadata": {},
   "outputs": [
    {
     "data": {
      "text/plain": [
       "array(['Beomwoo', 'Beomwoo', 'Kim', 'Joan', 'Lee', 'Beomwoo', 'Park',\n",
       "       'Beomwoo'], dtype='<U7')"
      ]
     },
     "execution_count": 68,
     "metadata": {},
     "output_type": "execute_result"
    }
   ],
   "source": [
    "names = np.array(['Beomwoo','Beomwoo','Kim','Joan','Lee','Beomwoo',\n",
    "                  'Park','Beomwoo'])\n",
    "                  \n",
    "names"
   ]
  },
  {
   "cell_type": "code",
   "execution_count": 69,
   "metadata": {},
   "outputs": [
    {
     "data": {
      "text/plain": [
       "(8,)"
      ]
     },
     "execution_count": 69,
     "metadata": {},
     "output_type": "execute_result"
    }
   ],
   "source": [
    "# names 크기 확인\n",
    "names.shape"
   ]
  },
  {
   "cell_type": "code",
   "execution_count": 70,
   "metadata": {},
   "outputs": [
    {
     "data": {
      "text/plain": [
       "array([[-1.40188909, -0.815619  ,  1.18066036,  0.3217641 ],\n",
       "       [ 0.25496521, -2.15482874, -0.62448626,  0.51259849],\n",
       "       [-1.15367999,  0.02042133,  0.95205456,  1.82112228],\n",
       "       [ 0.3818909 ,  0.59910807,  0.34099433,  0.0764816 ],\n",
       "       [ 0.09419874,  0.11310337,  1.48054074,  0.87438809],\n",
       "       [-0.76488143,  0.75093195,  1.35956624, -0.46413222],\n",
       "       [-0.2942526 ,  0.88882347, -0.85306923,  0.48054223],\n",
       "       [ 0.94521893,  0.58735894, -0.43691803,  1.2212803 ]])"
      ]
     },
     "execution_count": 70,
     "metadata": {},
     "output_type": "execute_result"
    }
   ],
   "source": [
    "# 8행 4열의 실수 난수 배열 생성\n",
    "# rand : uniformly\n",
    "# randn : normally\n",
    "data = np.random.randn(8, 4)\n",
    "data"
   ]
  },
  {
   "cell_type": "code",
   "execution_count": 71,
   "metadata": {},
   "outputs": [
    {
     "data": {
      "text/plain": [
       "(8, 4)"
      ]
     },
     "execution_count": 71,
     "metadata": {},
     "output_type": "execute_result"
    }
   ],
   "source": [
    "data.shape"
   ]
  },
  {
   "cell_type": "code",
   "execution_count": 74,
   "metadata": {},
   "outputs": [
    {
     "data": {
      "text/plain": [
       "array([ True,  True, False, False, False,  True, False,  True])"
      ]
     },
     "execution_count": 74,
     "metadata": {},
     "output_type": "execute_result"
    }
   ],
   "source": [
    "# 요소가 Beomwoo인 항목에 대한 mask 생성\n",
    "mask_Beomwoo = (names == 'Beomwoo')\n",
    "mask_Beomwoo"
   ]
  },
  {
   "cell_type": "code",
   "execution_count": 75,
   "metadata": {},
   "outputs": [
    {
     "data": {
      "text/plain": [
       "array([[-1.40188909, -0.815619  ,  1.18066036,  0.3217641 ],\n",
       "       [ 0.25496521, -2.15482874, -0.62448626,  0.51259849],\n",
       "       [-0.76488143,  0.75093195,  1.35956624, -0.46413222],\n",
       "       [ 0.94521893,  0.58735894, -0.43691803,  1.2212803 ]])"
      ]
     },
     "execution_count": 75,
     "metadata": {},
     "output_type": "execute_result"
    }
   ],
   "source": [
    "# 요소가 Beomwoo인 항목의 위치와 같은 행의 자료 가져오기\n",
    "data[mask_Beomwoo, :]     # OR data[names_mask_Beomwoo]"
   ]
  },
  {
   "cell_type": "code",
   "execution_count": 79,
   "metadata": {},
   "outputs": [
    {
     "data": {
      "text/plain": [
       "array([[-1.15367999,  0.02042133,  0.95205456,  1.82112228]])"
      ]
     },
     "execution_count": 79,
     "metadata": {},
     "output_type": "execute_result"
    }
   ],
   "source": [
    "# 요소가 Kim인 행의 데이터만 꺼내기\n",
    "data[names == 'Kim']    # OR data[names == 'Kim', :]"
   ]
  },
  {
   "cell_type": "code",
   "execution_count": 86,
   "metadata": {},
   "outputs": [
    {
     "data": {
      "text/plain": [
       "array([[-1.15367999,  0.02042133,  0.95205456,  1.82112228],\n",
       "       [-0.2942526 ,  0.88882347, -0.85306923,  0.48054223]])"
      ]
     },
     "execution_count": 86,
     "metadata": {},
     "output_type": "execute_result"
    }
   ],
   "source": [
    "# 논리 연산을 응용하여, 요소가 Kim 또는 Park인 행의 데이터만 꺼내기\n",
    "data[(names == 'Kim') | (names == 'Park')]"
   ]
  },
  {
   "cell_type": "code",
   "execution_count": 95,
   "metadata": {},
   "outputs": [
    {
     "data": {
      "text/plain": [
       "array([[-1.40188909, -0.815619  ,  1.18066036,  0.3217641 ],\n",
       "       [ 0.25496521, -2.15482874, -0.62448626,  0.51259849],\n",
       "       [-1.15367999,  0.02042133,  0.95205456,  1.82112228],\n",
       "       [ 0.3818909 ,  0.59910807,  0.34099433,  0.0764816 ],\n",
       "       [ 0.09419874,  0.11310337,  1.48054074,  0.87438809],\n",
       "       [-0.76488143,  0.75093195,  1.35956624, -0.46413222],\n",
       "       [-0.2942526 ,  0.88882347, -0.85306923,  0.48054223],\n",
       "       [ 0.94521893,  0.58735894, -0.43691803,  1.2212803 ]])"
      ]
     },
     "execution_count": 95,
     "metadata": {},
     "output_type": "execute_result"
    }
   ],
   "source": [
    "data"
   ]
  },
  {
   "cell_type": "code",
   "execution_count": 90,
   "metadata": {},
   "outputs": [
    {
     "data": {
      "text/plain": [
       "array([ True, False,  True, False, False,  True,  True, False])"
      ]
     },
     "execution_count": 90,
     "metadata": {},
     "output_type": "execute_result"
    }
   ],
   "source": [
    "mask = data[:, 0] < 0\n",
    "mask"
   ]
  },
  {
   "cell_type": "code",
   "execution_count": 88,
   "metadata": {},
   "outputs": [
    {
     "data": {
      "text/plain": [
       "array([[ 1.18066036,  0.3217641 ],\n",
       "       [ 0.95205456,  1.82112228],\n",
       "       [ 1.35956624, -0.46413222],\n",
       "       [-0.85306923,  0.48054223]])"
      ]
     },
     "execution_count": 88,
     "metadata": {},
     "output_type": "execute_result"
    }
   ],
   "source": [
    "data[data[:,0] < 0][:, 2:4]\n",
    "# data[data[:,0] < 0, 2:4]"
   ]
  },
  {
   "cell_type": "code",
   "execution_count": 91,
   "metadata": {},
   "outputs": [
    {
     "data": {
      "text/plain": [
       "array([[1.40188909, 0.815619  , 1.18066036, 0.3217641 ],\n",
       "       [0.25496521, 2.15482874, 0.62448626, 0.51259849],\n",
       "       [1.15367999, 0.02042133, 0.95205456, 1.82112228],\n",
       "       [0.3818909 , 0.59910807, 0.34099433, 0.0764816 ],\n",
       "       [0.09419874, 0.11310337, 1.48054074, 0.87438809],\n",
       "       [0.76488143, 0.75093195, 1.35956624, 0.46413222],\n",
       "       [0.2942526 , 0.88882347, 0.85306923, 0.48054223],\n",
       "       [0.94521893, 0.58735894, 0.43691803, 1.2212803 ]])"
      ]
     },
     "execution_count": 91,
     "metadata": {},
     "output_type": "execute_result"
    }
   ],
   "source": [
    "# 수학 관련 함수\n",
    "# 각 성분의 절댓값 계산하기\n",
    "np.abs(data)"
   ]
  },
  {
   "cell_type": "code",
   "execution_count": 97,
   "metadata": {},
   "outputs": [
    {
     "data": {
      "text/plain": [
       "(array([[1.18401397, 0.90311627, 1.08658196, 0.56724254],\n",
       "        [0.5049408 , 1.46793349, 0.79024443, 0.71595984],\n",
       "        [1.07409496, 0.14290324, 0.97573283, 1.34948964],\n",
       "        [0.61797322, 0.77402072, 0.5839472 , 0.27655307],\n",
       "        [0.30691813, 0.33630845, 1.21677473, 0.93508721],\n",
       "        [0.874575  , 0.8665633 , 1.16600439, 0.6812725 ],\n",
       "        [0.54245055, 0.94277435, 0.92361747, 0.69321153],\n",
       "        [0.97222371, 0.76639347, 0.66099776, 1.10511551]]),\n",
       " array([[1.18401397, 0.90311627, 1.08658196, 0.56724254],\n",
       "        [0.5049408 , 1.46793349, 0.79024443, 0.71595984],\n",
       "        [1.07409496, 0.14290324, 0.97573283, 1.34948964],\n",
       "        [0.61797322, 0.77402072, 0.5839472 , 0.27655307],\n",
       "        [0.30691813, 0.33630845, 1.21677473, 0.93508721],\n",
       "        [0.874575  , 0.8665633 , 1.16600439, 0.6812725 ],\n",
       "        [0.54245055, 0.94277435, 0.92361747, 0.69321153],\n",
       "        [0.97222371, 0.76639347, 0.66099776, 1.10511551]]))"
      ]
     },
     "execution_count": 97,
     "metadata": {},
     "output_type": "execute_result"
    }
   ],
   "source": [
    "# 제곱근\n",
    "np.sqrt(abs(data)), np.abs(data) ** 0.5"
   ]
  },
  {
   "cell_type": "code",
   "execution_count": 98,
   "metadata": {},
   "outputs": [
    {
     "data": {
      "text/plain": [
       "(array([[1.96529303e+00, 6.65234352e-01, 1.39395889e+00, 1.03532139e-01],\n",
       "        [6.50072602e-02, 4.64328688e+00, 3.89983087e-01, 2.62757207e-01],\n",
       "        [1.33097752e+00, 4.17030910e-04, 9.06407891e-01, 3.31648637e+00],\n",
       "        [1.45840660e-01, 3.58930479e-01, 1.16277131e-01, 5.84943506e-03],\n",
       "        [8.87340217e-03, 1.27923730e-02, 2.19200088e+00, 7.64554525e-01],\n",
       "        [5.85043609e-01, 5.63898796e-01, 1.84842036e+00, 2.15418722e-01],\n",
       "        [8.65845920e-02, 7.90007157e-01, 7.27727105e-01, 2.30920835e-01],\n",
       "        [8.93438835e-01, 3.44990528e-01, 1.90897368e-01, 1.49152557e+00]]),\n",
       " array([[1.96529303e+00, 6.65234352e-01, 1.39395889e+00, 1.03532139e-01],\n",
       "        [6.50072602e-02, 4.64328688e+00, 3.89983087e-01, 2.62757207e-01],\n",
       "        [1.33097752e+00, 4.17030910e-04, 9.06407891e-01, 3.31648637e+00],\n",
       "        [1.45840660e-01, 3.58930479e-01, 1.16277131e-01, 5.84943506e-03],\n",
       "        [8.87340217e-03, 1.27923730e-02, 2.19200088e+00, 7.64554525e-01],\n",
       "        [5.85043609e-01, 5.63898796e-01, 1.84842036e+00, 2.15418722e-01],\n",
       "        [8.65845920e-02, 7.90007157e-01, 7.27727105e-01, 2.30920835e-01],\n",
       "        [8.93438835e-01, 3.44990528e-01, 1.90897368e-01, 1.49152557e+00]]))"
      ]
     },
     "execution_count": 98,
     "metadata": {},
     "output_type": "execute_result"
    }
   ],
   "source": [
    "# 제곱\n",
    "np.square(data), data ** 2"
   ]
  },
  {
   "cell_type": "code",
   "execution_count": 99,
   "metadata": {},
   "outputs": [
    {
     "data": {
      "text/plain": [
       "array([[0.24613156, 0.44236542, 3.25652398, 1.37955931],\n",
       "       [1.29041673, 0.11592304, 0.53553649, 1.66962406],\n",
       "       [0.31547369, 1.02063128, 2.59102762, 6.17878892],\n",
       "       [1.46505224, 1.82049432, 1.40634526, 1.07948233],\n",
       "       [1.09877809, 1.11974768, 4.39532176, 2.39740784],\n",
       "       [0.46538911, 2.11897388, 3.89450365, 0.62868042],\n",
       "       [0.74508826, 2.43226633, 0.42610511, 1.61695092],\n",
       "       [2.57337672, 1.79923027, 0.64602438, 3.39152712]])"
      ]
     },
     "execution_count": 99,
     "metadata": {},
     "output_type": "execute_result"
    }
   ],
   "source": [
    "# 지수함수\n",
    "# 각 성분을 자연대수 e의 지수로 삼은 값을 계산\n",
    "# e^data\n",
    "np.exp(data)"
   ]
  },
  {
   "cell_type": "code",
   "execution_count": 100,
   "metadata": {},
   "outputs": [
    {
     "data": {
      "text/plain": [
       "array([[ 0.33782068, -0.20380795,  0.16607391, -1.1339366 ],\n",
       "       [-1.36662816,  0.76771125, -0.47082595, -0.66826242],\n",
       "       [ 0.14295683, -3.89117511, -0.04913293,  0.59945295],\n",
       "       [-0.96262031, -0.51231328, -1.07588944, -2.5707051 ],\n",
       "       [-2.3623485 , -2.17945307,  0.39240739, -0.13423097],\n",
       "       [-0.26803444, -0.28644024,  0.30716571, -0.7675858 ],\n",
       "       [-1.2233167 , -0.11785664, -0.15891458, -0.73284017],\n",
       "       [-0.0563387 , -0.53211916, -0.82800967,  0.19989973]])"
      ]
     },
     "execution_count": 100,
     "metadata": {},
     "output_type": "execute_result"
    }
   ],
   "source": [
    "# 자연로그\n",
    "np.log(abs(data))"
   ]
  },
  {
   "cell_type": "code",
   "execution_count": 101,
   "metadata": {},
   "outputs": [
    {
     "data": {
      "text/plain": [
       "array([[ 0.14671366, -0.08851267,  0.07212498, -0.49246241],\n",
       "       [-0.59351907,  0.33341276, -0.20447711, -0.29022268],\n",
       "       [ 0.06208536, -1.68991588, -0.02133816,  0.26033911],\n",
       "       [-0.41806069, -0.22249483, -0.46725285, -1.11644304],\n",
       "       [-1.02595492, -0.94652444,  0.17042036, -0.05829577],\n",
       "       [-0.11640588, -0.12439942,  0.13340037, -0.33335828],\n",
       "       [-0.53127969, -0.05118449, -0.06901572, -0.31826844],\n",
       "       [-0.02446759, -0.23109641, -0.35960003,  0.08681535]])"
      ]
     },
     "execution_count": 101,
     "metadata": {},
     "output_type": "execute_result"
    }
   ],
   "source": [
    "# 상용로그\n",
    "np.log10(abs(data))"
   ]
  },
  {
   "cell_type": "code",
   "execution_count": 102,
   "metadata": {},
   "outputs": [
    {
     "data": {
      "text/plain": [
       "array([[ 0.48737222, -0.29403271,  0.23959401, -1.63592471],\n",
       "       [-1.97162767,  1.10757321, -0.67925827, -0.96409888],\n",
       "       [ 0.2062431 , -5.61377903, -0.07088384,  0.8648278 ],\n",
       "       [-1.38876755, -0.73911183, -1.55218036, -3.70874349],\n",
       "       [-3.40814846, -3.14428614,  0.56612419, -0.19365435],\n",
       "       [-0.38669196, -0.41324592,  0.44314644, -1.10739223],\n",
       "       [-1.76487294, -0.17003119, -0.22926527, -1.05726487],\n",
       "       [-0.08127956, -0.76768567, -1.19456544,  0.28839435]])"
      ]
     },
     "execution_count": 102,
     "metadata": {},
     "output_type": "execute_result"
    }
   ],
   "source": [
    "# 밑이 2\n",
    "np.log2(abs(data))"
   ]
  },
  {
   "cell_type": "code",
   "execution_count": 105,
   "metadata": {},
   "outputs": [
    {
     "data": {
      "text/plain": [
       "array([[-1., -1.,  1.,  1.],\n",
       "       [ 1., -1., -1.,  1.],\n",
       "       [-1.,  1.,  1.,  1.],\n",
       "       [ 1.,  1.,  1.,  1.],\n",
       "       [ 1.,  1.,  1.,  1.],\n",
       "       [-1.,  1.,  1., -1.],\n",
       "       [-1.,  1., -1.,  1.],\n",
       "       [ 1.,  1., -1.,  1.]])"
      ]
     },
     "execution_count": 105,
     "metadata": {},
     "output_type": "execute_result"
    }
   ],
   "source": [
    "# 각 성분 부호 -> -1 or 0 or 1 반환\n",
    "np.sign(data)"
   ]
  },
  {
   "cell_type": "code",
   "execution_count": 110,
   "metadata": {},
   "outputs": [
    {
     "data": {
      "text/plain": [
       "array([[-1.40188909, -0.815619  ,  1.18066036,  0.3217641 ],\n",
       "       [ 0.25496521, -2.15482874, -0.62448626,  0.51259849],\n",
       "       [-1.15367999,  0.02042133,  0.95205456,  1.82112228],\n",
       "       [ 0.3818909 ,  0.59910807,  0.34099433,  0.0764816 ],\n",
       "       [ 0.09419874,  0.11310337,  1.48054074,  0.87438809],\n",
       "       [-0.76488143,  0.75093195,  1.35956624, -0.46413222],\n",
       "       [-0.2942526 ,  0.88882347, -0.85306923,  0.48054223],\n",
       "       [ 0.94521893,  0.58735894, -0.43691803,  1.2212803 ]])"
      ]
     },
     "execution_count": 110,
     "metadata": {},
     "output_type": "execute_result"
    }
   ],
   "source": [
    "data"
   ]
  },
  {
   "cell_type": "code",
   "execution_count": 108,
   "metadata": {},
   "outputs": [
    {
     "data": {
      "text/plain": [
       "array([[-2., -1.,  1.,  0.],\n",
       "       [ 0., -3., -1.,  0.],\n",
       "       [-2.,  0.,  0.,  1.],\n",
       "       [ 0.,  0.,  0.,  0.],\n",
       "       [ 0.,  0.,  1.,  0.],\n",
       "       [-1.,  0.,  1., -1.],\n",
       "       [-1.,  0., -1.,  0.],\n",
       "       [ 0.,  0., -1.,  1.]])"
      ]
     },
     "execution_count": 108,
     "metadata": {},
     "output_type": "execute_result"
    }
   ],
   "source": [
    "# 각 성분 소수 첫 번째 자리에서 내림한 값\n",
    "np.floor(data)"
   ]
  },
  {
   "cell_type": "code",
   "execution_count": 109,
   "metadata": {},
   "outputs": [
    {
     "data": {
      "text/plain": [
       "array([[-1., -0.,  2.,  1.],\n",
       "       [ 1., -2., -0.,  1.],\n",
       "       [-1.,  1.,  1.,  2.],\n",
       "       [ 1.,  1.,  1.,  1.],\n",
       "       [ 1.,  1.,  2.,  1.],\n",
       "       [-0.,  1.,  2., -0.],\n",
       "       [-0.,  1., -0.,  1.],\n",
       "       [ 1.,  1., -0.,  2.]])"
      ]
     },
     "execution_count": 109,
     "metadata": {},
     "output_type": "execute_result"
    }
   ],
   "source": [
    "# 올림값\n",
    "np.ceil(data)"
   ]
  },
  {
   "cell_type": "code",
   "execution_count": 111,
   "metadata": {},
   "outputs": [
    {
     "name": "stderr",
     "output_type": "stream",
     "text": [
      "C:\\Users\\JngMK\\AppData\\Local\\Temp/ipykernel_12984/632016115.py:2: RuntimeWarning: invalid value encountered in sqrt\n",
      "  np.isnan(np.sqrt(data))\n"
     ]
    },
    {
     "data": {
      "text/plain": [
       "array([[ True,  True, False, False],\n",
       "       [False,  True,  True, False],\n",
       "       [ True, False, False, False],\n",
       "       [False, False, False, False],\n",
       "       [False, False, False, False],\n",
       "       [ True, False, False,  True],\n",
       "       [ True, False,  True, False],\n",
       "       [False, False,  True, False]])"
      ]
     },
     "execution_count": 111,
     "metadata": {},
     "output_type": "execute_result"
    }
   ],
   "source": [
    "# NaN 여부 확인\n",
    "np.isnan(np.sqrt(data))"
   ]
  },
  {
   "cell_type": "code",
   "execution_count": 113,
   "metadata": {},
   "outputs": [
    {
     "data": {
      "text/plain": [
       "array([[False, False, False, False],\n",
       "       [False, False, False, False],\n",
       "       [False, False, False, False],\n",
       "       [False, False, False, False],\n",
       "       [False, False, False, False],\n",
       "       [False, False, False, False],\n",
       "       [False, False, False, False],\n",
       "       [False, False, False, False]])"
      ]
     },
     "execution_count": 113,
     "metadata": {},
     "output_type": "execute_result"
    }
   ],
   "source": [
    "# 무한대 확인\n",
    "np.isinf(data)"
   ]
  },
  {
   "cell_type": "code",
   "execution_count": 115,
   "metadata": {},
   "outputs": [
    {
     "data": {
      "text/plain": [
       "array([[-0.98576905, -0.72815001,  0.92485736,  0.31624062],\n",
       "       [ 0.25221175, -0.834246  , -0.58468057,  0.49044341],\n",
       "       [-0.91426099,  0.02041992,  0.81460889,  0.96883173],\n",
       "       [ 0.37267582,  0.56390611,  0.33442433,  0.07640706],\n",
       "       [ 0.09405949,  0.11286238,  0.99592973,  0.76715112],\n",
       "       [-0.69245146,  0.68232036,  0.97777375, -0.447647  ],\n",
       "       [-0.29002465,  0.77633069, -0.7533025 ,  0.46226006],\n",
       "       [ 0.81062515,  0.55416452, -0.42314903,  0.93953856]])"
      ]
     },
     "execution_count": 115,
     "metadata": {},
     "output_type": "execute_result"
    }
   ],
   "source": [
    "# sin\n",
    "np.sin(data)"
   ]
  },
  {
   "cell_type": "code",
   "execution_count": 117,
   "metadata": {},
   "outputs": [
    {
     "data": {
      "text/plain": [
       "6.29425764957678"
      ]
     },
     "execution_count": 117,
     "metadata": {},
     "output_type": "execute_result"
    }
   ],
   "source": [
    "# 전체 성분 합\n",
    "np.sum(data)"
   ]
  },
  {
   "cell_type": "code",
   "execution_count": 119,
   "metadata": {},
   "outputs": [
    {
     "data": {
      "text/plain": [
       "array([-0.71508363, -2.01175129,  1.63991819,  1.3984749 ,  2.56223094,\n",
       "        0.88148453,  0.22204387,  2.31694014])"
      ]
     },
     "execution_count": 119,
     "metadata": {},
     "output_type": "execute_result"
    }
   ],
   "source": [
    "# 우측\n",
    "np.sum(data, axis = 1)"
   ]
  },
  {
   "cell_type": "code",
   "execution_count": 121,
   "metadata": {},
   "outputs": [
    {
     "data": {
      "text/plain": [
       "array([-1.93842933, -0.01070059,  3.39934271,  4.84404486])"
      ]
     },
     "execution_count": 121,
     "metadata": {},
     "output_type": "execute_result"
    }
   ],
   "source": [
    "# 아래로\n",
    "np.sum(data, axis = 0)"
   ]
  },
  {
   "cell_type": "code",
   "execution_count": 122,
   "metadata": {},
   "outputs": [
    {
     "data": {
      "text/plain": [
       "0.19669555154927437"
      ]
     },
     "execution_count": 122,
     "metadata": {},
     "output_type": "execute_result"
    }
   ],
   "source": [
    "np.mean(data)"
   ]
  },
  {
   "cell_type": "code",
   "execution_count": 123,
   "metadata": {},
   "outputs": [
    {
     "data": {
      "text/plain": [
       "array([-0.17877091, -0.50293782,  0.40997955,  0.34961872,  0.64055773,\n",
       "        0.22037113,  0.05551097,  0.57923504])"
      ]
     },
     "execution_count": 123,
     "metadata": {},
     "output_type": "execute_result"
    }
   ],
   "source": [
    "np.mean(data, axis=1)"
   ]
  },
  {
   "cell_type": "code",
   "execution_count": 125,
   "metadata": {},
   "outputs": [
    {
     "data": {
      "text/plain": [
       "(0.8905630510756297,\n",
       " array([1.00002278, 1.04274261, 1.10475743, 0.185718  , 0.57813587,\n",
       "        0.86869554, 0.67507663, 0.62825142]))"
      ]
     },
     "execution_count": 125,
     "metadata": {},
     "output_type": "execute_result"
    }
   ],
   "source": [
    "np.std(data), np.std(data, axis=1)"
   ]
  },
  {
   "cell_type": "code",
   "execution_count": 126,
   "metadata": {},
   "outputs": [
    {
     "data": {
      "text/plain": [
       "array([-1.40188909, -2.15482874, -0.85306923, -0.46413222])"
      ]
     },
     "execution_count": 126,
     "metadata": {},
     "output_type": "execute_result"
    }
   ],
   "source": [
    "np.min(data, axis = 0)"
   ]
  },
  {
   "cell_type": "code",
   "execution_count": 128,
   "metadata": {},
   "outputs": [
    {
     "data": {
      "text/plain": [
       "(11, 5)"
      ]
     },
     "execution_count": 128,
     "metadata": {},
     "output_type": "execute_result"
    }
   ],
   "source": [
    "# 최대값, 최소값 위치 인덱스\n",
    "np.argmax(data), np.argmin(data)"
   ]
  },
  {
   "cell_type": "code",
   "execution_count": 136,
   "metadata": {},
   "outputs": [
    {
     "data": {
      "text/plain": [
       "array([2, 3, 3, 1, 2, 2, 1, 3], dtype=int64)"
      ]
     },
     "execution_count": 136,
     "metadata": {},
     "output_type": "execute_result"
    }
   ],
   "source": [
    "np.argmax(data, axis = 1)"
   ]
  },
  {
   "cell_type": "code",
   "execution_count": 139,
   "metadata": {},
   "outputs": [
    {
     "data": {
      "text/plain": [
       "array([[-1.40188909, -0.815619  ,  0.3217641 ,  1.18066036],\n",
       "       [-2.15482874, -0.62448626,  0.25496521,  0.51259849],\n",
       "       [-1.15367999,  0.02042133,  0.95205456,  1.82112228],\n",
       "       [ 0.0764816 ,  0.34099433,  0.3818909 ,  0.59910807],\n",
       "       [ 0.09419874,  0.11310337,  0.87438809,  1.48054074],\n",
       "       [-0.76488143, -0.46413222,  0.75093195,  1.35956624],\n",
       "       [-0.85306923, -0.2942526 ,  0.48054223,  0.88882347],\n",
       "       [-0.43691803,  0.58735894,  0.94521893,  1.2212803 ]])"
      ]
     },
     "execution_count": 139,
     "metadata": {},
     "output_type": "execute_result"
    }
   ],
   "source": [
    "# 행마다 오름차순\n",
    "np.sort(data)"
   ]
  },
  {
   "cell_type": "code",
   "execution_count": 144,
   "metadata": {},
   "outputs": [
    {
     "data": {
      "text/plain": [
       "array([[-1.40188909, -2.15482874, -0.85306923, -0.46413222],\n",
       "       [-1.15367999, -0.815619  , -0.62448626,  0.0764816 ],\n",
       "       [-0.76488143,  0.02042133, -0.43691803,  0.3217641 ],\n",
       "       [-0.2942526 ,  0.11310337,  0.34099433,  0.48054223],\n",
       "       [ 0.09419874,  0.58735894,  0.95205456,  0.51259849],\n",
       "       [ 0.25496521,  0.59910807,  1.18066036,  0.87438809],\n",
       "       [ 0.3818909 ,  0.75093195,  1.35956624,  1.2212803 ],\n",
       "       [ 0.94521893,  0.88882347,  1.48054074,  1.82112228]])"
      ]
     },
     "execution_count": 144,
     "metadata": {},
     "output_type": "execute_result"
    }
   ],
   "source": [
    "# 열마다 오름차순\n",
    "np.sort(data, axis=0)"
   ]
  },
  {
   "cell_type": "code",
   "execution_count": 147,
   "metadata": {},
   "outputs": [
    {
     "data": {
      "text/plain": [
       "array([[ 0.14213949,  0.96828522,  0.94450209],\n",
       "       [ 0.35204159,  1.69576256,  1.18400881],\n",
       "       [ 1.37112503, -0.84413717,  0.61625061]])"
      ]
     },
     "execution_count": 147,
     "metadata": {},
     "output_type": "execute_result"
    }
   ],
   "source": [
    "data = np.random.randn(3,3)\n",
    "data"
   ]
  },
  {
   "cell_type": "code",
   "execution_count": 150,
   "metadata": {},
   "outputs": [
    {
     "data": {
      "text/plain": [
       "array([[-0.84413717,  0.61625061,  1.37112503],\n",
       "       [ 0.35204159,  1.18400881,  1.69576256],\n",
       "       [ 0.14213949,  0.94450209,  0.96828522]])"
      ]
     },
     "execution_count": 150,
     "metadata": {},
     "output_type": "execute_result"
    }
   ],
   "source": [
    "np.sort(data)[::-1]"
   ]
  },
  {
   "cell_type": "code",
   "execution_count": 156,
   "metadata": {},
   "outputs": [
    {
     "data": {
      "text/plain": [
       "(array([[-1.51044709, -0.34656128],\n",
       "        [ 0.66281747,  0.82115479]]),\n",
       " array([[ 1.56245249,  0.61153757],\n",
       "        [-0.59674766, -0.95137621]]))"
      ]
     },
     "execution_count": 156,
     "metadata": {},
     "output_type": "execute_result"
    }
   ],
   "source": [
    "a = np.random.randn(2, 2)\n",
    "b = np.random.randn(2, 2)\n",
    "a , b"
   ]
  },
  {
   "cell_type": "code",
   "execution_count": 158,
   "metadata": {},
   "outputs": [
    {
     "data": {
      "text/plain": [
       "array([[ 0.05200539,  0.2649763 ],\n",
       "       [ 0.06606981, -0.13022142]])"
      ]
     },
     "execution_count": 158,
     "metadata": {},
     "output_type": "execute_result"
    }
   ],
   "source": [
    "np.add(a, b)"
   ]
  },
  {
   "cell_type": "code",
   "execution_count": 159,
   "metadata": {},
   "outputs": [
    {
     "data": {
      "text/plain": [
       "array([[-3.07289958, -0.95809885],\n",
       "       [ 1.25956513,  1.772531  ]])"
      ]
     },
     "execution_count": 159,
     "metadata": {},
     "output_type": "execute_result"
    }
   ],
   "source": [
    "np.subtract(a, b)"
   ]
  },
  {
   "cell_type": "code",
   "execution_count": 160,
   "metadata": {},
   "outputs": [
    {
     "data": {
      "text/plain": [
       "array([[-2.36000182, -0.21193524],\n",
       "       [-0.39553477, -0.78122713]])"
      ]
     },
     "execution_count": 160,
     "metadata": {},
     "output_type": "execute_result"
    }
   ],
   "source": [
    "np.multiply(a, b)\n"
   ]
  },
  {
   "cell_type": "code",
   "execution_count": 161,
   "metadata": {},
   "outputs": [
    {
     "data": {
      "text/plain": [
       "array([[-0.96671554, -0.5667048 ],\n",
       "       [-1.1107165 , -0.86312311]])"
      ]
     },
     "execution_count": 161,
     "metadata": {},
     "output_type": "execute_result"
    }
   ],
   "source": [
    "np.divide(a, b)"
   ]
  },
  {
   "cell_type": "code",
   "execution_count": 162,
   "metadata": {},
   "outputs": [
    {
     "data": {
      "text/plain": [
       "array([[1.56245249, 0.61153757],\n",
       "       [0.66281747, 0.82115479]])"
      ]
     },
     "execution_count": 162,
     "metadata": {},
     "output_type": "execute_result"
    }
   ],
   "source": [
    "np.maximum(a, b)"
   ]
  },
  {
   "cell_type": "code",
   "execution_count": 163,
   "metadata": {},
   "outputs": [
    {
     "data": {
      "text/plain": [
       "array([[-1.51044709, -0.34656128],\n",
       "       [-0.59674766, -0.95137621]])"
      ]
     },
     "execution_count": 163,
     "metadata": {},
     "output_type": "execute_result"
    }
   ],
   "source": [
    "np.minimum(a, b)"
   ]
  }
 ],
 "metadata": {
  "interpreter": {
   "hash": "651c12411072babf488ffa85eb5cda969fee76a9e1aa69b19ba13d9ed7cb3552"
  },
  "kernelspec": {
   "display_name": "Python 3.9.7 64-bit ('base': conda)",
   "language": "python",
   "name": "python3"
  },
  "language_info": {
   "codemirror_mode": {
    "name": "ipython",
    "version": 3
   },
   "file_extension": ".py",
   "mimetype": "text/x-python",
   "name": "python",
   "nbconvert_exporter": "python",
   "pygments_lexer": "ipython3",
   "version": "3.9.7"
  },
  "orig_nbformat": 4
 },
 "nbformat": 4,
 "nbformat_minor": 2
}
