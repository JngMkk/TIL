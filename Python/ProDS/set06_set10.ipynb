{
 "cells": [
  {
   "cell_type": "code",
   "execution_count": 16,
   "metadata": {},
   "outputs": [],
   "source": [
    "from IPython.core.interactiveshell import InteractiveShell\n",
    "InteractiveShell.ast_node_interactivity=\"all\""
   ]
  },
  {
   "cell_type": "code",
   "execution_count": 17,
   "metadata": {},
   "outputs": [
    {
     "data": {
      "text/plain": [
       "1167272"
      ]
     },
     "execution_count": 17,
     "metadata": {},
     "output_type": "execute_result"
    }
   ],
   "source": [
    "# =============================================================================\n",
    "# =============================================================================\n",
    "# # 문제 06 유형(DataSet_06.csv 이용)\n",
    "#\n",
    "# 구분자 : comma(“,”), 4,323 Rows, 19 Columns, UTF-8 인코딩\n",
    "\n",
    "# 주택 관련 정보를 바탕으로 주택 가격을 예측해 보고자 한다. \n",
    "# 다음은 확보한 주택 관련 데이터로 총 19개 컬럼으로 구성되어\n",
    "# 있다.\n",
    "\n",
    "# 컬 럼 / 정 의 / Type\n",
    "# id / 매물 번호 / Double\n",
    "# date / 날짜 / String\n",
    "# price / 거래 가격 / Double\n",
    "# bedrooms / 방 개수 / Double\n",
    "# bathrooms / 화장실 개수 (화장실은 있으나 샤워기 없는 경우 0.5로 처리) / Double\n",
    "# sqft_living / 건축물 면적 / Double\n",
    "# sqft_lot / 대지 면적 / Double\n",
    "# floors / 건축물의 층수 / Double\n",
    "# waterfront / 강변 조망 가능 여부 (0 / 1) / Double\n",
    "# view / 경관 (나쁨에서 좋음으로 0 ~ 4로 표시) / Double\n",
    "# condition / 관리 상태 (나쁨에서 좋음으로 1 ~ 5로 표시) / Double\n",
    "# grade / 등급 (낮음에서 높음으로 1 ~ 13으로 표시) / Double\n",
    "# sqft_above / 지상 면적 / Double\n",
    "# sqft_basement / 지하실 면적 / Double\n",
    "# yr_built / 건축 연도 / Double\n",
    "# yr_renovated / 개축 연도 / Double\n",
    "# zipcode / 우편번호 / Double\n",
    "# sqft_living15 / 15개의 인근 주택의 평균 건물 면적 / Double\n",
    "# sqft_lot15 / 15개의 인근 주택의 평균 대지 면적 / Double\n",
    "# =============================================================================\n",
    "# =============================================================================\n",
    "\n",
    "# =============================================================================\n",
    "# 1.강변 조망이 가능한지 여부(waterfront)에 따라 평균 주택 가격을 계산하고 조망이\n",
    "# 가능한 경우와 그렇지 않은 경우의 평균 가격 차이의 절대값을 구하시오. 답은\n",
    "# 소수점 이하는 버리고 정수부만 기술하시오. (답안 예시) 1234567\n",
    "# =============================================================================\n",
    "\n",
    "import pandas as pd\n",
    "data = pd.read_csv('./data/Dataset_06.csv')\n",
    "q1 = data.groupby(data.waterfront)[['price']].mean()\n",
    "int(abs(q1.price[0] - q1.price[1]))\n",
    "# 답 : 1167272"
   ]
  },
  {
   "cell_type": "code",
   "execution_count": 22,
   "metadata": {},
   "outputs": [
    {
     "data": {
      "text/plain": [
       "bedrooms       0.279824\n",
       "bathrooms      0.534277\n",
       "sqft_living    0.709157\n",
       "sqft_lot       0.106341\n",
       "floors         0.270423\n",
       "yr_built       0.059895\n",
       "Name: price, dtype: float64"
      ]
     },
     "execution_count": 22,
     "metadata": {},
     "output_type": "execute_result"
    },
    {
     "data": {
      "text/plain": [
       "'sqft_living'"
      ]
     },
     "execution_count": 22,
     "metadata": {},
     "output_type": "execute_result"
    },
    {
     "data": {
      "text/plain": [
       "'yr_built'"
      ]
     },
     "execution_count": 22,
     "metadata": {},
     "output_type": "execute_result"
    }
   ],
   "source": [
    "# =============================================================================\n",
    "# 2.price, bedrooms, bathrooms, sqft_living, sqft_lot, floors, yr_built 등 7개의 변수 간의\n",
    "# 상관분석을 수행하고 price와의 상관계수의 절대값이 가장 큰 변수와 가장 작은\n",
    "# 변수를 차례로 기술하시오. (답안 예시) view, zipcode\n",
    "# \n",
    "# =============================================================================\n",
    "\n",
    "var_list = ['price', 'bedrooms', 'bathrooms', 'sqft_living', 'sqft_lot', 'floors', 'yr_built']\n",
    "\n",
    "q2 = data[var_list].corr().abs().drop('price')['price']\n",
    "q2\n",
    "q2.idxmax()\n",
    "q2.idxmin()\n",
    "\n",
    "# 답 : sqft_living , yr_built"
   ]
  },
  {
   "cell_type": "code",
   "execution_count": 35,
   "metadata": {},
   "outputs": [
    {
     "data": {
      "text/plain": [
       "13"
      ]
     },
     "execution_count": 35,
     "metadata": {},
     "output_type": "execute_result"
    },
    {
     "data": {
      "text/plain": [
       "2"
      ]
     },
     "execution_count": 35,
     "metadata": {},
     "output_type": "execute_result"
    }
   ],
   "source": [
    "# =============================================================================\n",
    "# 3. id, date, 그리고 zipcode를 제외한 모든 변수를 독립변수로, price를 종속변수로 하여\n",
    "# 회귀분석을 수행하시오. 통계적 유의성을 갖지 못하는 독립변수를 제거하면 회귀\n",
    "# 모형에 남는 변수는 모두 몇 개인가? 이 때 음의 회귀계수를 가지는 변수는 몇 개인가?\n",
    "# (답안 예시) 5, 3\n",
    "# =============================================================================\n",
    "\n",
    "# =============================================================================\n",
    "# (참고)\n",
    "# import pandas as pd\n",
    "# import numpy as np\n",
    "# from sklearn.linear_model import LinearRegression\n",
    "# from statsmodels.formula.api import ols\n",
    "# =============================================================================\n",
    "\n",
    "# 통계적 유의성을 갖지 못하는 독립변수를 제거하면 = pvalue < 0.05\n",
    "\n",
    "\n",
    "# 회귀분석\n",
    "from statsmodels.formula.api import ols\n",
    "\n",
    "var_list = data.columns.drop(['id', 'date', 'zipcode', 'price'])\n",
    "\n",
    "form1 = 'price~' + '+'.join(var_list)\n",
    "\n",
    "lm = ols(form1, data).fit()\n",
    "\n",
    "# 통계적 유의성을 갖지 못하는 독립변수를 제거하고 모형에 남는 변수는 몇 개?\n",
    "q3_out = lm.pvalues.drop('Intercept')\n",
    "sum(q3_out < 0.05)      # 13\n",
    "\n",
    "# 이 때 음의 회귀계수를 가지는 변수는 몇 개?\n",
    "# 선택된(유의성을 갖는) 변수 목록\n",
    "sel_list = q3_out[q3_out < 0.05].index\n",
    "\n",
    "# 유의성을 갖는 변수 중 회귀계수 호출 & 음수\n",
    "sum(lm.params[sel_list] < 0)    # 2\n",
    "\n",
    "# 답 : 13, 2"
   ]
  },
  {
   "cell_type": "code",
   "execution_count": 36,
   "metadata": {},
   "outputs": [],
   "source": [
    "# =============================================================================\n",
    "# # 문제 07 유형(DataSet_07.csv 이용)\n",
    "#\n",
    "# 구분자 : comma(“,”), 400 Rows, 9 Columns, UTF-8 인코딩\n",
    "#\n",
    "# 대학원 진학을 위하여 어떤 항목이 중요하게 영향을 미치는지\n",
    "# 아래 데이터로 분석하고자 한다.\n",
    "\n",
    "# 컬 럼 / 정 의 / Type\n",
    "# Serial_No / 구분자 번호 / Double\n",
    "# GRE / GRE 시험 성적 / Double\n",
    "# TOEFL / TOEFL 시험 성적 / Double\n",
    "# University_Rating / 대학 평가 그룹 (1 ~ 5) / Double\n",
    "# SOP / 자기 소개서 점수 (1 ~ 5) / Double\n",
    "# LOR / 추천서 점수 (1 ~ 5) / Double\n",
    "# CGPA / 학부 평량 평점 (10점 만점 환산 점수) / Double\n",
    "# Research / 연구 참여 경험 여부 (0 / 1) / Double\n",
    "# Chance_of_Admit / 합격 가능성 / Double\n",
    "# =============================================================================\n",
    "# =============================================================================\n",
    "\n",
    "# =============================================================================\n",
    "# (참고)\n",
    "# #1\n",
    "# import pandas as pd\n",
    "# #2\n",
    "# import scipy.stats as stats\n",
    "# #3\n",
    "# from sklearn.linear_model import LogisticRegression\n",
    "# Solver = ‘liblinear’, random_state = 12\n",
    "# =============================================================================\n",
    "\n",
    "# =============================================================================\n",
    "# 1. 합격 가능성에 GRE, TOEFL, CGPA 점수 가운데 가장 영향이 큰 것이 어떤 점수인지\n",
    "# 알아 보기 위해서 상관 분석을 수행한다.\n",
    "# - 피어슨(Pearson) 상관계수 값을 구한다.\n",
    "# - Chance_of_Admit와의 가장 큰 상관계수 값을 가지는 항목의 상관계수를 소수점 넷째\n",
    "# 자리에서 반올림하여 셋째 자리까지 기술하시오. (답안 예시) 0.123\n",
    "# =============================================================================\n"
   ]
  },
  {
   "cell_type": "code",
   "execution_count": 37,
   "metadata": {},
   "outputs": [],
   "source": [
    "# =============================================================================\n",
    "# 2.GRE 점수의 평균 이상을 받은 그룹과 평균 미만을 받은 그룹의 CGPA 평균은 차이가\n",
    "# 있는지\n",
    "# 검정을 하고자 한다.\n",
    "# - 적절한 검정 방법을 선택하고 양측 검정을 수행하시오 (등분산으로 가정)\n",
    "# - 검정 결과, 검정통계량의 추정치를 소수점 셋째 자리에서 반올림하여 소수점 두 자리까지\n",
    "# 기술하시오.\n",
    "# (답안 예시) 1.23\n",
    "# ============================================================================="
   ]
  },
  {
   "cell_type": "code",
   "execution_count": 38,
   "metadata": {},
   "outputs": [],
   "source": [
    "# =============================================================================\n",
    "# 3.Chance_of_Admit 확률이 0.5를 초과하면 합격으로, 이하이면 불합격으로 구분하고\n",
    "# 로지스틱 회귀분석을 수행하시오.\n",
    "# - 원데이터만 사용하고, 원데이터 가운데 Serial_No와 Label은 모형에서 제외\n",
    "# - 각 설정값은 다음과 같이 지정하고, 언급되지 않은 사항은 기본 설정값을 사용하시오\n",
    "# Seed : 123\n",
    "# - 로지스틱 회귀분석 수행 결과에서 로지스틱 회귀계수의 절대값이 가장 큰 변수와 그 값을\n",
    "# 기술하시오. \n",
    "# (로지스틱 회귀계수는 반올림하여 소수점 둘째 자리까지 / Intercept는 제외)\n",
    "# (답안 예시) abc, 0.12\n",
    "# =============================================================================\n"
   ]
  },
  {
   "cell_type": "code",
   "execution_count": 39,
   "metadata": {},
   "outputs": [],
   "source": [
    "# =============================================================================\n",
    "# =============================================================================\n",
    "# # 문제 08 유형(DataSet_08.csv 이용)\n",
    "#\n",
    "# 구분자 : comma(“,”), 50 Rows, 5 Columns, UTF-8 인코딩\n",
    "#\n",
    "# 스타트업 기업들의 수익성에 대한 분석을 하기 위하여\n",
    "# 아래와 같은 데이터를 입수하였다\n",
    "#\n",
    "# \n",
    "# 컬 럼 / 정 의 / Type\n",
    "# RandD_Spend / 연구개발비 지출 / Double\n",
    "# Administration / 운영관리비 지출 / Double\n",
    "# Marketing_Spend / 마케팅비 지출 / Double\n",
    "# State / 본사 위치 / String\n",
    "# Profit / 이익 / Double\n",
    "# =============================================================================\n",
    "# =============================================================================\n",
    "\n",
    "# =============================================================================\n",
    "# (참고)\n",
    "# #1\n",
    "# import pandas as pd\n",
    "# import numpy as np\n",
    "# #3\n",
    "# from sklearn.linear_model import LinearRegression\n",
    "# =============================================================================\n",
    "\n",
    "# =============================================================================\n",
    "# 1.각 주(State)별 데이터 구성비를 소수점 둘째 자리까지 구하고, 알파벳 순으로\n",
    "# 기술하시오(주 이름 기준).\n",
    "# (답안 예시) 0.12, 0.34, 0.54\n",
    "# ============================================================================="
   ]
  },
  {
   "cell_type": "code",
   "execution_count": 40,
   "metadata": {},
   "outputs": [],
   "source": [
    "# =============================================================================\n",
    "# 2.주별 이익의 평균을 구하고, 평균 이익이 가장 큰 주와 작은 주의 차이를 구하시오. \n",
    "# 차이값은 소수점 이하는 버리고 정수부분만 기술하시오. (답안 예시) 1234\n",
    "# ============================================================================="
   ]
  },
  {
   "cell_type": "code",
   "execution_count": 41,
   "metadata": {},
   "outputs": [],
   "source": [
    "# =============================================================================\n",
    "# 3.독립변수로 RandD_Spend, Administration, Marketing_Spend를 사용하여 Profit을 주별로\n",
    "# 예측하는 회귀 모형을 만들고, 이 회귀모형을 사용하여 학습오차를 산출하시오.\n",
    "# - 주별로 계산된 학습오차 중 MAPE 기준으로 가장 낮은 오차를 보이는 주는 어느\n",
    "# 주이고 그 값은 무엇인가? (반올림하여 소수점 둘째 자리까지 기술하시오)\n",
    "# - (MAPE = Σ ( | y - y ̂ | / y ) * 100/n )\n",
    "# (답안 예시) ABC, 1.56\n",
    "# ============================================================================="
   ]
  },
  {
   "cell_type": "code",
   "execution_count": 42,
   "metadata": {},
   "outputs": [],
   "source": [
    "# =============================================================================\n",
    "# =============================================================================\n",
    "# # 문제 09 유형(DataSet_09.csv 이용)\n",
    "#\n",
    "# 구분자 : comma(“,”), 2000 Rows, 16 Columns, UTF-8 인코딩\n",
    "#\n",
    "# 항공사에서 고객만족도 조사를 하고 서비스 개선에 활용하고자\n",
    "# 아래와 같은 데이터를 준비하였다.\n",
    "#\n",
    "# 컬 럼 / 정 의 / Type\n",
    "# satisfaction / 서비스 만족 여부 / String\n",
    "# Gender / 성별 / String\n",
    "# Age / 나이 / Double\n",
    "# Customer_Type / 고객 타입 / String\n",
    "# Class / 탑승 좌석 등급 / String\n",
    "# Flight_Distance / 비행 거리 / Double\n",
    "# Seat_comfort / 좌석 안락도 점수 / Double\n",
    "# Food_and_Drink / 식사와 음료 점수 / Double\n",
    "# Inflight_wifi_service / 기내 와이파이 서비스 점수 / Double\n",
    "# Inflight_entertainment / 기내 엔터테인먼트 서비스 점수 / Double\n",
    "# Onboard_service / 탑승 서비스 점수 / Double\n",
    "# Leg_room_service / 다리 공간 점수 / Double\n",
    "# Baggage_handling / 수하물 취급 점수 / Double\n",
    "# Cleanliness / 청결도 점수 / Double\n",
    "# Departure_Daly_in_Minutes / 출발 지연 (분) / Double\n",
    "# Arrival_Delay_in_Minutes / 도착 지연 (분) / Double\n",
    "# =============================================================================\n",
    "# =============================================================================\n",
    "\n",
    "# =============================================================================\n",
    "# (참고)\n",
    "# #1\n",
    "# import pandas as pd\n",
    "# import numpy as np\n",
    "# #2\n",
    "# import scipy.stats as stats\n",
    "# #3\n",
    "# from sklearn.linear_model import LogisticRegression\n",
    "# from sklearn.model_selection import train_test_split\n",
    "# from sklearn import metrics\n",
    "# \n",
    "# =============================================================================\n",
    "\n",
    "# =============================================================================\n",
    "# 1.데이터 타입을 위 표에 정의된 타입으로 전처리를 한 후, 데이터 파일 내에 결측값은\n",
    "# 총 몇 개인가? (답안 예시) 1\n",
    "# ============================================================================="
   ]
  },
  {
   "cell_type": "code",
   "execution_count": 43,
   "metadata": {},
   "outputs": [],
   "source": [
    "# =============================================================================\n",
    "# 2.다음에 제시된 데이터 처리를 하고 카이제곱 독립성 검정을 수행하시오.\n",
    "# - 결측값이 있다면 해당 행을 제거하시오.\n",
    "# - 나이는 20 이하이면 10, 30 이하이면 20, 40 이하이면 30, 50 이하이면 40, 60 이하이면 50, \n",
    "# 60 초과는 60으로 변환하여 Age_gr으로 파생변수를 생성하시오.\n",
    "# - Age_gr, Gender, Customer_Type, Class 변수가 satisfaction에 영향이 있는지 카이제곱\n",
    "# 독립성 검정을 수행하시오. \n",
    "# - 연관성이 있는 것으로 파악된 변수의 검정통계량 추정치를 정수 부분만 기술하시오. \n",
    "# (답안 예시) 123\n",
    "# ============================================================================="
   ]
  },
  {
   "cell_type": "code",
   "execution_count": 44,
   "metadata": {},
   "outputs": [],
   "source": [
    "# =============================================================================\n",
    "# 3.고객 만족도를 라벨로 하여 다음과 같이 로지스틱 회귀분석을 수행하시오. \n",
    "# - 결측치가 포함된 행은 제거\n",
    "# - 데이터를 7대 3으로 분리 (Seed = 123)\n",
    "# - 아래의 11개 변수를 Feature로 사용\n",
    "# Flight_Distance, Seat_comfort, Food_and_drink, Inflight_wifi_service, \n",
    "# Inflight_entertainment,Onboard_service, Leg_room_service, Baggage_handling,\n",
    "# Cleanliness, Departure_Delay_in_Minutes, Arrival_Delay_in_Minutes\n",
    "# \n",
    "# - Seed = 123, 이외의 항목은 모두 Default 사용\n",
    "# - 예측 정확도를 측정하고 dissatisfied의 f1 score를 소수점 넷째 자리에서 반올림하여\n",
    "# 소수점 셋째 자리까지 기술하시오. (답안 예시) 0.123\n",
    "# ============================================================================="
   ]
  },
  {
   "cell_type": "code",
   "execution_count": 93,
   "metadata": {},
   "outputs": [
    {
     "name": "stderr",
     "output_type": "stream",
     "text": [
      "/tmp/ipykernel_56697/466723488.py:41: SettingWithCopyWarning: \n",
      "A value is trying to be set on a copy of a slice from a DataFrame.\n",
      "Try using .loc[row_indexer,col_indexer] = value instead\n",
      "\n",
      "See the caveats in the documentation: https://pandas.pydata.org/pandas-docs/stable/user_guide/indexing.html#returning-a-view-versus-a-copy\n",
      "  q1['average'] = q1.km / q1.age_in_days\n"
     ]
    },
    {
     "data": {
      "text/plain": [
       "[('lounge',\n",
       "  0       28.344671\n",
       "  3       58.415480\n",
       "  6       15.868673\n",
       "  7       32.265615\n",
       "  11      47.814208\n",
       "            ...    \n",
       "  1526    13.841642\n",
       "  1528    44.040545\n",
       "  1529    30.849521\n",
       "  1530    43.283582\n",
       "  1536    31.579977\n",
       "  Name: average, Length: 957, dtype: float64),\n",
       " ('pop',\n",
       "  1       27.403035\n",
       "  10      54.792405\n",
       "  13      31.290743\n",
       "  17      43.566352\n",
       "  26      34.521158\n",
       "            ...    \n",
       "  1524    24.315693\n",
       "  1527     5.802708\n",
       "  1532    27.129890\n",
       "  1535    27.196131\n",
       "  1537    30.733862\n",
       "  Name: average, Length: 306, dtype: float64),\n",
       " ('sport',\n",
       "  9       24.363537\n",
       "  27      28.320589\n",
       "  38      54.556962\n",
       "  40      28.750906\n",
       "  48      43.431053\n",
       "  49      23.281114\n",
       "  51      44.303797\n",
       "  67      44.121098\n",
       "  95      38.583411\n",
       "  114     25.385764\n",
       "  132     43.881645\n",
       "  148     16.883413\n",
       "  172     30.414520\n",
       "  214     27.611359\n",
       "  232     45.823195\n",
       "  357     18.389794\n",
       "  362     62.220010\n",
       "  412     42.875254\n",
       "  463      9.603235\n",
       "  528     83.172147\n",
       "  535     57.471264\n",
       "  556     56.998940\n",
       "  580     36.832413\n",
       "  589     30.282382\n",
       "  636     27.337468\n",
       "  650     37.281216\n",
       "  754     37.974684\n",
       "  775     19.706337\n",
       "  787     20.452433\n",
       "  867     25.694652\n",
       "  907     40.099683\n",
       "  984     21.019570\n",
       "  1016    24.642103\n",
       "  1037    55.865906\n",
       "  1051    24.203507\n",
       "  1063    80.997147\n",
       "  1075    55.865906\n",
       "  1083    28.427037\n",
       "  1143    29.525910\n",
       "  1155    19.798391\n",
       "  1197    22.295236\n",
       "  1240    51.062655\n",
       "  1295    34.983854\n",
       "  1332    55.865906\n",
       "  1406    35.322777\n",
       "  1498    42.857143\n",
       "  1501    42.898781\n",
       "  1504    21.980565\n",
       "  1533    31.056034\n",
       "  Name: average, dtype: float64)]"
      ]
     },
     "execution_count": 93,
     "metadata": {},
     "output_type": "execute_result"
    }
   ],
   "source": [
    "# =============================================================================\n",
    "# =============================================================================\n",
    "# # 문제 10 유형(DataSet_10.csv 이용)\n",
    "#\n",
    "# 구분자 : comma(“,”), 1538 Rows, 6 Columns, UTF-8 인코딩\n",
    "\n",
    "# 중고 자동차 가격에 대한 분석을 위하여 아래와 같은 데이터를\n",
    "# 확보하였다.\n",
    "\n",
    "# 컬 럼 / 정 의 / Type\n",
    "# model / 모델명 / String\n",
    "# engine_power / 엔진 파워 / Double\n",
    "# age_in_days / 운행 일수 / Double\n",
    "# km / 운행 거리 / Double\n",
    "# previous_owners / 이전 소유자 수 / Double\n",
    "# price / 중고차 가격 / Double\n",
    "# =============================================================================\n",
    "# =============================================================================\n",
    "\n",
    "# =============================================================================\n",
    "# (참고)\n",
    "# #1\n",
    "# import pandas as pd\n",
    "# import numpy as np\n",
    "# #2\n",
    "# import scipy.stats as ststs\n",
    "# #3\n",
    "# from sklearn.linear_model import LinearRegression\n",
    "# =============================================================================\n",
    "\n",
    "# =============================================================================\n",
    "# 1.이전 소유자 수가 한 명이고 엔진 파워가 51인 차에 대해 모델별 하루 평균 운행\n",
    "# 거리를 산출하였을 때 가장 낮은 값을 가진 모델이 가장 큰 값을 가진 모델에 대한\n",
    "# 비율은 얼마인가? 소수점 셋째 자리에서 반올림하여 소수점 둘째 자리까지\n",
    "# 기술하시오.\n",
    "# (모델별 평균 → 일평균 → 최대최소 비율 계산) (답안 예시) 0.12\n",
    "# =============================================================================\n",
    "data = pd.read_csv('./data/Dataset_10.csv')\n",
    "data = data.dropna(axis=1, how='all')\n",
    "q1 = data[(data.previous_owners == 1) & (data.engine_power == 51)]\n",
    "q1['average'] = q1.km / q1.age_in_days\n",
    "ratio = list(q1.groupby('model')['average'].max() / q1.groupby('model')['average'].min())\n",
    "m = list(q1.groupby('model')['average'])\n",
    "m\n",
    "daily_m = list()"
   ]
  },
  {
   "cell_type": "code",
   "execution_count": 46,
   "metadata": {},
   "outputs": [],
   "source": [
    "# =============================================================================\n",
    "# 2.운행 일수에 대한 운행 거리를 산출하고, 위 1번 문제에서 가장 큰 값을 가지고 있던\n",
    "# 모델과 가장 낮은 값을 가지고 있던 모델 간의 운행 일수 대비 운행거리 평균이 다른지\n",
    "# 적절한 통계 검정을 수행하고 p-value를 소수점 세자리 이하는 버리고 소수점\n",
    "# 두자리까지 기술하고 기각 여부를 Y / N로 답하시오. (등분산을 가정하고 equal_var = \n",
    "# True / var.equal = T로 분석을 실행하시오.)\n",
    "# (답안 예시) 0.23, Y\n",
    "# ============================================================================="
   ]
  },
  {
   "cell_type": "code",
   "execution_count": 47,
   "metadata": {},
   "outputs": [],
   "source": [
    "# =============================================================================\n",
    "# 3.독립변수로 engine_power, age_in_days, km를 사용하고 종속변수로 price를 사용하여\n",
    "# 모델별 선형회귀분석을 수행하고, 산출된 모형을 사용하여 다음과 같은 조건의\n",
    "# 중고차에 대한 가격을 예측하고 예측된 가격을 정수부만 기술하시오.\n",
    "# - model : pop / engine_power : 51 / age_in_days : 400 / km : 9500 / previous_owners : 2\n",
    "\n",
    "# (답안 예시) 12345\n",
    "# =============================================================================\n",
    "# model = pop이고 이전 소유자수가 2명인 데이터만을 이용하여 회귀모델을 생성하시오."
   ]
  }
 ],
 "metadata": {
  "interpreter": {
   "hash": "9e30e104fa17c260866f45c2015a884099ba44245f47b80d68b248bea09254b6"
  },
  "kernelspec": {
   "display_name": "Python 3.9.0 ('venv2')",
   "language": "python",
   "name": "python3"
  },
  "language_info": {
   "codemirror_mode": {
    "name": "ipython",
    "version": 3
   },
   "file_extension": ".py",
   "mimetype": "text/x-python",
   "name": "python",
   "nbconvert_exporter": "python",
   "pygments_lexer": "ipython3",
   "version": "3.9.0"
  },
  "orig_nbformat": 4
 },
 "nbformat": 4,
 "nbformat_minor": 2
}
