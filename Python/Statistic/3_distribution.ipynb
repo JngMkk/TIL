{
 "cells": [
  {
   "cell_type": "code",
   "execution_count": 2,
   "metadata": {},
   "outputs": [],
   "source": [
    "import numpy as np\n",
    "import pandas as pd\n",
    "from scipy import stats\n",
    "import matplotlib.pyplot as plt\n",
    "\n",
    "%precision 3\n",
    "np.random.seed(1111)"
   ]
  },
  {
   "cell_type": "code",
   "execution_count": 64,
   "metadata": {},
   "outputs": [
    {
     "data": {
      "text/plain": [
       "(69.53, 206.6691)"
      ]
     },
     "execution_count": 64,
     "metadata": {},
     "output_type": "execute_result"
    }
   ],
   "source": [
    "df = pd.read_csv('./data/ch4_scores400.csv')\n",
    "scores = np.array(df['score'])\n",
    "mean = np.mean(scores)\n",
    "var = np.var(scores)\n",
    "mean, var"
   ]
  },
  {
   "cell_type": "code",
   "execution_count": 65,
   "metadata": {},
   "outputs": [
    {
     "data": {
      "image/png": "[encoded data removed]",
      "text/plain": [
       "<Figure size 432x288 with 1 Axes>"
      ]
     },
     "metadata": {
      "needs_background": "light"
     },
     "output_type": "display_data"
    }
   ],
   "source": [
    "xs = np.arange(101)\n",
    "rv = stats.norm(mean, np.sqrt(var))\n",
    "plt.plot(xs, rv.pdf(xs), color='gray')\n",
    "plt.hist(scores, bins=100, range=(0,100), density=True)\n",
    "plt.show()"
   ]
  },
  {
   "cell_type": "code",
   "execution_count": 66,
   "metadata": {},
   "outputs": [
    {
     "data": {
      "text/plain": [
       "array([[87, 64, 76, 89, 50, 67, 86, 62, 77, 99, 83, 64, 61, 64, 93, 61,\n",
       "        89, 78, 56, 45],\n",
       "       [72, 34, 74, 63, 65, 74, 85, 69, 59, 92, 52, 73, 79, 46, 65, 83,\n",
       "        61, 61, 58, 64],\n",
       "       [68, 76, 29, 68, 79, 57, 77, 90, 79, 85, 59, 68, 93, 68, 56, 86,\n",
       "        72, 52, 84, 41],\n",
       "       [77, 63, 61, 84, 92, 79, 91, 49, 83, 60, 63, 65, 70, 93, 63, 63,\n",
       "        61, 87, 74, 59],\n",
       "       [60, 93, 80, 89, 90, 62, 23, 29, 63, 82, 89, 68, 59, 86, 80, 54,\n",
       "        46, 73, 67, 69]], dtype=int64)"
      ]
     },
     "execution_count": 66,
     "metadata": {},
     "output_type": "execute_result"
    }
   ],
   "source": [
    "sam = 10000\n",
    "n = 20\n",
    "samples = np.random.choice(scores, (sam, n))\n",
    "samples[:5]"
   ]
  },
  {
   "cell_type": "code",
   "execution_count": 67,
   "metadata": {},
   "outputs": [
    {
     "data": {
      "text/plain": [
       "1.9599639845400545"
      ]
     },
     "execution_count": 67,
     "metadata": {},
     "output_type": "execute_result"
    }
   ],
   "source": [
    "rv = stats.norm()\n",
    "rv.isf(0.025)"
   ]
  },
  {
   "cell_type": "code",
   "execution_count": 68,
   "metadata": {},
   "outputs": [
    {
     "data": {
      "text/plain": [
       "-1.959963984540054"
      ]
     },
     "execution_count": 68,
     "metadata": {},
     "output_type": "execute_result"
    }
   ],
   "source": [
    "rv.isf(0.975)"
   ]
  },
  {
   "cell_type": "code",
   "execution_count": 69,
   "metadata": {},
   "outputs": [
    {
     "data": {
      "image/png": "[encoded data removed]",
      "text/plain": [
       "<Figure size 432x288 with 1 Axes>"
      ]
     },
     "metadata": {
      "needs_background": "light"
     },
     "output_type": "display_data"
    }
   ],
   "source": [
    "# 모분산을 아는 경우 95% 신뢰구간 : 정규분포 이용\n",
    "rv = stats.norm()\n",
    "n_samples = 20\n",
    "n = 20\n",
    "plt.vlines(mean, 0, 21)\n",
    "for i in range(n_samples):\n",
    "    sample_ = samples[i]\n",
    "    mean = np.mean(sample_)\n",
    "    lcl = mean - rv.isf(0.025) * np.sqrt(var/n)\n",
    "    ucl = mean + rv.isf(0.025) * np.sqrt(var/n)\n",
    "#   ucl = mean - rv.isf(0.975) * np.sqrt(var/n)\n",
    "    if lcl <= mean <= ucl:\n",
    "        plt.scatter(mean, n_samples-i, color='gray')\n",
    "        plt.hlines(n_samples-i, lcl, ucl, color='gray')\n",
    "    else:\n",
    "        plt.scatter(mean, n_samples-i, color='b')\n",
    "        plt.hlines(n_samples-i, lcl, ucl, color='b')\n",
    "\n",
    "plt.xticks([mean])\n",
    "plt.xlabel('population mean')\n",
    "plt.show()"
   ]
  },
  {
   "cell_type": "code",
   "execution_count": 10,
   "metadata": {},
   "outputs": [
    {
     "data": {
      "text/plain": [
       "array([122.02, 131.73, 130.6 , 131.82, 132.05, 126.12, 124.43, 132.89,\n",
       "       122.79, 129.95, 126.14, 134.45, 127.64, 125.68])"
      ]
     },
     "execution_count": 10,
     "metadata": {},
     "output_type": "execute_result"
    }
   ],
   "source": [
    "df = pd.read_csv('./data/ch11_potato.csv')\n",
    "sample = np.array(df['무게'])\n",
    "sample"
   ]
  },
  {
   "cell_type": "code",
   "execution_count": 11,
   "metadata": {},
   "outputs": [
    {
     "data": {
      "text/plain": [
       "128.4507142857143"
      ]
     },
     "execution_count": 11,
     "metadata": {},
     "output_type": "execute_result"
    }
   ],
   "source": [
    "mean = np.mean(sample)\n",
    "mean"
   ]
  },
  {
   "cell_type": "code",
   "execution_count": 13,
   "metadata": {},
   "outputs": [
    {
     "data": {
      "text/plain": [
       "14.735449489795883"
      ]
     },
     "execution_count": 13,
     "metadata": {},
     "output_type": "execute_result"
    }
   ],
   "source": [
    "var = np.var(sample)\n",
    "var"
   ]
  },
  {
   "cell_type": "code",
   "execution_count": 14,
   "metadata": {},
   "outputs": [
    {
     "data": {
      "text/plain": [
       "128.7145155797663"
      ]
     },
     "execution_count": 14,
     "metadata": {},
     "output_type": "execute_result"
    }
   ],
   "source": [
    "# 모분산 = 9\n",
    "rv = stats.norm(130, np.sqrt(9/var))\n",
    "rv.isf(0.95)"
   ]
  },
  {
   "cell_type": "code",
   "execution_count": 17,
   "metadata": {},
   "outputs": [
    {
     "data": {
      "text/plain": [
       "-1.932298779026813"
      ]
     },
     "execution_count": 17,
     "metadata": {},
     "output_type": "execute_result"
    }
   ],
   "source": [
    "# 검정 통계량 Z\n",
    "Z = (mean - 130) / np.sqrt(9/14)\n",
    "Z"
   ]
  },
  {
   "cell_type": "code",
   "execution_count": 25,
   "metadata": {},
   "outputs": [
    {
     "data": {
      "text/plain": [
       "0.026661319523126635"
      ]
     },
     "execution_count": 25,
     "metadata": {},
     "output_type": "execute_result"
    }
   ],
   "source": [
    "rv.cdf(Z)"
   ]
  },
  {
   "cell_type": "code",
   "execution_count": 18,
   "metadata": {},
   "outputs": [
    {
     "data": {
      "text/plain": [
       "-1.6448536269514722"
      ]
     },
     "execution_count": 18,
     "metadata": {},
     "output_type": "execute_result"
    }
   ],
   "source": [
    "rv = stats.norm()\n",
    "rv.isf(0.95)"
   ]
  },
  {
   "cell_type": "code",
   "execution_count": 19,
   "metadata": {},
   "outputs": [
    {
     "data": {
      "text/plain": [
       "(-1.959963984540054, 1.959963984540054)"
      ]
     },
     "execution_count": 19,
     "metadata": {},
     "output_type": "execute_result"
    }
   ],
   "source": [
    "rv.interval(0.95)"
   ]
  },
  {
   "cell_type": "code",
   "execution_count": 24,
   "metadata": {},
   "outputs": [
    {
     "data": {
      "text/plain": [
       "0.05332263904625327"
      ]
     },
     "execution_count": 24,
     "metadata": {},
     "output_type": "execute_result"
    }
   ],
   "source": [
    "# 양측 검정의 p값\n",
    "rv.cdf(Z)*2"
   ]
  },
  {
   "cell_type": "code",
   "execution_count": 26,
   "metadata": {},
   "outputs": [],
   "source": [
    "# 모분산을 아는 경우 모평균에 대한 양측검정\n",
    "# 정규분포\n",
    "def pmean_test(sample, mean0, p_var, alpha=0.05):\n",
    "    s_mean = np.mean(sample)\n",
    "    n = len(sample)\n",
    "    rv = stats.norm()\n",
    "    interval = rv.interval(1-alpha)\n",
    "\n",
    "    z = (s_mean - mean0) / np.sqrt(p_var/n)\n",
    "    if interval[0] <= z <= interval[1]:\n",
    "        print('귀무가설을 채택')\n",
    "    else:\n",
    "        print('귀무가설을 기각')\n",
    "\n",
    "    if z < 0:\n",
    "        p = rv.cdf(z) * 2\n",
    "    else:\n",
    "        p = (1 - rv.cdf(z)) * 2\n",
    "    print(f'p값은 {p:.3f}')"
   ]
  },
  {
   "cell_type": "code",
   "execution_count": 27,
   "metadata": {},
   "outputs": [],
   "source": [
    "def pmean_test(sample, mean0, alpha=0.05):\n",
    "    s_mean = np.mean(sample)\n",
    "    u_var = np.var(sample, ddof=1)\n",
    "    n = len(sample)\n",
    "    rv = stats.t(df=n-1)\n",
    "    interval = rv.interval(1-alpha)\n",
    "\n",
    "    t = (s_mean - mean0) / np.sqrt(u_var/n)\n",
    "    if interval[0] <= t <= interval[1]:\n",
    "        print('귀무가설을 채택')\n",
    "    else:\n",
    "        print('귀무가설을 기각')\n",
    "\n",
    "    if t < 0:\n",
    "        p = rv.cdf(t) * 2\n",
    "    else:\n",
    "        p = (1 - rv.cdf(t)) * 2\n",
    "    print(f'p값은 {p:.3f}')"
   ]
  },
  {
   "cell_type": "code",
   "execution_count": 28,
   "metadata": {},
   "outputs": [
    {
     "name": "stdout",
     "output_type": "stream",
     "text": [
      "귀무가설을 채택\n",
      "p값은 0.169\n"
     ]
    }
   ],
   "source": [
    "pmean_test(sample, 130)"
   ]
  },
  {
   "cell_type": "code",
   "execution_count": 29,
   "metadata": {},
   "outputs": [
    {
     "data": {
      "text/plain": [
       "(-1.4551960206404198, 0.16933464230414275)"
      ]
     },
     "execution_count": 29,
     "metadata": {},
     "output_type": "execute_result"
    }
   ],
   "source": [
    "t, p = stats.ttest_1samp(sample, 130)\n",
    "t, p"
   ]
  },
  {
   "cell_type": "code",
   "execution_count": 31,
   "metadata": {},
   "outputs": [],
   "source": [
    "data = pd.read_csv('./data/ch11_training_rel.csv')"
   ]
  },
  {
   "cell_type": "code",
   "execution_count": 32,
   "metadata": {},
   "outputs": [
    {
     "data": {
      "text/html": [
       "<div>\n",
       "<style scoped>\n",
       "    .dataframe tbody tr th:only-of-type {\n",
       "        vertical-align: middle;\n",
       "    }\n",
       "\n",
       "    .dataframe tbody tr th {\n",
       "        vertical-align: top;\n",
       "    }\n",
       "\n",
       "    .dataframe thead th {\n",
       "        text-align: right;\n",
       "    }\n",
       "</style>\n",
       "<table border=\"1\" class=\"dataframe\">\n",
       "  <thead>\n",
       "    <tr style=\"text-align: right;\">\n",
       "      <th></th>\n",
       "      <th>전</th>\n",
       "      <th>후</th>\n",
       "    </tr>\n",
       "  </thead>\n",
       "  <tbody>\n",
       "    <tr>\n",
       "      <th>count</th>\n",
       "      <td>20.000000</td>\n",
       "      <td>20.000000</td>\n",
       "    </tr>\n",
       "    <tr>\n",
       "      <th>mean</th>\n",
       "      <td>52.850000</td>\n",
       "      <td>58.250000</td>\n",
       "    </tr>\n",
       "    <tr>\n",
       "      <th>std</th>\n",
       "      <td>4.295346</td>\n",
       "      <td>11.964311</td>\n",
       "    </tr>\n",
       "    <tr>\n",
       "      <th>min</th>\n",
       "      <td>45.000000</td>\n",
       "      <td>37.000000</td>\n",
       "    </tr>\n",
       "    <tr>\n",
       "      <th>25%</th>\n",
       "      <td>50.500000</td>\n",
       "      <td>51.750000</td>\n",
       "    </tr>\n",
       "    <tr>\n",
       "      <th>50%</th>\n",
       "      <td>52.000000</td>\n",
       "      <td>58.500000</td>\n",
       "    </tr>\n",
       "    <tr>\n",
       "      <th>75%</th>\n",
       "      <td>55.500000</td>\n",
       "      <td>65.750000</td>\n",
       "    </tr>\n",
       "    <tr>\n",
       "      <th>max</th>\n",
       "      <td>61.000000</td>\n",
       "      <td>84.000000</td>\n",
       "    </tr>\n",
       "  </tbody>\n",
       "</table>\n",
       "</div>"
      ],
      "text/plain": [
       "               전          후\n",
       "count  20.000000  20.000000\n",
       "mean   52.850000  58.250000\n",
       "std     4.295346  11.964311\n",
       "min    45.000000  37.000000\n",
       "25%    50.500000  51.750000\n",
       "50%    52.000000  58.500000\n",
       "75%    55.500000  65.750000\n",
       "max    61.000000  84.000000"
      ]
     },
     "execution_count": 32,
     "metadata": {},
     "output_type": "execute_result"
    }
   ],
   "source": [
    "data.describe()"
   ]
  },
  {
   "cell_type": "code",
   "execution_count": 33,
   "metadata": {},
   "outputs": [
    {
     "data": {
      "text/plain": [
       "{'whiskers': [<matplotlib.lines.Line2D at 0x26174160070>,\n",
       "  <matplotlib.lines.Line2D at 0x26174160400>,\n",
       "  <matplotlib.lines.Line2D at 0x2617416d9d0>,\n",
       "  <matplotlib.lines.Line2D at 0x2617416dd60>],\n",
       " 'caps': [<matplotlib.lines.Line2D at 0x26174160790>,\n",
       "  <matplotlib.lines.Line2D at 0x26174160b20>,\n",
       "  <matplotlib.lines.Line2D at 0x26174179130>,\n",
       "  <matplotlib.lines.Line2D at 0x261741794c0>],\n",
       " 'boxes': [<matplotlib.lines.Line2D at 0x26174155ca0>,\n",
       "  <matplotlib.lines.Line2D at 0x2617416d640>],\n",
       " 'medians': [<matplotlib.lines.Line2D at 0x26174160eb0>,\n",
       "  <matplotlib.lines.Line2D at 0x26174179850>],\n",
       " 'fliers': [<matplotlib.lines.Line2D at 0x2617416d280>,\n",
       "  <matplotlib.lines.Line2D at 0x26174179be0>],\n",
       " 'means': []}"
      ]
     },
     "execution_count": 33,
     "metadata": {},
     "output_type": "execute_result"
    },
    {
     "data": {
      "image/png": "[encoded data removed]",
      "text/plain": [
       "<Figure size 432x288 with 1 Axes>"
      ]
     },
     "metadata": {
      "needs_background": "light"
     },
     "output_type": "display_data"
    }
   ],
   "source": [
    "plt.boxplot(data)"
   ]
  },
  {
   "cell_type": "code",
   "execution_count": 36,
   "metadata": {},
   "outputs": [
    {
     "data": {
      "text/plain": [
       "ShapiroResult(statistic=0.9670043587684631, pvalue=0.6907904148101807)"
      ]
     },
     "execution_count": 36,
     "metadata": {},
     "output_type": "execute_result"
    }
   ],
   "source": [
    "stats.shapiro(data.전)"
   ]
  },
  {
   "cell_type": "code",
   "execution_count": 37,
   "metadata": {},
   "outputs": [
    {
     "data": {
      "text/plain": [
       "ShapiroResult(statistic=0.9786623120307922, pvalue=0.9156785011291504)"
      ]
     },
     "execution_count": 37,
     "metadata": {},
     "output_type": "execute_result"
    }
   ],
   "source": [
    "stats.shapiro(data.후)"
   ]
  },
  {
   "cell_type": "code",
   "execution_count": 38,
   "metadata": {},
   "outputs": [
    {
     "data": {
      "text/plain": [
       "0     18\n",
       "1    -11\n",
       "2    -13\n",
       "3      2\n",
       "4    -25\n",
       "5      8\n",
       "6     -5\n",
       "7     -3\n",
       "8    -19\n",
       "9    -18\n",
       "10    -6\n",
       "11    -8\n",
       "12     3\n",
       "13    13\n",
       "14    -2\n",
       "15    -6\n",
       "16   -16\n",
       "17   -16\n",
       "18    -2\n",
       "19    -2\n",
       "dtype: int64"
      ]
     },
     "execution_count": 38,
     "metadata": {},
     "output_type": "execute_result"
    }
   ],
   "source": [
    "diff = data.전 - data.후\n",
    "diff"
   ]
  },
  {
   "cell_type": "code",
   "execution_count": 39,
   "metadata": {},
   "outputs": [
    {
     "data": {
      "text/plain": [
       "Ttest_1sampResult(statistic=-2.204154108716127, pvalue=0.04004419061842953)"
      ]
     },
     "execution_count": 39,
     "metadata": {},
     "output_type": "execute_result"
    }
   ],
   "source": [
    "stats.ttest_1samp(data.전 - data.후, 0)\n",
    "# 귀무가설 기각"
   ]
  },
  {
   "cell_type": "code",
   "execution_count": 40,
   "metadata": {},
   "outputs": [],
   "source": [
    "# 독립된 두 집단 평균 비교\n",
    "# 독립성\n",
    "# 정규성\n",
    "# 등분산성\n",
    "data = pd.read_csv('./data/ch11_training_ind.csv')"
   ]
  },
  {
   "cell_type": "code",
   "execution_count": 41,
   "metadata": {},
   "outputs": [
    {
     "data": {
      "text/html": [
       "<div>\n",
       "<style scoped>\n",
       "    .dataframe tbody tr th:only-of-type {\n",
       "        vertical-align: middle;\n",
       "    }\n",
       "\n",
       "    .dataframe tbody tr th {\n",
       "        vertical-align: top;\n",
       "    }\n",
       "\n",
       "    .dataframe thead th {\n",
       "        text-align: right;\n",
       "    }\n",
       "</style>\n",
       "<table border=\"1\" class=\"dataframe\">\n",
       "  <thead>\n",
       "    <tr style=\"text-align: right;\">\n",
       "      <th></th>\n",
       "      <th>A</th>\n",
       "      <th>B</th>\n",
       "    </tr>\n",
       "  </thead>\n",
       "  <tbody>\n",
       "    <tr>\n",
       "      <th>count</th>\n",
       "      <td>20.000000</td>\n",
       "      <td>20.000000</td>\n",
       "    </tr>\n",
       "    <tr>\n",
       "      <th>mean</th>\n",
       "      <td>48.750000</td>\n",
       "      <td>52.050000</td>\n",
       "    </tr>\n",
       "    <tr>\n",
       "      <th>std</th>\n",
       "      <td>6.711145</td>\n",
       "      <td>5.020746</td>\n",
       "    </tr>\n",
       "    <tr>\n",
       "      <th>min</th>\n",
       "      <td>37.000000</td>\n",
       "      <td>41.000000</td>\n",
       "    </tr>\n",
       "    <tr>\n",
       "      <th>25%</th>\n",
       "      <td>44.750000</td>\n",
       "      <td>49.000000</td>\n",
       "    </tr>\n",
       "    <tr>\n",
       "      <th>50%</th>\n",
       "      <td>48.500000</td>\n",
       "      <td>52.000000</td>\n",
       "    </tr>\n",
       "    <tr>\n",
       "      <th>75%</th>\n",
       "      <td>53.000000</td>\n",
       "      <td>54.250000</td>\n",
       "    </tr>\n",
       "    <tr>\n",
       "      <th>max</th>\n",
       "      <td>64.000000</td>\n",
       "      <td>64.000000</td>\n",
       "    </tr>\n",
       "  </tbody>\n",
       "</table>\n",
       "</div>"
      ],
      "text/plain": [
       "               A          B\n",
       "count  20.000000  20.000000\n",
       "mean   48.750000  52.050000\n",
       "std     6.711145   5.020746\n",
       "min    37.000000  41.000000\n",
       "25%    44.750000  49.000000\n",
       "50%    48.500000  52.000000\n",
       "75%    53.000000  54.250000\n",
       "max    64.000000  64.000000"
      ]
     },
     "execution_count": 41,
     "metadata": {},
     "output_type": "execute_result"
    }
   ],
   "source": [
    "data.describe()"
   ]
  },
  {
   "cell_type": "code",
   "execution_count": 42,
   "metadata": {},
   "outputs": [
    {
     "data": {
      "text/plain": [
       "ShapiroResult(statistic=0.9685941338539124, pvalue=0.7249506711959839)"
      ]
     },
     "execution_count": 42,
     "metadata": {},
     "output_type": "execute_result"
    }
   ],
   "source": [
    "# 정규성검정\n",
    "stats.shapiro(data.A)"
   ]
  },
  {
   "cell_type": "code",
   "execution_count": 43,
   "metadata": {},
   "outputs": [
    {
     "data": {
      "text/plain": [
       "ShapiroResult(statistic=0.9730017781257629, pvalue=0.8165717720985413)"
      ]
     },
     "execution_count": 43,
     "metadata": {},
     "output_type": "execute_result"
    }
   ],
   "source": [
    "stats.shapiro(data.B)"
   ]
  },
  {
   "cell_type": "code",
   "execution_count": 44,
   "metadata": {},
   "outputs": [
    {
     "data": {
      "text/plain": [
       "LeveneResult(statistic=2.061573118077718, pvalue=0.15923550057222613)"
      ]
     },
     "execution_count": 44,
     "metadata": {},
     "output_type": "execute_result"
    }
   ],
   "source": [
    "# 등분산성 검정\n",
    "# 귀무가설 : 분산이 같다\n",
    "stats.levene(data.A, data.B)"
   ]
  },
  {
   "cell_type": "code",
   "execution_count": 45,
   "metadata": {},
   "outputs": [
    {
     "data": {
      "text/plain": [
       "Ttest_indResult(statistic=-1.7608157246524712, pvalue=0.08631600572195147)"
      ]
     },
     "execution_count": 45,
     "metadata": {},
     "output_type": "execute_result"
    }
   ],
   "source": [
    "# 독립표본 t검정\n",
    "# equal_var = False : 웰치 방법\n",
    "stats.ttest_ind(data.A, data.B, equal_var = True)"
   ]
  },
  {
   "cell_type": "code",
   "execution_count": 46,
   "metadata": {},
   "outputs": [
    {
     "data": {
      "text/plain": [
       "Ttest_indResult(statistic=-1.760815724652471, pvalue=0.08695731107259361)"
      ]
     },
     "execution_count": 46,
     "metadata": {},
     "output_type": "execute_result"
    }
   ],
   "source": [
    "stats.ttest_ind(data.A, data.B, equal_var = False)"
   ]
  },
  {
   "cell_type": "code",
   "execution_count": 47,
   "metadata": {},
   "outputs": [],
   "source": [
    "# 정규성 만족하지 않는 경우\n",
    "# 대응표본 ttest 윌콕슨 stats.wilcoxon(전, 후)\n",
    "# 독립표본 ttest 맨휘트니 U검정 stats.manwhitneyu(A, B, alternative = 'two-sided')"
   ]
  },
  {
   "cell_type": "code",
   "execution_count": 48,
   "metadata": {},
   "outputs": [
    {
     "data": {
      "text/plain": [
       "WilcoxonResult(statistic=49.5, pvalue=0.03623390197753906)"
      ]
     },
     "execution_count": 48,
     "metadata": {},
     "output_type": "execute_result"
    }
   ],
   "source": [
    "stats.wilcoxon(diff)"
   ]
  },
  {
   "cell_type": "code",
   "execution_count": 49,
   "metadata": {},
   "outputs": [
    {
     "data": {
      "text/plain": [
       "MannwhitneyuResult(statistic=130.0, pvalue=0.05948611166127324)"
      ]
     },
     "execution_count": 49,
     "metadata": {},
     "output_type": "execute_result"
    }
   ],
   "source": [
    "stats.mannwhitneyu(data.A, data.B, alternative='two-sided')"
   ]
  },
  {
   "cell_type": "code",
   "execution_count": 51,
   "metadata": {},
   "outputs": [],
   "source": [
    "# 범주형 데이터에 대하여 : 카이제곱 분포 근거\n",
    "# 1. 적합도 검정 : 한 표본데이터가 어떤 분포를 하는지?\n",
    "# 2. 동질성 검정 : 두 범주형 데이터가 동일한 분포를 하는지?\n",
    "# 3. 독립성 검정 : 두 범주형 데이터가 서로 관련성이 있는지?\n",
    "# 카이제곱 통계량 = (관측값 - 기대값)^2 / 기대값"
   ]
  },
  {
   "cell_type": "code",
   "execution_count": 54,
   "metadata": {},
   "outputs": [
    {
     "data": {
      "text/html": [
       "<div>\n",
       "<style scoped>\n",
       "    .dataframe tbody tr th:only-of-type {\n",
       "        vertical-align: middle;\n",
       "    }\n",
       "\n",
       "    .dataframe tbody tr th {\n",
       "        vertical-align: top;\n",
       "    }\n",
       "\n",
       "    .dataframe thead th {\n",
       "        text-align: right;\n",
       "    }\n",
       "</style>\n",
       "<table border=\"1\" class=\"dataframe\">\n",
       "  <thead>\n",
       "    <tr style=\"text-align: right;\">\n",
       "      <th></th>\n",
       "      <th>광고</th>\n",
       "      <th>구입</th>\n",
       "    </tr>\n",
       "  </thead>\n",
       "  <tbody>\n",
       "    <tr>\n",
       "      <th>0</th>\n",
       "      <td>B</td>\n",
       "      <td>하지 않았다</td>\n",
       "    </tr>\n",
       "    <tr>\n",
       "      <th>1</th>\n",
       "      <td>B</td>\n",
       "      <td>하지 않았다</td>\n",
       "    </tr>\n",
       "    <tr>\n",
       "      <th>2</th>\n",
       "      <td>A</td>\n",
       "      <td>했다</td>\n",
       "    </tr>\n",
       "    <tr>\n",
       "      <th>3</th>\n",
       "      <td>A</td>\n",
       "      <td>했다</td>\n",
       "    </tr>\n",
       "    <tr>\n",
       "      <th>4</th>\n",
       "      <td>B</td>\n",
       "      <td>하지 않았다</td>\n",
       "    </tr>\n",
       "  </tbody>\n",
       "</table>\n",
       "</div>"
      ],
      "text/plain": [
       "  광고      구입\n",
       "0  B  하지 않았다\n",
       "1  B  하지 않았다\n",
       "2  A      했다\n",
       "3  A      했다\n",
       "4  B  하지 않았다"
      ]
     },
     "execution_count": 54,
     "metadata": {},
     "output_type": "execute_result"
    }
   ],
   "source": [
    "data = pd.read_csv('./data/ch11_ad.csv')\n",
    "data.head()"
   ]
  },
  {
   "cell_type": "code",
   "execution_count": 55,
   "metadata": {},
   "outputs": [
    {
     "data": {
      "text/html": [
       "<div>\n",
       "<style scoped>\n",
       "    .dataframe tbody tr th:only-of-type {\n",
       "        vertical-align: middle;\n",
       "    }\n",
       "\n",
       "    .dataframe tbody tr th {\n",
       "        vertical-align: top;\n",
       "    }\n",
       "\n",
       "    .dataframe thead th {\n",
       "        text-align: right;\n",
       "    }\n",
       "</style>\n",
       "<table border=\"1\" class=\"dataframe\">\n",
       "  <thead>\n",
       "    <tr style=\"text-align: right;\">\n",
       "      <th>구입</th>\n",
       "      <th>하지 않았다</th>\n",
       "      <th>했다</th>\n",
       "    </tr>\n",
       "    <tr>\n",
       "      <th>광고</th>\n",
       "      <th></th>\n",
       "      <th></th>\n",
       "    </tr>\n",
       "  </thead>\n",
       "  <tbody>\n",
       "    <tr>\n",
       "      <th>A</th>\n",
       "      <td>351</td>\n",
       "      <td>49</td>\n",
       "    </tr>\n",
       "    <tr>\n",
       "      <th>B</th>\n",
       "      <td>549</td>\n",
       "      <td>51</td>\n",
       "    </tr>\n",
       "  </tbody>\n",
       "</table>\n",
       "</div>"
      ],
      "text/plain": [
       "구입  하지 않았다  했다\n",
       "광고            \n",
       "A      351  49\n",
       "B      549  51"
      ]
     },
     "execution_count": 55,
     "metadata": {},
     "output_type": "execute_result"
    }
   ],
   "source": [
    "# 교차표 작성\n",
    "cross = pd.crosstab(data.광고, data.구입)\n",
    "cross"
   ]
  },
  {
   "cell_type": "code",
   "execution_count": 57,
   "metadata": {},
   "outputs": [
    {
     "data": {
      "text/plain": [
       "(3.75,\n",
       " 0.052807511416113395,\n",
       " 1,\n",
       " array([[360.,  40.],\n",
       "        [540.,  60.]]))"
      ]
     },
     "execution_count": 57,
     "metadata": {},
     "output_type": "execute_result"
    }
   ],
   "source": [
    "# 카이제곱 검정\n",
    "# 두 범주형 변수가 서로 독립적인지 검정\n",
    "# 귀무가설 : 독립\n",
    "stat, p, df, exp_tap = stats.chi2_contingency(cross, correction=False)\n",
    "# 통계량, p-value, 자유도, 기대값\n",
    "stat, p, df, exp_tap"
   ]
  }
 ],
 "metadata": {
  "interpreter": {
   "hash": "651c12411072babf488ffa85eb5cda969fee76a9e1aa69b19ba13d9ed7cb3552"
  },
  "kernelspec": {
   "display_name": "Python 3.9.7 64-bit ('base': conda)",
   "language": "python",
   "name": "python3"
  },
  "language_info": {
   "codemirror_mode": {
    "name": "ipython",
    "version": 3
   },
   "file_extension": ".py",
   "mimetype": "text/x-python",
   "name": "python",
   "nbconvert_exporter": "python",
   "pygments_lexer": "ipython3",
   "version": "3.9.7"
  },
  "orig_nbformat": 4
 },
 "nbformat": 4,
 "nbformat_minor": 2
}
